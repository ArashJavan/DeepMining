{
 "metadata": {
  "name": "",
  "signature": "sha256:a5495654706248dbfd71c12e201631744308dbcaf29ad48b43abd9456f1a111a"
 },
 "nbformat": 3,
 "nbformat_minor": 0,
 "worksheets": [
  {
   "cells": [
    {
     "cell_type": "code",
     "collapsed": false,
     "input": [
      "import os\n",
      "from sklearn.feature_extraction.text import CountVectorizer\n",
      "from sklearn.ensemble import RandomForestClassifier\n",
      "from sklearn.gaussian_process import GaussianProcess\n",
      "import pandas as pd\n",
      "import numpy as np\n",
      "from KaggleWord2VecUtility import KaggleWord2VecUtility  ## don't remove stopwords\n",
      "from random import randint\n",
      "from sklearn import tree,ensemble\n",
      "from sklearn.feature_selection import SelectKBest, chi2\n",
      "import matplotlib.pyplot as plt\n",
      "%pylab inline\n",
      "from sets import Set\n",
      "from smart_sampling import smartSampling"
     ],
     "language": "python",
     "metadata": {},
     "outputs": [
      {
       "output_type": "stream",
       "stream": "stdout",
       "text": [
        "Populating the interactive namespace from numpy and matplotlib\n"
       ]
      },
      {
       "output_type": "stream",
       "stream": "stderr",
       "text": [
        "WARNING: pylab import has clobbered these variables: ['randint']\n",
        "`%matplotlib` prevents importing * from pylab and numpy\n"
       ]
      }
     ],
     "prompt_number": 1
    },
    {
     "cell_type": "code",
     "collapsed": false,
     "input": [
      "data = pd.read_csv(os.path.join('labeledTrainData.tsv'), header=0, \\\n",
      "                delimiter=\"\\t\", quoting=3)\n",
      "print 'The first review is:'\n",
      "print data[\"review\"][0]"
     ],
     "language": "python",
     "metadata": {},
     "outputs": [
      {
       "output_type": "stream",
       "stream": "stdout",
       "text": [
        "The first review is:\n",
        "\"With all this stuff going down at the moment with MJ i've started listening to his music, watching the odd documentary here and there, watched The Wiz and watched Moonwalker again. Maybe i just want to get a certain insight into this guy who i thought was really cool in the eighties just to maybe make up my mind whether he is guilty or innocent. Moonwalker is part biography, part feature film which i remember going to see at the cinema when it was originally released. Some of it has subtle messages about MJ's feeling towards the press and also the obvious message of drugs are bad m'kay.<br /><br />Visually impressive but of course this is all about Michael Jackson so unless you remotely like MJ in anyway then you are going to hate this and find it boring. Some may call MJ an egotist for consenting to the making of this movie BUT MJ and most of his fans would say that he made it for the fans which if true is really nice of him.<br /><br />The actual feature film bit when it finally starts is only on for 20 minutes or so excluding the Smooth Criminal sequence and Joe Pesci is convincing as a psychopathic all powerful drug lord. Why he wants MJ dead so bad is beyond me. Because MJ overheard his plans? Nah, Joe Pesci's character ranted that he wanted people to know it is he who is supplying drugs etc so i dunno, maybe he just hates MJ's music.<br /><br />Lots of cool things in this like MJ turning into a car and a robot and the whole Speed Demon sequence. Also, the director must have had the patience of a saint when it came to filming the kiddy Bad sequence as usually directors hate working with one kid let alone a whole bunch of them performing a complex dance scene.<br /><br />Bottom line, this movie is for people who like MJ on one level or another (which i think is most people). If not, then stay away. It does try and give off a wholesome message and ironically MJ's bestest buddy in this movie is a girl! Michael Jackson is truly one of the most talented people ever to grace this planet but is he guilty? Well, with all the attention i've gave this subject....hmmm well i don't know because people can be different behind closed doors, i know this for a fact. He is either an extremely nice but stupid guy or one of the most sickest liars. I hope he is not the latter.\"\n"
       ]
      }
     ],
     "prompt_number": 2
    },
    {
     "cell_type": "code",
     "collapsed": false,
     "input": [
      "# Initialize an empty list to hold the clean reviews\n",
      "clean_reviews = []\n",
      "\n",
      "# Loop over each review; create an index i that goes from 0 to the length\n",
      "# of the movie review list\n",
      "print \"Cleaning and parsing the training set movie reviews...\\n\"\n",
      "for i in xrange( 0, len(data[\"review\"])):\n",
      "    clean_reviews.append(\" \".join(KaggleWord2VecUtility.review_to_wordlist(data[\"review\"][i], True)))\n",
      "print clean_reviews[0]"
     ],
     "language": "python",
     "metadata": {},
     "outputs": [
      {
       "output_type": "stream",
       "stream": "stdout",
       "text": [
        "Cleaning and parsing the training set movie reviews...\n",
        "\n",
        "with all this stuff going down at the moment with mj i ve started listening to his music watching the odd documentary here and there watched the wiz and watched moonwalker again maybe i just want to get a certain insight into this guy who i thought was really cool in the eighties just to maybe make up my mind whether he is guilty or innocent moonwalker is part biography part feature film which i remember going to see at the cinema when it was originally released some of it has subtle messages about mj s feeling towards the press and also the obvious message of drugs are bad m kay visually impressive but of course this is all about michael jackson so unless you remotely like mj in anyway then you are going to hate this and find it boring some may call mj an egotist for consenting to the making of this movie but mj and most of his fans would say that he made it for the fans which if true is really nice of him the actual feature film bit when it finally starts is only on for minutes or so excluding the smooth criminal sequence and joe pesci is convincing as a psychopathic all powerful drug lord why he wants mj dead so bad is beyond me because mj overheard his plans nah joe pesci s character ranted that he wanted people to know it is he who is supplying drugs etc so i dunno maybe he just hates mj s music lots of cool things in this like mj turning into a car and a robot and the whole speed demon sequence also the director must have had the patience of a saint when it came to filming the kiddy bad sequence as usually directors hate working with one kid let alone a whole bunch of them performing a complex dance scene bottom line this movie is for people who like mj on one level or another which i think is most people if not then stay away it does try and give off a wholesome message and ironically mj s bestest buddy in this movie is a girl michael jackson is truly one of the most talented people ever to grace this planet but is he guilty well with all the attention i ve gave this subject hmmm well i don t know because people can be different behind closed doors i know this for a fact he is either an extremely nice but stupid guy or one of the most sickest liars i hope he is not the latter"
       ]
      },
      {
       "output_type": "stream",
       "stream": "stdout",
       "text": [
        "\n"
       ]
      }
     ],
     "prompt_number": 3
    },
    {
     "cell_type": "code",
     "collapsed": false,
     "input": [
      "nb_reviews = len(clean_reviews)\n",
      "print nb_reviews\n",
      "pop_size = 500\n",
      "print 'keep only',pop_size\n",
      "\n",
      "training_reviews = clean_reviews[:pop_size]\n",
      "test_reviews = clean_reviews[pop_size:(2*pop_size)]\n",
      "\n",
      "training_labels = np.asarray(data[\"sentiment\"][:pop_size])\n",
      "test_labels =  np.asarray(data[\"sentiment\"][pop_size:(2*pop_size)])\n",
      "print training_labels[:5]"
     ],
     "language": "python",
     "metadata": {},
     "outputs": [
      {
       "output_type": "stream",
       "stream": "stdout",
       "text": [
        "25000\n",
        "keep only 500\n",
        "[1 1 0 0 1]\n"
       ]
      }
     ],
     "prompt_number": 4
    },
    {
     "cell_type": "code",
     "collapsed": false,
     "input": [
      "def scoring_function(parameters):\n",
      "    nb_features,n_estimators = parameters\n",
      "    nb_features = np.int(nb_features)\n",
      "    n_estimators = np.int(n_estimators)\n",
      "    # Initialize the \"CountVectorizer\" object, which is scikit-learn's\n",
      "    # bag of words tool.\n",
      "    vectorizer = CountVectorizer(analyzer = \"word\",   \\\n",
      "                             tokenizer = None,    \\\n",
      "                             preprocessor = None, \\\n",
      "                             stop_words = None,   \\\n",
      "                             max_features = nb_features)\n",
      "\n",
      "    # fit_transform() does two functions: First, it fits the model\n",
      "    # and learns the vocabulary; second, it transforms our training data\n",
      "    # into feature vectors. The input to fit_transform should be a list of\n",
      "    # strings.\n",
      "    train_data_features = vectorizer.fit_transform(training_reviews)\n",
      "    ch2 = SelectKBest(chi2, k=final_nb)\n",
      "    ch2.fit(train_data_features,training_labels)\n",
      "    chiSQ_val = ch2.scores_\n",
      "    #print chiSQ_val[:10]\n",
      "    index = np.argsort(chiSQ_val)[::-1]\n",
      "    idx = index[:final_nb]\n",
      "    test_data_features = vectorizer.transform(test_reviews)\n",
      "    \n",
      "    # Numpy arrays are easy to work with, so convert the result to an\n",
      "    # array\n",
      "    train_data_features = train_data_features.toarray()\n",
      "    test_data_features = test_data_features.toarray()\n",
      "    \n",
      "    mean_res = 0.\n",
      "    nb_try = 4\n",
      "    for n_test in range(nb_try): \n",
      "        # Initialize a Random Forest classifier with n_estimators trees\n",
      "        forest = RandomForestClassifier(n_estimators = n_estimators)\n",
      "        forest.fit( train_data_features, training_labels )\n",
      "        predicted_labels = forest.predict(test_data_features)\n",
      "\n",
      "        # Compute accuracy\n",
      "        res = 0\n",
      "        for i in range(len(predicted_labels)):\n",
      "            if (predicted_labels[i] == test_labels[i]):\n",
      "                res += 1\n",
      "        mean_res += (100. * np.float(res))/len(predicted_labels)\n",
      "    \n",
      "    return (mean_res/np.float(nb_try))"
     ],
     "language": "python",
     "metadata": {},
     "outputs": [],
     "prompt_number": 5
    },
    {
     "cell_type": "code",
     "collapsed": false,
     "input": [
      "### Fix parameters of the problem : ####\n",
      "\n",
      "final_nb = 1000 ### the final number of bags kept\n",
      "parameter_bounds = np.asarray( [[3000,15000],[50,1000]] )\n",
      "nb_GCP_steps = 40"
     ],
     "language": "python",
     "metadata": {},
     "outputs": [],
     "prompt_number": 6
    },
    {
     "cell_type": "code",
     "collapsed": false,
     "input": [
      "best_parameter,outputs,outputs_GP = smartSampling(nb_GCP_steps,parameter_bounds,scoring_function,isInt=True,\n",
      "                                                  corr_kernel= 'squared_exponential',\n",
      "                                                  model = 'both',\n",
      "                                                  nb_random_steps=25, n_clusters=1,returnOutputs=True, verbose=True)"
     ],
     "language": "python",
     "metadata": {},
     "outputs": [
      {
       "output_type": "stream",
       "stream": "stdout",
       "text": [
        "Random try [13858   736], score : 75.55\n",
        "Random try [13576   740], score : 75.7"
       ]
      },
      {
       "output_type": "stream",
       "stream": "stdout",
       "text": [
        "\n",
        "Random try [5133  761], score : 76.55"
       ]
      },
      {
       "output_type": "stream",
       "stream": "stdout",
       "text": [
        "\n",
        "Random try [8455  728], score : 76.4"
       ]
      },
      {
       "output_type": "stream",
       "stream": "stdout",
       "text": [
        "\n",
        "Random try [3758  404], score : 75.55"
       ]
      },
      {
       "output_type": "stream",
       "stream": "stdout",
       "text": [
        "\n",
        "Random try [8843  722], score : 75.75"
       ]
      },
      {
       "output_type": "stream",
       "stream": "stdout",
       "text": [
        "\n",
        "Random try [4843  877], score : 76.75"
       ]
      },
      {
       "output_type": "stream",
       "stream": "stdout",
       "text": [
        "\n",
        "Random try [14981   327], score : 75.1"
       ]
      },
      {
       "output_type": "stream",
       "stream": "stdout",
       "text": [
        "\n",
        "Random try [11428   816], score : 76.2"
       ]
      },
      {
       "output_type": "stream",
       "stream": "stdout",
       "text": [
        "\n",
        "Random try [5316  837], score : 76.15"
       ]
      },
      {
       "output_type": "stream",
       "stream": "stdout",
       "text": [
        "\n",
        "Random try [6765  808], score : 76.45"
       ]
      },
      {
       "output_type": "stream",
       "stream": "stdout",
       "text": [
        "\n",
        "Random try [10474   521], score : 75.75"
       ]
      },
      {
       "output_type": "stream",
       "stream": "stdout",
       "text": [
        "\n",
        "Random try [8278  727], score : 75.35"
       ]
      },
      {
       "output_type": "stream",
       "stream": "stdout",
       "text": [
        "\n",
        "Random try [7141  100], score : 73.6"
       ]
      },
      {
       "output_type": "stream",
       "stream": "stdout",
       "text": [
        "\n",
        "Random try [7621  325], score : 75.4"
       ]
      },
      {
       "output_type": "stream",
       "stream": "stdout",
       "text": [
        "\n",
        "Random try [6385  897], score : 76.3"
       ]
      },
      {
       "output_type": "stream",
       "stream": "stdout",
       "text": [
        "\n",
        "Random try [11076   936], score : 75.6"
       ]
      },
      {
       "output_type": "stream",
       "stream": "stdout",
       "text": [
        "\n",
        "Random try [10450   888], score : 75.45"
       ]
      },
      {
       "output_type": "stream",
       "stream": "stdout",
       "text": [
        "\n",
        "Random try [4721  105], score : 75.2"
       ]
      },
      {
       "output_type": "stream",
       "stream": "stdout",
       "text": [
        "\n",
        "Random try [6360  967], score : 76.55"
       ]
      },
      {
       "output_type": "stream",
       "stream": "stdout",
       "text": [
        "\n",
        "Random try [12818   210], score : 74.3"
       ]
      },
      {
       "output_type": "stream",
       "stream": "stdout",
       "text": [
        "\n",
        "Random try [9818  474], score : 75.25"
       ]
      },
      {
       "output_type": "stream",
       "stream": "stdout",
       "text": [
        "\n",
        "Random try [12599   823], score : 74.7"
       ]
      },
      {
       "output_type": "stream",
       "stream": "stdout",
       "text": [
        "\n",
        "Random try [11787   560], score : 75.05"
       ]
      },
      {
       "output_type": "stream",
       "stream": "stdout",
       "text": [
        "\n",
        "Random try [4647  962], score : 77.1"
       ]
      },
      {
       "output_type": "stream",
       "stream": "stdout",
       "text": [
        "\n",
        "Step 0\n",
        "Has sampled 2000 random candidates\n",
        "COBYLA failed to find a solution: Did not converge to a solution satisfying the constraints. See `maxcv` for magnitude of violation."
       ]
      },
      {
       "output_type": "stream",
       "stream": "stdout",
       "text": [
        "\n",
        "COBYLA failed to find a solution: Did not converge to a solution satisfying the constraints. See `maxcv` for magnitude of violation.\n",
        "GCP theta :[ 10.]\n",
        "Hopefully :"
       ]
      },
      {
       "output_type": "stream",
       "stream": "stdout",
       "text": [
        " [8777  808] 77.487071875 2047483647.0\n",
        "Test paramter:"
       ]
      },
      {
       "output_type": "stream",
       "stream": "stdout",
       "text": [
        " [8777  808]  - ***** accuracy: 76.45\n",
        "GP theta :[[ 10.]]\n",
        "GP Hopefully : [8690  800] 78.0881951359 81.5174779117\n",
        "GP Test paramter:"
       ]
      },
      {
       "output_type": "stream",
       "stream": "stdout",
       "text": [
        " [8690  800]  - ***** accuracy: 76.25\n",
        "Step 1\n",
        "Has sampled 2000 random candidates\n",
        "COBYLA failed to find a solution: Did not converge to a solution satisfying the constraints. See `maxcv` for magnitude of violation.\n",
        "COBYLA failed to find a solution: Did not converge to a solution satisfying the constraints. See `maxcv` for magnitude of violation.\n",
        "GCP theta :[ 11.22018454]\n",
        "Hopefully :"
       ]
      },
      {
       "output_type": "stream",
       "stream": "stdout",
       "text": [
        " [4043  923] 76.5259421875 78.47164375\n",
        "Test paramter:"
       ]
      },
      {
       "output_type": "stream",
       "stream": "stdout",
       "text": [
        " [4043  923]  - ***** accuracy: 77.45\n",
        "GP theta :[[ 10.]]\n",
        "GP Hopefully : [3824  921] 76.108737102 79.5722513679\n",
        "GP Test paramter:"
       ]
      },
      {
       "output_type": "stream",
       "stream": "stdout",
       "text": [
        " [3824  921]  - ***** accuracy: 77.35\n",
        "Step 2\n",
        "Has sampled 2000 random candidates\n",
        "COBYLA failed to find a solution: Did not converge to a solution satisfying the constraints. See `maxcv` for magnitude of violation.\n",
        "COBYLA failed to find a solution: Did not converge to a solution satisfying the constraints. See `maxcv` for magnitude of violation.\n",
        "COBYLA failed to find a solution: Did not converge to a solution satisfying the constraints. See `maxcv` for magnitude of violation.\n",
        "GCP theta :[ 10.82816562]\n",
        "Hopefully :"
       ]
      },
      {
       "output_type": "stream",
       "stream": "stdout",
       "text": [
        " [3820  990] 76.3724890625 78.768578125\n",
        "Test paramter:"
       ]
      },
      {
       "output_type": "stream",
       "stream": "stdout",
       "text": [
        " [3820  990]  - ***** accuracy: 76.7\n",
        "GP theta :[[ 10.]]\n",
        "GP Hopefully : [3641  842] 76.0561910389 79.637484753\n",
        "GP Test paramter:"
       ]
      },
      {
       "output_type": "stream",
       "stream": "stdout",
       "text": [
        " [3641  842]  - ***** accuracy: 77.05\n",
        "Step 3\n",
        "Has sampled 2000 random candidates\n",
        "GCP theta :[ 0.001]\n",
        "Hopefully :"
       ]
      },
      {
       "output_type": "stream",
       "stream": "stdout",
       "text": [
        " [3027  987] 77.1979515625 77.755578125\n",
        "Test paramter:"
       ]
      },
      {
       "output_type": "stream",
       "stream": "stdout",
       "text": [
        " [3027  987]  - ***** accuracy: 76.8\n",
        "GP theta :[[ 10.]]\n",
        "GP Hopefully : [3878  753] 75.8939574087 79.6202168954\n",
        "GP Test paramter:"
       ]
      },
      {
       "output_type": "stream",
       "stream": "stdout",
       "text": [
        " [3878  753]  - ***** accuracy: 76.4\n",
        "Step 4\n",
        "Has sampled 2000 random candidates\n",
        "COBYLA failed to find a solution: Did not converge to a solution satisfying the constraints. See `maxcv` for magnitude of violation.\n",
        "GCP theta :[ 11.22018454]\n",
        "Hopefully :"
       ]
      },
      {
       "output_type": "stream",
       "stream": "stdout",
       "text": [
        " [3117  907] 76.47124375 78.6904375\n",
        "Test paramter:"
       ]
      },
      {
       "output_type": "stream",
       "stream": "stdout",
       "text": [
        " [3117  907]  - ***** accuracy: 77.35\n",
        "GP theta :[[ 10.]]\n",
        "GP Hopefully : [3532  992] 76.0533504894 79.6073451204\n",
        "GP Test paramter:"
       ]
      },
      {
       "output_type": "stream",
       "stream": "stdout",
       "text": [
        " [3532  992]  - ***** accuracy: 77.95\n",
        "Step 5\n",
        "Has sampled 1999 random candidates\n",
        "COBYLA failed to find a solution: Did not converge to a solution satisfying the constraints. See `maxcv` for magnitude of violation.\n",
        "GCP theta :[ 0.00097643]\n",
        "Hopefully :"
       ]
      },
      {
       "output_type": "stream",
       "stream": "stdout",
       "text": [
        " [3011  979] 77.1226390625 77.474271875\n",
        "Test paramter:"
       ]
      },
      {
       "output_type": "stream",
       "stream": "stdout",
       "text": [
        " [3011  979]  - ***** accuracy: 77.5\n",
        "GP theta :[[ 10.]]\n",
        "GP Hopefully : [3038  937] 76.8314130781 79.8538771666\n",
        "GP Test paramter:"
       ]
      },
      {
       "output_type": "stream",
       "stream": "stdout",
       "text": [
        " [3038  937]  - ***** accuracy: 77.1\n",
        "Step 6\n",
        "Has sampled 1999 random candidates\n",
        "GCP theta :[ 0.001]\n",
        "Hopefully :"
       ]
      },
      {
       "output_type": "stream",
       "stream": "stdout",
       "text": [
        " [3475  994] 77.161709375 77.4636296875\n",
        "Test paramter:"
       ]
      },
      {
       "output_type": "stream",
       "stream": "stdout",
       "text": [
        " [3475  994]  - ***** accuracy: 75.95\n",
        "GP theta :[[ 10.]]\n",
        "GP Hopefully : [4765  660] 75.559943538 79.6641552637\n",
        "GP Test paramter:"
       ]
      },
      {
       "output_type": "stream",
       "stream": "stdout",
       "text": [
        " [4765  660]  - ***** accuracy: 77.1\n",
        "Step 7\n",
        "Has sampled 1999 random candidates\n",
        "COBYLA failed to find a solution: Did not converge to a solution satisfying the constraints. See `maxcv` for magnitude of violation.\n",
        "GCP theta :[ 0.00090364]\n",
        "Hopefully :"
       ]
      },
      {
       "output_type": "stream",
       "stream": "stdout",
       "text": [
        " [3095  722] 76.830690625 77.4480015625\n",
        "Test paramter:"
       ]
      },
      {
       "output_type": "stream",
       "stream": "stdout",
       "text": [
        " [3095  722]  - ***** accuracy: 77.1\n",
        "GP theta :[[ 10.]]\n",
        "GP Hopefully : [3846  618] 75.9745750594 79.7842963042\n",
        "GP Test paramter:"
       ]
      },
      {
       "output_type": "stream",
       "stream": "stdout",
       "text": [
        " [3846  618]  - ***** accuracy: 77.25\n",
        "Step 8\n",
        "Has sampled 2000 random candidates\n",
        "GCP theta :[ 0.001]\n",
        "Hopefully :"
       ]
      },
      {
       "output_type": "stream",
       "stream": "stdout",
       "text": [
        " [3042  858] 77.08356875 77.4323734375\n",
        "Test paramter:"
       ]
      },
      {
       "output_type": "stream",
       "stream": "stdout",
       "text": [
        " [3042  858]  - ***** accuracy: 77.15\n",
        "GP theta :[[ 10.]]\n",
        "GP Hopefully : [4682  566] 76.1683717433 79.9510393856\n",
        "GP Test paramter:"
       ]
      },
      {
       "output_type": "stream",
       "stream": "stdout",
       "text": [
        " [4682  566]  - ***** accuracy: 76.8\n",
        "Step 9\n",
        "Has sampled 2000 random candidates\n",
        "COBYLA failed to find a solution: Did not converge to a solution satisfying the constraints. See `maxcv` for magnitude of violation.\n",
        "COBYLA failed to find a solution: Did not converge to a solution satisfying the constraints. See `maxcv` for magnitude of violation.\n",
        "GCP theta :[ 0.00089125]\n",
        "Hopefully :"
       ]
      },
      {
       "output_type": "stream",
       "stream": "stdout",
       "text": [
        " [3005  753] 77.0288703125 77.4039453125\n",
        "Test paramter:"
       ]
      },
      {
       "output_type": "stream",
       "stream": "stdout",
       "text": [
        " [3005  753]  - ***** accuracy: 76.25\n",
        "GP theta :[[ 10.]]\n",
        "GP Hopefully : [3492  546] 76.1389970624 79.7317263229\n",
        "GP Test paramter:"
       ]
      },
      {
       "output_type": "stream",
       "stream": "stdout",
       "text": [
        " [3492  546]  - ***** accuracy: 75.75\n",
        "Step 10\n",
        "Has sampled 2000 random candidates\n",
        "COBYLA failed to find a solution: Did not converge to a solution satisfying the constraints. See `maxcv` for magnitude of violation.\n",
        "GCP theta :[ 0.001]\n",
        "Hopefully :"
       ]
      },
      {
       "output_type": "stream",
       "stream": "stdout",
       "text": [
        " [3257  996] 76.9976140625 77.3101765625\n",
        "Test paramter:"
       ]
      },
      {
       "output_type": "stream",
       "stream": "stdout",
       "text": [
        " [3257  996]  - ***** accuracy: 77.0\n",
        "GP theta :[[ 10.]]\n",
        "GP Hopefully : [3162  679] 76.1078134123 79.6195084384\n",
        "GP Test paramter:"
       ]
      },
      {
       "output_type": "stream",
       "stream": "stdout",
       "text": [
        " [3162  679]  - ***** accuracy: 76.45\n",
        "Step 11\n",
        "Has sampled 2000 random candidates\n",
        "COBYLA failed to find a solution: Did not converge to a solution satisfying the constraints. See `maxcv` for magnitude of violation.\n",
        "GCP theta :[ 0.001]\n",
        "Hopefully :"
       ]
      },
      {
       "output_type": "stream",
       "stream": "stdout",
       "text": [
        " [3152  996] 77.0260421875 77.3073484375\n",
        "Test paramter:"
       ]
      },
      {
       "output_type": "stream",
       "stream": "stdout",
       "text": [
        " [3152  996]  - ***** accuracy: 77.4\n",
        "GP theta :[[ 10.]]\n",
        "GP Hopefully : [5688  602] 76.0580883823 79.5849595966\n",
        "GP Test paramter:"
       ]
      },
      {
       "output_type": "stream",
       "stream": "stdout",
       "text": [
        " [5688  602]  - ***** accuracy: 76.55\n",
        "Step 12\n",
        "Has sampled 2000 random candidates\n",
        "GCP theta :[ 0.001]\n",
        "Hopefully :"
       ]
      },
      {
       "output_type": "stream",
       "stream": "stdout",
       "text": [
        " [3018  993] 77.111996875 77.3698609375\n"
       ]
      },
      {
       "ename": "KeyboardInterrupt",
       "evalue": "",
       "output_type": "pyerr",
       "traceback": [
        "\u001b[1;31m---------------------------------------------------------------------------\u001b[0m\n\u001b[1;31mKeyboardInterrupt\u001b[0m                         Traceback (most recent call last)",
        "\u001b[1;32m<ipython-input-7-60917dc79013>\u001b[0m in \u001b[0;36m<module>\u001b[1;34m()\u001b[0m\n\u001b[0;32m      2\u001b[0m                                                   \u001b[0mcorr_kernel\u001b[0m\u001b[1;33m=\u001b[0m \u001b[1;34m'squared_exponential'\u001b[0m\u001b[1;33m,\u001b[0m\u001b[1;33m\u001b[0m\u001b[0m\n\u001b[0;32m      3\u001b[0m                                                   \u001b[0mmodel\u001b[0m \u001b[1;33m=\u001b[0m \u001b[1;34m'both'\u001b[0m\u001b[1;33m,\u001b[0m\u001b[1;33m\u001b[0m\u001b[0m\n\u001b[1;32m----> 4\u001b[1;33m                                                   nb_random_steps=25, n_clusters=1,returnOutputs=True, verbose=True)\n\u001b[0m",
        "\u001b[1;32mC:\\Users\\S\u00e9bastien\\Documents\\IPython Notebooks\\Kaggle\\smart_sampling.py\u001b[0m in \u001b[0;36msmartSampling\u001b[1;34m(nb_iter, parameter_bounds, score_function, model, acquisition_function, corr_kernel, nb_random_steps, nb_parameter_sampling, n_clusters, isInt, returnOutputs, verbose)\u001b[0m\n\u001b[0;32m    147\u001b[0m                                                                                                                   \u001b[0mverbose\u001b[0m\u001b[1;33m,\u001b[0m\u001b[1;33m\u001b[0m\u001b[0m\n\u001b[0;32m    148\u001b[0m \t\t\t\t\t\t\t\t\t\t\t\t\t\t  acquisition_function)\n\u001b[1;32m--> 149\u001b[1;33m                         \u001b[0moutput\u001b[0m \u001b[1;33m=\u001b[0m \u001b[0mscore_function\u001b[0m\u001b[1;33m(\u001b[0m\u001b[0mbest_candidate\u001b[0m\u001b[1;33m)\u001b[0m\u001b[1;33m\u001b[0m\u001b[0m\n\u001b[0m\u001b[0;32m    150\u001b[0m \u001b[1;33m\u001b[0m\u001b[0m\n\u001b[0;32m    151\u001b[0m                         \u001b[1;32mif\u001b[0m\u001b[1;33m(\u001b[0m\u001b[0mverbose\u001b[0m\u001b[1;33m)\u001b[0m\u001b[1;33m:\u001b[0m\u001b[1;33m\u001b[0m\u001b[0m\n",
        "\u001b[1;32m<ipython-input-5-369ecbf28ff3>\u001b[0m in \u001b[0;36mscoring_function\u001b[1;34m(parameters)\u001b[0m\n\u001b[0;32m     30\u001b[0m         \u001b[1;31m# Initialize a Random Forest classifier with n_estimators trees\u001b[0m\u001b[1;33m\u001b[0m\u001b[1;33m\u001b[0m\u001b[0m\n\u001b[0;32m     31\u001b[0m         \u001b[0mforest\u001b[0m \u001b[1;33m=\u001b[0m \u001b[0mRandomForestClassifier\u001b[0m\u001b[1;33m(\u001b[0m\u001b[0mn_estimators\u001b[0m \u001b[1;33m=\u001b[0m \u001b[0mn_estimators\u001b[0m\u001b[1;33m)\u001b[0m\u001b[1;33m\u001b[0m\u001b[0m\n\u001b[1;32m---> 32\u001b[1;33m         \u001b[0mforest\u001b[0m\u001b[1;33m.\u001b[0m\u001b[0mfit\u001b[0m\u001b[1;33m(\u001b[0m \u001b[0mtrain_data_features\u001b[0m\u001b[1;33m,\u001b[0m \u001b[0mtraining_labels\u001b[0m \u001b[1;33m)\u001b[0m\u001b[1;33m\u001b[0m\u001b[0m\n\u001b[0m\u001b[0;32m     33\u001b[0m         \u001b[0mpredicted_labels\u001b[0m \u001b[1;33m=\u001b[0m \u001b[0mforest\u001b[0m\u001b[1;33m.\u001b[0m\u001b[0mpredict\u001b[0m\u001b[1;33m(\u001b[0m\u001b[0mtest_data_features\u001b[0m\u001b[1;33m)\u001b[0m\u001b[1;33m\u001b[0m\u001b[0m\n\u001b[0;32m     34\u001b[0m \u001b[1;33m\u001b[0m\u001b[0m\n",
        "\u001b[1;32mC:\\MyPrograms\\Anaconda\\lib\\site-packages\\sklearn\\ensemble\\forest.pyc\u001b[0m in \u001b[0;36mfit\u001b[1;34m(self, X, y, sample_weight)\u001b[0m\n\u001b[0;32m    277\u001b[0m                 \u001b[0msample_weight\u001b[0m\u001b[1;33m,\u001b[0m\u001b[1;33m\u001b[0m\u001b[0m\n\u001b[0;32m    278\u001b[0m                 verbose=self.verbose)\n\u001b[1;32m--> 279\u001b[1;33m             for i in range(n_jobs))\n\u001b[0m\u001b[0;32m    280\u001b[0m \u001b[1;33m\u001b[0m\u001b[0m\n\u001b[0;32m    281\u001b[0m         \u001b[1;31m# Reduce\u001b[0m\u001b[1;33m\u001b[0m\u001b[1;33m\u001b[0m\u001b[0m\n",
        "\u001b[1;32mC:\\MyPrograms\\Anaconda\\lib\\site-packages\\sklearn\\externals\\joblib\\parallel.pyc\u001b[0m in \u001b[0;36m__call__\u001b[1;34m(self, iterable)\u001b[0m\n\u001b[0;32m    651\u001b[0m             \u001b[0mself\u001b[0m\u001b[1;33m.\u001b[0m\u001b[0m_iterating\u001b[0m \u001b[1;33m=\u001b[0m \u001b[0mTrue\u001b[0m\u001b[1;33m\u001b[0m\u001b[0m\n\u001b[0;32m    652\u001b[0m             \u001b[1;32mfor\u001b[0m \u001b[0mfunction\u001b[0m\u001b[1;33m,\u001b[0m \u001b[0margs\u001b[0m\u001b[1;33m,\u001b[0m \u001b[0mkwargs\u001b[0m \u001b[1;32min\u001b[0m \u001b[0miterable\u001b[0m\u001b[1;33m:\u001b[0m\u001b[1;33m\u001b[0m\u001b[0m\n\u001b[1;32m--> 653\u001b[1;33m                 \u001b[0mself\u001b[0m\u001b[1;33m.\u001b[0m\u001b[0mdispatch\u001b[0m\u001b[1;33m(\u001b[0m\u001b[0mfunction\u001b[0m\u001b[1;33m,\u001b[0m \u001b[0margs\u001b[0m\u001b[1;33m,\u001b[0m \u001b[0mkwargs\u001b[0m\u001b[1;33m)\u001b[0m\u001b[1;33m\u001b[0m\u001b[0m\n\u001b[0m\u001b[0;32m    654\u001b[0m \u001b[1;33m\u001b[0m\u001b[0m\n\u001b[0;32m    655\u001b[0m             \u001b[1;32mif\u001b[0m \u001b[0mpre_dispatch\u001b[0m \u001b[1;33m==\u001b[0m \u001b[1;34m\"all\"\u001b[0m \u001b[1;32mor\u001b[0m \u001b[0mn_jobs\u001b[0m \u001b[1;33m==\u001b[0m \u001b[1;36m1\u001b[0m\u001b[1;33m:\u001b[0m\u001b[1;33m\u001b[0m\u001b[0m\n",
        "\u001b[1;32mC:\\MyPrograms\\Anaconda\\lib\\site-packages\\sklearn\\externals\\joblib\\parallel.pyc\u001b[0m in \u001b[0;36mdispatch\u001b[1;34m(self, func, args, kwargs)\u001b[0m\n\u001b[0;32m    398\u001b[0m         \"\"\"\n\u001b[0;32m    399\u001b[0m         \u001b[1;32mif\u001b[0m \u001b[0mself\u001b[0m\u001b[1;33m.\u001b[0m\u001b[0m_pool\u001b[0m \u001b[1;32mis\u001b[0m \u001b[0mNone\u001b[0m\u001b[1;33m:\u001b[0m\u001b[1;33m\u001b[0m\u001b[0m\n\u001b[1;32m--> 400\u001b[1;33m             \u001b[0mjob\u001b[0m \u001b[1;33m=\u001b[0m \u001b[0mImmediateApply\u001b[0m\u001b[1;33m(\u001b[0m\u001b[0mfunc\u001b[0m\u001b[1;33m,\u001b[0m \u001b[0margs\u001b[0m\u001b[1;33m,\u001b[0m \u001b[0mkwargs\u001b[0m\u001b[1;33m)\u001b[0m\u001b[1;33m\u001b[0m\u001b[0m\n\u001b[0m\u001b[0;32m    401\u001b[0m             \u001b[0mindex\u001b[0m \u001b[1;33m=\u001b[0m \u001b[0mlen\u001b[0m\u001b[1;33m(\u001b[0m\u001b[0mself\u001b[0m\u001b[1;33m.\u001b[0m\u001b[0m_jobs\u001b[0m\u001b[1;33m)\u001b[0m\u001b[1;33m\u001b[0m\u001b[0m\n\u001b[0;32m    402\u001b[0m             \u001b[1;32mif\u001b[0m \u001b[1;32mnot\u001b[0m \u001b[0m_verbosity_filter\u001b[0m\u001b[1;33m(\u001b[0m\u001b[0mindex\u001b[0m\u001b[1;33m,\u001b[0m \u001b[0mself\u001b[0m\u001b[1;33m.\u001b[0m\u001b[0mverbose\u001b[0m\u001b[1;33m)\u001b[0m\u001b[1;33m:\u001b[0m\u001b[1;33m\u001b[0m\u001b[0m\n",
        "\u001b[1;32mC:\\MyPrograms\\Anaconda\\lib\\site-packages\\sklearn\\externals\\joblib\\parallel.pyc\u001b[0m in \u001b[0;36m__init__\u001b[1;34m(self, func, args, kwargs)\u001b[0m\n\u001b[0;32m    136\u001b[0m         \u001b[1;31m# Don't delay the application, to avoid keeping the input\u001b[0m\u001b[1;33m\u001b[0m\u001b[1;33m\u001b[0m\u001b[0m\n\u001b[0;32m    137\u001b[0m         \u001b[1;31m# arguments in memory\u001b[0m\u001b[1;33m\u001b[0m\u001b[1;33m\u001b[0m\u001b[0m\n\u001b[1;32m--> 138\u001b[1;33m         \u001b[0mself\u001b[0m\u001b[1;33m.\u001b[0m\u001b[0mresults\u001b[0m \u001b[1;33m=\u001b[0m \u001b[0mfunc\u001b[0m\u001b[1;33m(\u001b[0m\u001b[1;33m*\u001b[0m\u001b[0margs\u001b[0m\u001b[1;33m,\u001b[0m \u001b[1;33m**\u001b[0m\u001b[0mkwargs\u001b[0m\u001b[1;33m)\u001b[0m\u001b[1;33m\u001b[0m\u001b[0m\n\u001b[0m\u001b[0;32m    139\u001b[0m \u001b[1;33m\u001b[0m\u001b[0m\n\u001b[0;32m    140\u001b[0m     \u001b[1;32mdef\u001b[0m \u001b[0mget\u001b[0m\u001b[1;33m(\u001b[0m\u001b[0mself\u001b[0m\u001b[1;33m)\u001b[0m\u001b[1;33m:\u001b[0m\u001b[1;33m\u001b[0m\u001b[0m\n",
        "\u001b[1;32mC:\\MyPrograms\\Anaconda\\lib\\site-packages\\sklearn\\ensemble\\forest.pyc\u001b[0m in \u001b[0;36m_parallel_build_trees\u001b[1;34m(trees, forest, X, y, sample_weight, verbose)\u001b[0m\n\u001b[0;32m     87\u001b[0m             tree.fit(X, y,\n\u001b[0;32m     88\u001b[0m                      \u001b[0msample_weight\u001b[0m\u001b[1;33m=\u001b[0m\u001b[0mcurr_sample_weight\u001b[0m\u001b[1;33m,\u001b[0m\u001b[1;33m\u001b[0m\u001b[0m\n\u001b[1;32m---> 89\u001b[1;33m                      check_input=False)\n\u001b[0m\u001b[0;32m     90\u001b[0m \u001b[1;33m\u001b[0m\u001b[0m\n\u001b[0;32m     91\u001b[0m             \u001b[0mtree\u001b[0m\u001b[1;33m.\u001b[0m\u001b[0mindices_\u001b[0m \u001b[1;33m=\u001b[0m \u001b[0msample_counts\u001b[0m \u001b[1;33m>\u001b[0m \u001b[1;36m0.\u001b[0m\u001b[1;33m\u001b[0m\u001b[0m\n",
        "\u001b[1;32mC:\\MyPrograms\\Anaconda\\lib\\site-packages\\sklearn\\tree\\tree.pyc\u001b[0m in \u001b[0;36mfit\u001b[1;34m(self, X, y, sample_mask, X_argsorted, check_input, sample_weight)\u001b[0m\n\u001b[0;32m    265\u001b[0m                                            max_leaf_nodes)\n\u001b[0;32m    266\u001b[0m \u001b[1;33m\u001b[0m\u001b[0m\n\u001b[1;32m--> 267\u001b[1;33m         \u001b[0mbuilder\u001b[0m\u001b[1;33m.\u001b[0m\u001b[0mbuild\u001b[0m\u001b[1;33m(\u001b[0m\u001b[0mself\u001b[0m\u001b[1;33m.\u001b[0m\u001b[0mtree_\u001b[0m\u001b[1;33m,\u001b[0m \u001b[0mX\u001b[0m\u001b[1;33m,\u001b[0m \u001b[0my\u001b[0m\u001b[1;33m,\u001b[0m \u001b[0msample_weight\u001b[0m\u001b[1;33m)\u001b[0m\u001b[1;33m\u001b[0m\u001b[0m\n\u001b[0m\u001b[0;32m    268\u001b[0m \u001b[1;33m\u001b[0m\u001b[0m\n\u001b[0;32m    269\u001b[0m         \u001b[1;32mif\u001b[0m \u001b[0mself\u001b[0m\u001b[1;33m.\u001b[0m\u001b[0mn_outputs_\u001b[0m \u001b[1;33m==\u001b[0m \u001b[1;36m1\u001b[0m\u001b[1;33m:\u001b[0m\u001b[1;33m\u001b[0m\u001b[0m\n",
        "\u001b[1;31mKeyboardInterrupt\u001b[0m: "
       ]
      }
     ],
     "prompt_number": 7
    },
    {
     "cell_type": "code",
     "collapsed": false,
     "input": [
      "plt.figure(1)\n",
      "plt.plot(range(len(outputs)),outputs,'b')\n",
      "plt.plot(range(len(outputs_GP)),outputs_GP,'r')\n",
      "plt.show()"
     ],
     "language": "python",
     "metadata": {},
     "outputs": []
    },
    {
     "cell_type": "code",
     "collapsed": false,
     "input": [],
     "language": "python",
     "metadata": {},
     "outputs": []
    }
   ],
   "metadata": {}
  }
 ]
}