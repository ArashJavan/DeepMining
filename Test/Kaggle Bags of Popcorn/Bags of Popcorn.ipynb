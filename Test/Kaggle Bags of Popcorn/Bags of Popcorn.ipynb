{
 "metadata": {
  "name": "",
  "signature": "sha256:42866401f47902970d5ba8b63daf0295791649b9315c16e9277bdc44e105f09c"
 },
 "nbformat": 3,
 "nbformat_minor": 0,
 "worksheets": [
  {
   "cells": [
    {
     "cell_type": "code",
     "collapsed": false,
     "input": [
      "import os\n",
      "from sklearn.feature_extraction.text import CountVectorizer\n",
      "from sklearn.ensemble import RandomForestClassifier\n",
      "import pandas as pd\n",
      "import numpy as np\n",
      "from sklearn import tree,ensemble\n",
      "from sklearn.feature_selection import SelectKBest, chi2\n",
      "import matplotlib.pyplot as plt\n",
      "%pylab inline"
     ],
     "language": "python",
     "metadata": {},
     "outputs": [
      {
       "output_type": "stream",
       "stream": "stdout",
       "text": [
        "Populating the interactive namespace from numpy and matplotlib\n"
       ]
      }
     ],
     "prompt_number": 1
    },
    {
     "cell_type": "code",
     "collapsed": false,
     "input": [
      "import sys\n",
      "sys.path.append(\"../../\")\n",
      "from smart_sampling import smartSampling\n",
      "from KaggleWord2VecUtility import KaggleWord2VecUtility  ## don't remove stopwords"
     ],
     "language": "python",
     "metadata": {},
     "outputs": [],
     "prompt_number": 2
    },
    {
     "cell_type": "code",
     "collapsed": false,
     "input": [
      "data = pd.read_csv(os.path.join('labeledTrainData.tsv'), header=0, \\\n",
      "                delimiter=\"\\t\", quoting=3)\n",
      "print 'The first review is:'\n",
      "print data[\"review\"][0]"
     ],
     "language": "python",
     "metadata": {},
     "outputs": [
      {
       "output_type": "stream",
       "stream": "stdout",
       "text": [
        "The first review is:\n",
        "\"With all this stuff going down at the moment with MJ i've started listening to his music, watching the odd documentary here and there, watched The Wiz and watched Moonwalker again. Maybe i just want to get a certain insight into this guy who i thought was really cool in the eighties just to maybe make up my mind whether he is guilty or innocent. Moonwalker is part biography, part feature film which i remember going to see at the cinema when it was originally released. Some of it has subtle messages about MJ's feeling towards the press and also the obvious message of drugs are bad m'kay.<br /><br />Visually impressive but of course this is all about Michael Jackson so unless you remotely like MJ in anyway then you are going to hate this and find it boring. Some may call MJ an egotist for consenting to the making of this movie BUT MJ and most of his fans would say that he made it for the fans which if true is really nice of him.<br /><br />The actual feature film bit when it finally starts is only on for 20 minutes or so excluding the Smooth Criminal sequence and Joe Pesci is convincing as a psychopathic all powerful drug lord. Why he wants MJ dead so bad is beyond me. Because MJ overheard his plans? Nah, Joe Pesci's character ranted that he wanted people to know it is he who is supplying drugs etc so i dunno, maybe he just hates MJ's music.<br /><br />Lots of cool things in this like MJ turning into a car and a robot and the whole Speed Demon sequence. Also, the director must have had the patience of a saint when it came to filming the kiddy Bad sequence as usually directors hate working with one kid let alone a whole bunch of them performing a complex dance scene.<br /><br />Bottom line, this movie is for people who like MJ on one level or another (which i think is most people). If not, then stay away. It does try and give off a wholesome message and ironically MJ's bestest buddy in this movie is a girl! Michael Jackson is truly one of the most talented people ever to grace this planet but is he guilty? Well, with all the attention i've gave this subject....hmmm well i don't know because people can be different behind closed doors, i know this for a fact. He is either an extremely nice but stupid guy or one of the most sickest liars. I hope he is not the latter.\"\n"
       ]
      }
     ],
     "prompt_number": 3
    },
    {
     "cell_type": "code",
     "collapsed": false,
     "input": [
      "# Initialize an empty list to hold the clean reviews\n",
      "clean_reviews = []\n",
      "\n",
      "# Loop over each review; create an index i that goes from 0 to the length\n",
      "# of the movie review list\n",
      "print \"Cleaning and parsing the training set movie reviews...\\n\"\n",
      "for i in xrange( 0, len(data[\"review\"])):\n",
      "    clean_reviews.append(\" \".join(KaggleWord2VecUtility.review_to_wordlist(data[\"review\"][i], True)))\n",
      "print clean_reviews[0]"
     ],
     "language": "python",
     "metadata": {},
     "outputs": [
      {
       "output_type": "stream",
       "stream": "stdout",
       "text": [
        "Cleaning and parsing the training set movie reviews...\n",
        "\n",
        "with all this stuff going down at the moment with mj i ve started listening to his music watching the odd documentary here and there watched the wiz and watched moonwalker again maybe i just want to get a certain insight into this guy who i thought was really cool in the eighties just to maybe make up my mind whether he is guilty or innocent moonwalker is part biography part feature film which i remember going to see at the cinema when it was originally released some of it has subtle messages about mj s feeling towards the press and also the obvious message of drugs are bad m kay visually impressive but of course this is all about michael jackson so unless you remotely like mj in anyway then you are going to hate this and find it boring some may call mj an egotist for consenting to the making of this movie but mj and most of his fans would say that he made it for the fans which if true is really nice of him the actual feature film bit when it finally starts is only on for minutes or so excluding the smooth criminal sequence and joe pesci is convincing as a psychopathic all powerful drug lord why he wants mj dead so bad is beyond me because mj overheard his plans nah joe pesci s character ranted that he wanted people to know it is he who is supplying drugs etc so i dunno maybe he just hates mj s music lots of cool things in this like mj turning into a car and a robot and the whole speed demon sequence also the director must have had the patience of a saint when it came to filming the kiddy bad sequence as usually directors hate working with one kid let alone a whole bunch of them performing a complex dance scene bottom line this movie is for people who like mj on one level or another which i think is most people if not then stay away it does try and give off a wholesome message and ironically mj s bestest buddy in this movie is a girl michael jackson is truly one of the most talented people ever to grace this planet but is he guilty well with all the attention i ve gave this subject hmmm well i don t know because people can be different behind closed doors i know this for a fact he is either an extremely nice but stupid guy or one of the most sickest liars i hope he is not the latter"
       ]
      },
      {
       "output_type": "stream",
       "stream": "stdout",
       "text": [
        "\n"
       ]
      }
     ],
     "prompt_number": 4
    },
    {
     "cell_type": "code",
     "collapsed": false,
     "input": [
      "nb_reviews = len(clean_reviews)\n",
      "print nb_reviews\n",
      "pop_size = 500\n",
      "print 'keep only',pop_size\n",
      "\n",
      "training_reviews = clean_reviews[:pop_size]\n",
      "test_reviews = clean_reviews[pop_size:(2*pop_size)]\n",
      "\n",
      "training_labels = np.asarray(data[\"sentiment\"][:pop_size])\n",
      "test_labels =  np.asarray(data[\"sentiment\"][pop_size:(2*pop_size)])\n",
      "print training_labels[:5]"
     ],
     "language": "python",
     "metadata": {},
     "outputs": [
      {
       "output_type": "stream",
       "stream": "stdout",
       "text": [
        "25000\n",
        "keep only 500\n",
        "[1 1 0 0 1]\n"
       ]
      }
     ],
     "prompt_number": 5
    },
    {
     "cell_type": "code",
     "collapsed": false,
     "input": [
      "def scoring_function(parameters):\n",
      "    nb_features,n_estimators = parameters\n",
      "    nb_features = np.int(nb_features)\n",
      "    n_estimators = np.int(n_estimators)\n",
      "    # Initialize the \"CountVectorizer\" object, which is scikit-learn's\n",
      "    # bag of words tool.\n",
      "    vectorizer = CountVectorizer(analyzer = \"word\",   \\\n",
      "                             tokenizer = None,    \\\n",
      "                             preprocessor = None, \\\n",
      "                             stop_words = None,   \\\n",
      "                             max_features = nb_features)\n",
      "\n",
      "    # fit_transform() does two functions: First, it fits the model\n",
      "    # and learns the vocabulary; second, it transforms our training data\n",
      "    # into feature vectors. The input to fit_transform should be a list of\n",
      "    # strings.\n",
      "    train_data_features = vectorizer.fit_transform(training_reviews)\n",
      "    ch2 = SelectKBest(chi2, k=final_nb)\n",
      "    ch2.fit(train_data_features,training_labels)\n",
      "    chiSQ_val = ch2.scores_\n",
      "    #print chiSQ_val[:10]\n",
      "    index = np.argsort(chiSQ_val)[::-1]\n",
      "    idx = index[:final_nb]\n",
      "    test_data_features = vectorizer.transform(test_reviews)\n",
      "    \n",
      "    # Numpy arrays are easy to work with, so convert the result to an\n",
      "    # array\n",
      "    train_data_features = train_data_features.toarray()\n",
      "    test_data_features = test_data_features.toarray()\n",
      "    \n",
      "    mean_res = 0.\n",
      "    nb_try = 6\n",
      "    for n_test in range(nb_try): \n",
      "        # Initialize a Random Forest classifier with n_estimators trees\n",
      "        forest = RandomForestClassifier(n_estimators = n_estimators)\n",
      "        forest.fit( train_data_features, training_labels )\n",
      "        predicted_labels = forest.predict(test_data_features)\n",
      "\n",
      "        # Compute accuracy\n",
      "        res = 0\n",
      "        for i in range(len(predicted_labels)):\n",
      "            if (predicted_labels[i] == test_labels[i]):\n",
      "                res += 1\n",
      "        mean_res += (100. * np.float(res))/len(predicted_labels)\n",
      "    \n",
      "    return (mean_res/np.float(nb_try))"
     ],
     "language": "python",
     "metadata": {},
     "outputs": [],
     "prompt_number": 6
    },
    {
     "cell_type": "code",
     "collapsed": false,
     "input": [
      "### Fix parameters of the problem : ####\n",
      "\n",
      "final_nb = 1000 ### the final number of bags kept\n",
      "parameter_bounds = np.asarray( [[3000,15000],[50,1000]] )\n",
      "nb_GCP_steps = 40"
     ],
     "language": "python",
     "metadata": {},
     "outputs": []
    },
    {
     "cell_type": "code",
     "collapsed": false,
     "input": [
      "best_parameter,all_outputs = smartSampling(nb_GCP_steps,parameter_bounds,scoring_function,isInt=True,\n",
      "                                                  #corr_kernel= 'squared_exponential',\n",
      "                                                  model = 'all',\n",
      "                                                  nb_random_steps=20, n_clusters=4,returnOutputs=True, verbose=True)"
     ],
     "language": "python",
     "metadata": {},
     "outputs": [
      {
       "output_type": "stream",
       "stream": "stdout",
       "text": [
        "Random try [11347   374], score : 74.8\n",
        "Random try [10272   203], score : 74.2"
       ]
      },
      {
       "output_type": "stream",
       "stream": "stdout",
       "text": [
        "\n",
        "Random try [14702   966], score : 75.1333333333"
       ]
      },
      {
       "output_type": "stream",
       "stream": "stdout",
       "text": [
        "\n",
        "Random try [5101  251], score : 76.4"
       ]
      },
      {
       "output_type": "stream",
       "stream": "stdout",
       "text": [
        "\n",
        "Random try [8137  429], score : 75.4333333333"
       ]
      },
      {
       "output_type": "stream",
       "stream": "stdout",
       "text": [
        "\n",
        "Random try [12730   976], score : 75.1666666667"
       ]
      },
      {
       "output_type": "stream",
       "stream": "stdout",
       "text": [
        "\n",
        "Random try [6846  860], score : 76.4333333333"
       ]
      },
      {
       "output_type": "stream",
       "stream": "stdout",
       "text": [
        "\n",
        "Random try [12828   425], score : 75.5333333333"
       ]
      },
      {
       "output_type": "stream",
       "stream": "stdout",
       "text": [
        "\n",
        "Random try [11171   667], score : 75.6333333333"
       ]
      },
      {
       "output_type": "stream",
       "stream": "stdout",
       "text": [
        "\n",
        "Random try [6957  858], score : 75.7"
       ]
      },
      {
       "output_type": "stream",
       "stream": "stdout",
       "text": [
        "\n",
        "Random try [4687  634], score : 76.6"
       ]
      },
      {
       "output_type": "stream",
       "stream": "stdout",
       "text": [
        "\n",
        "Random try [12093   237], score : 74.9666666667"
       ]
      },
      {
       "output_type": "stream",
       "stream": "stdout",
       "text": [
        "\n",
        "Random try [8546  899], score : 76.6333333333"
       ]
      },
      {
       "output_type": "stream",
       "stream": "stdout",
       "text": [
        "\n",
        "Random try [7556  410], score : 76.9333333333"
       ]
      },
      {
       "output_type": "stream",
       "stream": "stdout",
       "text": [
        "\n",
        "Random try [11463   781], score : 76.0"
       ]
      },
      {
       "output_type": "stream",
       "stream": "stdout",
       "text": [
        "\n",
        "Random try [10553   613], score : 75.8"
       ]
      },
      {
       "output_type": "stream",
       "stream": "stdout",
       "text": [
        "\n",
        "Random try [8836  193], score : 74.9666666667"
       ]
      },
      {
       "output_type": "stream",
       "stream": "stdout",
       "text": [
        "\n",
        "Random try [9563  826], score : 75.8"
       ]
      },
      {
       "output_type": "stream",
       "stream": "stdout",
       "text": [
        "\n",
        "Random try [4671  870], score : 76.6333333333"
       ]
      },
      {
       "output_type": "stream",
       "stream": "stdout",
       "text": [
        "\n",
        "Random try [14503   634], score : 75.2666666667"
       ]
      },
      {
       "output_type": "stream",
       "stream": "stdout",
       "text": [
        "\n",
        "(3L, 20L, 2L)\n",
        "Step 0\n",
        "Has sampled 2000 random candidates\n",
        "Centroids\n",
        "[[  7407.5           320.75      ]\n",
        " [ 12097.85714286    780.42857143]\n",
        " [ 11635.            309.75      ]\n",
        " [  6341.4           824.2       ]]\n",
        "cluster 0 size (4L,)\n",
        "cluster 1 size (7L,)\n",
        "cluster 2 size (4L,)\n",
        "cluster 3 size (5L,)\n",
        "GCP theta :[ 90.           1.           1.           0.48362889   2.86772267\n",
        "   0.25949632   0.95803548   0.28035885]"
       ]
      },
      {
       "output_type": "stream",
       "stream": "stdout",
       "text": [
        "\n",
        "Hopefully :"
       ]
      },
      {
       "output_type": "stream",
       "stream": "stdout",
       "text": [
        " [4994  718] 76.25245 77.1354390625\n",
        "0"
       ]
      },
      {
       "output_type": "stream",
       "stream": "stdout",
       "text": [
        " Test paramter: [4994  718]  - ***** accuracy: 76.6\n",
        "GP theta :[[ 10.]]\n",
        "GP Hopefully : [6058  860] 78.4198389214 80.1107130089\n",
        "1"
       ]
      },
      {
       "output_type": "stream",
       "stream": "stdout",
       "text": [
        " Test paramter: [6058  860]  - ***** accuracy: 77.1333333333\n",
        "2"
       ]
      },
      {
       "output_type": "stream",
       "stream": "stdout",
       "text": [
        " Test paramter: [5800  829]  - ***** accuracy: 76.0333333333\n",
        "Step 1\n",
        "Has sampled 2000 random candidates\n",
        "Centroids\n",
        "[[  6116.83333333    806.5       ]\n",
        " [  7407.5           320.75      ]\n",
        " [ 12097.85714286    780.42857143]\n",
        " [ 11635.            309.75      ]]\n",
        "cluster 0 size (6L,)\n",
        "cluster 1 size (4L,)\n",
        "cluster 2 size (7L,)\n",
        "cluster 3 size (4L,)\n",
        "COBYLA failed to find a solution: Did not converge to a solution satisfying the constraints. See `maxcv` for magnitude of violation."
       ]
      },
      {
       "output_type": "stream",
       "stream": "stdout",
       "text": [
        "\n",
        "GCP theta :[  8.09017809e+01   1.94641802e+01   1.00000000e+00   3.36166120e-01\n",
        "   1.16056367e+00   8.34940931e+00   3.59540169e+00   5.81962501e-02]\n",
        "Hopefully :"
       ]
      },
      {
       "output_type": "stream",
       "stream": "stdout",
       "text": [
        " [4450  620] 76.2915203125 77.143253125\n",
        "0"
       ]
      },
      {
       "output_type": "stream",
       "stream": "stdout",
       "text": [
        " Test paramter: [4450  620]  - ***** accuracy: 76.6\n",
        "GP theta :[[ 10.]]\n",
        "GP Hopefully : [6406  913] 77.6158544184 79.4613735251\n",
        "1"
       ]
      },
      {
       "output_type": "stream",
       "stream": "stdout",
       "text": [
        " Test paramter: [6406  913]  - ***** accuracy: 77.0666666667\n",
        "2"
       ]
      },
      {
       "output_type": "stream",
       "stream": "stdout",
       "text": [
        " Test paramter: [7239  486]  - ***** accuracy: 75.4333333333\n",
        "Step 2\n",
        "Has sampled 2000 random candidates\n",
        "Centroids\n",
        "[[ 12097.85714286    780.42857143]\n",
        " [  7407.5           320.75      ]\n",
        " [  5878.71428571    779.85714286]\n",
        " [ 11635.            309.75      ]]\n",
        "cluster 0 size (7L,)\n",
        "cluster 1 size (4L,)\n",
        "cluster 2 size (7L,)\n",
        "cluster 3 size (4L,)\n",
        "GCP theta :[  5.61344431e+01   4.19908350e+01   1.02690704e+00   4.51898256e-01\n",
        "   1.02189053e+00   9.84538745e+00   9.81005564e+00   1.67134624e-02]"
       ]
      },
      {
       "output_type": "stream",
       "stream": "stdout",
       "text": [
        "\n",
        "Hopefully :"
       ]
      },
      {
       "output_type": "stream",
       "stream": "stdout",
       "text": [
        " [4657  610] 76.3540328125 77.143253125\n",
        "0"
       ]
      },
      {
       "output_type": "stream",
       "stream": "stdout",
       "text": [
        " Test paramter: [4657  610]  - ***** accuracy: 76.6666666667\n",
        "GP theta :[[ 10.]]\n",
        "GP Hopefully : [6676  419] 76.4862756176 78.7082026129\n",
        "1"
       ]
      },
      {
       "output_type": "stream",
       "stream": "stdout",
       "text": [
        " Test paramter: [6676  419]  - ***** accuracy: 75.6666666667\n",
        "2"
       ]
      },
      {
       "output_type": "stream",
       "stream": "stdout",
       "text": [
        " Test paramter: [10946    91]  - ***** accuracy: 71.7666666667\n",
        "Step 3\n",
        "Has sampled 2000 random candidates\n",
        "Centroids\n",
        "[[ 11635.            309.75      ]\n",
        " [  5726.            758.625     ]\n",
        " [ 12097.85714286    780.42857143]\n",
        " [  7407.5           320.75      ]]\n",
        "cluster 0 size (4L,)\n",
        "cluster 1 size (8L,)\n",
        "cluster 2 size (7L,)\n",
        "cluster 3 size (4L,)\n",
        "GCP theta :[  9.00000000e+01   5.04159091e+00   1.00000000e+00   4.35241197e-01\n",
        "   1.18674802e+00   3.52090298e+00   2.96926368e+00   1.32261086e-02]"
       ]
      },
      {
       "output_type": "stream",
       "stream": "stdout",
       "text": [
        "\n",
        "Hopefully :"
       ]
      },
      {
       "output_type": "stream",
       "stream": "stdout",
       "text": [
        " [4964  674] 76.4350015625 77.143253125\n",
        "0"
       ]
      },
      {
       "output_type": "stream",
       "stream": "stdout",
       "text": [
        " Test paramter: [4964  674]  - ***** accuracy: 76.2\n",
        "GP theta :[[ 10.]]\n",
        "GP Hopefully : [7366  333] 76.3466677251 78.5831471263\n",
        "1"
       ]
      },
      {
       "output_type": "stream",
       "stream": "stdout",
       "text": [
        " Test paramter: [7366  333]  - ***** accuracy: 75.7666666667\n",
        "2"
       ]
      },
      {
       "output_type": "stream",
       "stream": "stdout",
       "text": [
        " Test paramter: [12997    60]  - ***** accuracy: 71.3666666667\n",
        "Step 4\n",
        "Has sampled 2000 random candidates\n",
        "Centroids\n",
        "[[ 11653.875    795.25 ]\n",
        " [ 11635.       309.75 ]\n",
        " [  5278.25     730.5  ]\n",
        " [  7407.5      320.75 ]]\n",
        "cluster 0 size (8L,)\n",
        "cluster 1 size (4L,)\n",
        "cluster 2 size (8L,)\n",
        "cluster 3 size (4L,)\n",
        "COBYLA failed to find a solution: Did not converge to a solution satisfying the constraints. See `maxcv` for magnitude of violation."
       ]
      },
      {
       "output_type": "stream",
       "stream": "stdout",
       "text": [
        "\n",
        "COBYLA failed to find a solution: Did not converge to a solution satisfying the constraints. See `maxcv` for magnitude of violation."
       ]
      },
      {
       "output_type": "stream",
       "stream": "stdout",
       "text": [
        "\n",
        "GCP theta :[ 88.99216535  10.49052925   1.06206174   0.45819314   1.23734      5.72623249\n",
        "   2.54831077   0.78472407]\n",
        "Hopefully :"
       ]
      },
      {
       "output_type": "stream",
       "stream": "stdout",
       "text": [
        " [5291  611] 76.3568609375 77.127625\n",
        "0"
       ]
      },
      {
       "output_type": "stream",
       "stream": "stdout",
       "text": [
        " Test paramter: [5291  611]  - ***** accuracy: 76.2\n",
        "GP theta :[[ 10.]]\n",
        "GP Hopefully : [6289  793] 76.4592610131 78.4174013533\n",
        "1"
       ]
      },
      {
       "output_type": "stream",
       "stream": "stdout",
       "text": [
        " Test paramter: [6289  793]  - ***** accuracy: 76.4666666667\n",
        "2"
       ]
      },
      {
       "output_type": "stream",
       "stream": "stdout",
       "text": [
        " Test paramter: [12625   397]  - ***** accuracy: 75.4666666667\n",
        "Step 5\n",
        "Has sampled 2000 random candidates\n",
        "Centroids\n",
        "[[ 12263.75          584.75      ]\n",
        " [  5279.66666667    717.22222222]\n",
        " [  9048.85714286    299.57142857]\n",
        " [ 11400.8           889.6       ]]\n",
        "cluster 0 size (4L,)\n",
        "cluster 1 size (9L,)\n",
        "cluster 2 size (7L,)\n",
        "cluster 3 size (5L,)\n",
        "COBYLA failed to find a solution: Did not converge to a solution satisfying the constraints. See `maxcv` for magnitude of violation."
       ]
      },
      {
       "output_type": "stream",
       "stream": "stdout",
       "text": [
        "\n",
        "GCP theta :[ 41.48206223  23.49930709   1.           0.3119455    1.14486011  10.\n",
        "   0.5344815    0.21185003]"
       ]
      },
      {
       "output_type": "stream",
       "stream": "stdout",
       "text": [
        "\n",
        "Hopefully :"
       ]
      },
      {
       "output_type": "stream",
       "stream": "stdout",
       "text": [
        " [3893  569] 76.286534375 77.3229765625\n",
        "0"
       ]
      },
      {
       "output_type": "stream",
       "stream": "stdout",
       "text": [
        " Test paramter: [3893  569]  - ***** accuracy: 77.1666666667\n",
        "GP theta :[[ 10.]]\n",
        "GP Hopefully : [9021  947] 76.3430237233 78.2956288093\n",
        "1"
       ]
      },
      {
       "output_type": "stream",
       "stream": "stdout",
       "text": [
        " Test paramter: [9021  947]  - ***** accuracy: 76.0666666667\n",
        "2"
       ]
      },
      {
       "output_type": "stream",
       "stream": "stdout",
       "text": [
        " Test paramter: [4758  634]  - ***** accuracy: 76.3333333333\n",
        "Step 6\n",
        "Has sampled 2000 random candidates\n",
        "Centroids\n",
        "[[  7316.6           862.6       ]\n",
        " [  9521.25          315.25      ]\n",
        " [ 12520.33333333    772.83333333]\n",
        " [  4705.14285714    633.71428571]]\n",
        "cluster 0 size (5L,)\n",
        "cluster 1 size (8L,)\n",
        "cluster 2 size (6L,)\n",
        "cluster 3 size (7L,)\n",
        "COBYLA failed to find a solution: Did not converge to a solution satisfying the constraints. See `maxcv` for magnitude of violation."
       ]
      },
      {
       "output_type": "stream",
       "stream": "stdout",
       "text": [
        "\n",
        "GCP theta :[  8.23600395e+01   1.00000000e+00   1.00000000e+00   4.58109560e-01\n",
        "   1.29453888e+00   5.36506543e+00   1.02698613e+00   3.46017125e-02]"
       ]
      },
      {
       "output_type": "stream",
       "stream": "stdout",
       "text": [
        "\n",
        "Hopefully :"
       ]
      },
      {
       "output_type": "stream",
       "stream": "stdout",
       "text": [
        " [4373  626] 76.4399875 77.4401875\n",
        "0"
       ]
      },
      {
       "output_type": "stream",
       "stream": "stdout",
       "text": [
        " Test paramter: [4373  626]  - ***** accuracy: 76.2333333333\n",
        "GP theta :[[ 10.]]\n",
        "GP Hopefully : [3857  855] 76.0731954683 78.0961503473\n",
        "1"
       ]
      },
      {
       "output_type": "stream",
       "stream": "stdout",
       "text": [
        " Test paramter: [3857  855]  - ***** accuracy: 77.3333333333\n",
        "2"
       ]
      },
      {
       "output_type": "stream",
       "stream": "stdout",
       "text": [
        " Test paramter: [14966   161]  - ***** accuracy: 73.5333333333\n",
        "Step 7\n",
        "Has sampled 2000 random candidates\n",
        "Centroids\n",
        "[[  9521.25          315.25      ]\n",
        " [  7316.6           862.6       ]\n",
        " [ 12520.33333333    772.83333333]\n",
        " [  4663.625         632.75      ]]\n",
        "cluster 0 size (8L,)\n",
        "cluster 1 size (5L,)\n",
        "cluster 2 size (6L,)\n",
        "cluster 3 size (8L,)\n",
        "GCP theta :[  7.02169981e+01   2.22160381e+00   1.00000000e+00   3.30661067e-01\n",
        "   1.16565179e+00   9.32846031e+00   1.15827394e+00   3.10597405e-02]"
       ]
      },
      {
       "output_type": "stream",
       "stream": "stdout",
       "text": [
        "\n",
        "Hopefully :"
       ]
      },
      {
       "output_type": "stream",
       "stream": "stdout",
       "text": [
        " [4056  641] 76.39593125 77.4167453125\n",
        "0"
       ]
      },
      {
       "output_type": "stream",
       "stream": "stdout",
       "text": [
        " Test paramter: [4056  641]  - ***** accuracy: 77.0666666667\n",
        "GP theta :[[ 10.]]\n",
        "GP Hopefully : [4069  788] 76.460794144 78.5096059834\n",
        "1"
       ]
      },
      {
       "output_type": "stream",
       "stream": "stdout",
       "text": [
        " Test paramter: [4069  788]  - ***** accuracy: 76.5666666667\n",
        "2"
       ]
      },
      {
       "output_type": "stream",
       "stream": "stdout",
       "text": [
        " Test paramter: [3530  427]  - ***** accuracy: 76.6666666667\n",
        "Step 8\n",
        "Has sampled 2000 random candidates\n",
        "Centroids\n",
        "[[ 12520.33333333    772.83333333]\n",
        " [  9521.25          315.25      ]\n",
        " [  7316.6           862.6       ]\n",
        " [  4596.11111111    633.66666667]]\n",
        "cluster 0 size (6L,)\n",
        "cluster 1 size (8L,)\n",
        "cluster 2 size (5L,)\n",
        "cluster 3 size (9L,)\n",
        "COBYLA failed to find a solution: Did not converge to a solution satisfying the constraints. See `maxcv` for magnitude of violation."
       ]
      },
      {
       "output_type": "stream",
       "stream": "stdout",
       "text": [
        "\n",
        "GCP theta :[ 90.           1.07906331   1.           0.34661928   1.98802145\n",
        "   7.66097943   4.21853428   0.43686556]"
       ]
      },
      {
       "output_type": "stream",
       "stream": "stdout",
       "text": [
        "\n",
        "Hopefully :"
       ]
      },
      {
       "output_type": "stream",
       "stream": "stdout",
       "text": [
        " [3916  625] 76.4634296875 77.455815625\n",
        "0"
       ]
      },
      {
       "output_type": "stream",
       "stream": "stdout",
       "text": [
        " Test paramter: [3916  625]  - ***** accuracy: 77.1666666667\n",
        "GP theta :[[ 10.]]\n",
        "GP Hopefully : [4091  911] 76.7168573 78.4226128943\n",
        "1"
       ]
      },
      {
       "output_type": "stream",
       "stream": "stdout",
       "text": [
        " Test paramter: [4091  911]  - ***** accuracy: 77.0666666667\n",
        "2"
       ]
      },
      {
       "output_type": "stream",
       "stream": "stdout",
       "text": [
        " Test paramter: [5083  346]  - ***** accuracy: 75.7333333333\n",
        "Step 9\n",
        "Has sampled 2000 random candidates\n",
        "Centroids\n",
        "[[  9521.25          315.25      ]\n",
        " [  4528.1           632.8       ]\n",
        " [ 12520.33333333    772.83333333]\n",
        " [  7316.6           862.6       ]]\n",
        "cluster 0 size (8L,)\n",
        "cluster 1 size (10L,)\n",
        "cluster 2 size (6L,)\n",
        "cluster 3 size (5L,)\n",
        "COBYLA failed to find a solution: Did not converge to a solution satisfying the constraints. See `maxcv` for magnitude of violation."
       ]
      },
      {
       "output_type": "stream",
       "stream": "stdout",
       "text": [
        "\n",
        "GCP theta :[  9.00000000e+01   1.51050371e+00   1.00000000e+00   4.01015739e-01\n",
        "   1.27026778e+00   2.62739373e+00   5.92653044e+00   4.20273205e-02]\n",
        "Hopefully :"
       ]
      },
      {
       "output_type": "stream",
       "stream": "stdout",
       "text": [
        " [4496  619] 76.52095625 77.518328125\n",
        "0"
       ]
      },
      {
       "output_type": "stream",
       "stream": "stdout",
       "text": [
        " Test paramter: [4496  619]  - ***** accuracy: 77.2666666667\n",
        "GP theta :[[ 10.]]\n",
        "GP Hopefully : [3239  898] 76.4738265483 78.3607844228\n",
        "1"
       ]
      },
      {
       "output_type": "stream",
       "stream": "stdout",
       "text": [
        " Test paramter: [3239  898]  - ***** accuracy: 77.1666666667\n",
        "2"
       ]
      },
      {
       "output_type": "stream",
       "stream": "stdout",
       "text": [
        " Test paramter: [3949  735]  - ***** accuracy: 76.7333333333\n",
        "Step 10\n",
        "Has sampled 2000 random candidates\n",
        "Centroids\n",
        "[[  7316.6           862.6       ]\n",
        " [  9521.25          315.25      ]\n",
        " [  4525.18181818    631.54545455]\n",
        " [ 12520.33333333    772.83333333]]\n",
        "cluster 0 size (5L,)\n",
        "cluster 1 size (8L,)\n",
        "cluster 2 size (11L,)\n",
        "cluster 3 size (6L,)\n",
        "GCP theta :[  9.00000000e+01   1.85416718e+00   1.00000000e+00   3.34528507e-01\n",
        "   1.29524794e+00   7.16992732e+00   1.87565605e+00   4.74171998e-02]"
       ]
      },
      {
       "output_type": "stream",
       "stream": "stdout",
       "text": [
        "\n",
        "Hopefully :"
       ]
      },
      {
       "output_type": "stream",
       "stream": "stdout",
       "text": [
        " [4165  620] 76.5756546875 77.5886546875\n",
        "0"
       ]
      },
      {
       "output_type": "stream",
       "stream": "stdout",
       "text": [
        " Test paramter: [4165  620]  - ***** accuracy: 76.7333333333\n",
        "GP theta :[[ 10.]]\n",
        "GP Hopefully : [3142  816] 76.4389686408 78.4180030138\n",
        "1"
       ]
      },
      {
       "output_type": "stream",
       "stream": "stdout",
       "text": [
        " Test paramter: [3142  816]  - ***** accuracy: 77.2666666667\n",
        "2"
       ]
      },
      {
       "output_type": "stream",
       "stream": "stdout",
       "text": [
        " Test paramter: [10281    52]  - ***** accuracy: 70.3\n",
        "Step 11\n",
        "Has sampled 2000 random candidates\n",
        "Centroids\n",
        "[[  9521.25          315.25      ]\n",
        " [  4495.16666667    630.58333333]\n",
        " [  7316.6           862.6       ]\n",
        " [ 12520.33333333    772.83333333]]\n",
        "cluster 0 size (8L,)\n",
        "cluster 1 size (12L,)\n",
        "cluster 2 size (5L,)\n",
        "cluster 3 size (6L,)\n",
        "COBYLA failed to find a solution: Did not converge to a solution satisfying the constraints. See `maxcv` for magnitude of violation."
       ]
      },
      {
       "output_type": "stream",
       "stream": "stdout",
       "text": [
        "\n",
        "GCP theta :[ 90.           1.7797892    1.35383519   0.31581296   1.27333517\n",
        "   5.43245256   0.38045026   0.42532631]"
       ]
      },
      {
       "output_type": "stream",
       "stream": "stdout",
       "text": [
        "\n",
        "Hopefully :"
       ]
      },
      {
       "output_type": "stream",
       "stream": "stdout",
       "text": [
        " [3997  631] 76.59626875 77.5730265625\n",
        "0"
       ]
      },
      {
       "output_type": "stream",
       "stream": "stdout",
       "text": [
        " Test paramter: [3997  631]  - ***** accuracy: 76.1333333333\n",
        "GP theta :[[ 10.]]\n",
        "GP Hopefully : [3331  706] 75.9246163811 78.3518152439\n",
        "1"
       ]
      },
      {
       "output_type": "stream",
       "stream": "stdout",
       "text": [
        " Test paramter: [3331  706]  - ***** accuracy: 76.6\n",
        "2"
       ]
      },
      {
       "output_type": "stream",
       "stream": "stdout",
       "text": [
        " Test paramter: [13629   930]  - ***** accuracy: 75.6\n",
        "Step 12\n",
        "Has sampled 2000 random candidates\n",
        "Centroids\n",
        "[[  9521.25          315.25      ]\n",
        " [  4456.84615385    630.61538462]\n",
        " [ 12520.33333333    772.83333333]\n",
        " [  7316.6           862.6       ]]\n",
        "cluster 0 size (8L,)\n",
        "cluster 1 size (13L,)\n",
        "cluster 2 size (6L,)\n",
        "cluster 3 size (5L,)\n",
        "COBYLA failed to find a solution: Did not converge to a solution satisfying the constraints. See `maxcv` for magnitude of violation."
       ]
      },
      {
       "output_type": "stream",
       "stream": "stdout",
       "text": [
        "\n",
        "GCP theta :[  9.00000000e+01   2.54917351e+00   1.06629177e+00   3.65842310e-01\n",
        "   1.43125859e+00   7.09635136e+00   1.24912324e+00   5.92119858e-02]"
       ]
      },
      {
       "output_type": "stream",
       "stream": "stdout",
       "text": [
        "\n",
        "Hopefully :"
       ]
      },
      {
       "output_type": "stream",
       "stream": "stdout",
       "text": [
        " [4085  638] 76.5600265625 77.549584375\n",
        "0"
       ]
      },
      {
       "output_type": "stream",
       "stream": "stdout",
       "text": [
        " Test paramter: [4085  638]  - ***** accuracy: 76.6333333333\n",
        "GP theta :[[ 10.]]\n",
        "GP Hopefully : [3530  618] 76.1000896363 78.4335443017\n",
        "1"
       ]
      },
      {
       "output_type": "stream",
       "stream": "stdout",
       "text": [
        " Test paramter: [3530  618]  - ***** accuracy: 77.2\n",
        "2"
       ]
      },
      {
       "output_type": "stream",
       "stream": "stdout",
       "text": [
        " Test paramter: [9958  190]  - ***** accuracy: 74.6\n",
        "Step 13\n",
        "Has sampled 2000 random candidates\n",
        "Centroids\n",
        "[[ 12520.33333333    772.83333333]\n",
        " [  4430.28571429    631.14285714]\n",
        " [  9521.25          315.25      ]\n",
        " [  7316.6           862.6       ]]\n",
        "cluster 0 size (6L,)\n",
        "cluster 1 size (14L,)\n",
        "cluster 2 size (8L,)\n",
        "cluster 3 size (5L,)\n",
        "COBYLA failed to find a solution: Did not converge to a solution satisfying the constraints. See `maxcv` for magnitude of violation."
       ]
      },
      {
       "output_type": "stream",
       "stream": "stdout",
       "text": [
        "\n",
        "GCP theta :[  8.65636278e+01   1.00000000e+00   1.00000000e+00   3.42196104e-01\n",
        "   5.00000000e+00   8.48866604e+00   1.17027550e-01   2.58015998e-02]"
       ]
      },
      {
       "output_type": "stream",
       "stream": "stdout",
       "text": [
        "\n",
        "Hopefully :"
       ]
      },
      {
       "output_type": "stream",
       "stream": "stdout",
       "text": [
        " [4334  608] 76.5650125 77.53395625\n",
        "0"
       ]
      },
      {
       "output_type": "stream",
       "stream": "stdout",
       "text": [
        " Test paramter: [4334  608]  - ***** accuracy: 76.4333333333\n",
        "GP theta :[[ 10.]]\n",
        "GP Hopefully : [4061  556] 76.3392379267 78.6274878434\n",
        "1"
       ]
      },
      {
       "output_type": "stream",
       "stream": "stdout",
       "text": [
        " Test paramter: [4061  556]  - ***** accuracy: 76.6666666667\n",
        "2"
       ]
      },
      {
       "output_type": "stream",
       "stream": "stdout",
       "text": [
        " Test paramter: [3290  553]  - ***** accuracy: 76.4666666667\n",
        "Step 14\n",
        "Has sampled 2000 random candidates\n",
        "Centroids\n",
        "[[  9521.25          315.25      ]\n",
        " [  4423.86666667    629.6       ]\n",
        " [  7316.6           862.6       ]\n",
        " [ 12520.33333333    772.83333333]]\n",
        "cluster 0 size (8L,)\n",
        "cluster 1 size (15L,)\n",
        "cluster 2 size (5L,)\n",
        "cluster 3 size (6L,)\n",
        "COBYLA failed to find a solution: Did not converge to a solution satisfying the constraints. See `maxcv` for magnitude of violation."
       ]
      },
      {
       "output_type": "stream",
       "stream": "stdout",
       "text": [
        "\n",
        "GCP theta :[ 90.           4.0543611    1.           0.36206279   1.           3.05626381\n",
        "   0.29712948   0.32939689]"
       ]
      },
      {
       "output_type": "stream",
       "stream": "stdout",
       "text": [
        "\n",
        "Hopefully :"
       ]
      },
      {
       "output_type": "stream",
       "stream": "stdout",
       "text": [
        " [4209  632] 76.5650125 77.5261421875\n",
        "0"
       ]
      },
      {
       "output_type": "stream",
       "stream": "stdout",
       "text": [
        " Test paramter: [4209  632]  - ***** accuracy: 76.7333333333\n",
        "GP theta :[[ 10.]]\n",
        "GP Hopefully : [3078  554] 76.3473119351 78.4988251338\n",
        "1"
       ]
      },
      {
       "output_type": "stream",
       "stream": "stdout",
       "text": [
        " Test paramter: [3078  554]  - ***** accuracy: 77.1666666667\n",
        "2"
       ]
      },
      {
       "output_type": "stream",
       "stream": "stdout",
       "text": [
        " Test paramter: [9149  226]  - ***** accuracy: 75.8\n",
        "Step 15\n",
        "Has sampled 1999 random candidates\n",
        "Centroids\n",
        "[[  4410.4375        629.75      ]\n",
        " [  9521.25          315.25      ]\n",
        " [  7316.6           862.6       ]\n",
        " [ 12520.33333333    772.83333333]]\n",
        "cluster 0 size (16L,)\n",
        "cluster 1 size (8L,)\n",
        "cluster 2 size (5L,)\n",
        "cluster 3 size (6L,)\n",
        "COBYLA failed to find a solution: Did not converge to a solution satisfying the constraints. See `maxcv` for magnitude of violation."
       ]
      },
      {
       "output_type": "stream",
       "stream": "stdout",
       "text": [
        "\n",
        "GCP theta :[ 79.70391755   3.35943302   1.           0.31994856   1.29556034\n",
        "   9.80888719   1.15023694   0.57715856]"
       ]
      },
      {
       "output_type": "stream",
       "stream": "stdout",
       "text": [
        "\n",
        "Hopefully :"
       ]
      },
      {
       "output_type": "stream",
       "stream": "stdout",
       "text": [
        " [4335  632] 76.580640625 77.518328125\n",
        "0"
       ]
      },
      {
       "output_type": "stream",
       "stream": "stdout",
       "text": [
        " Test paramter: [4335  632]  - ***** accuracy: 76.9\n",
        "GP theta :[[ 10.]]\n",
        "GP Hopefully : [3063  478] 76.1463673832 78.4998592551\n",
        "1"
       ]
      },
      {
       "output_type": "stream",
       "stream": "stdout",
       "text": [
        " Test paramter: [3063  478]  - ***** accuracy: 76.7666666667\n",
        "2"
       ]
      },
      {
       "output_type": "stream",
       "stream": "stdout",
       "text": [
        " Test paramter: [11664   254]  - ***** accuracy: 74.5333333333\n",
        "Step 16\n",
        "Has sampled 1999 random candidates\n",
        "Centroids\n",
        "[[  4406.            629.88235294]\n",
        " [  9521.25          315.25      ]\n",
        " [ 12520.33333333    772.83333333]\n",
        " [  7316.6           862.6       ]]\n",
        "cluster 0 size (17L,)\n",
        "cluster 1 size (8L,)\n",
        "cluster 2 size (6L,)\n",
        "cluster 3 size (5L,)\n",
        "COBYLA failed to find a solution: Did not converge to a solution satisfying the constraints. See `maxcv` for magnitude of violation."
       ]
      },
      {
       "output_type": "stream",
       "stream": "stdout",
       "text": [
        "\n",
        "GCP theta :[  9.00000000e+01   1.27541434e+00   1.00000000e+00   3.90369178e-01\n",
        "   1.15377470e+00   4.77784559e+00   1.63771752e-01   5.51340262e-02]"
       ]
      },
      {
       "output_type": "stream",
       "stream": "stdout",
       "text": [
        "\n",
        "Hopefully :"
       ]
      },
      {
       "output_type": "stream",
       "stream": "stdout",
       "text": [
        " [4221  621] 76.5912828125 77.5105140625\n",
        "0"
       ]
      },
      {
       "output_type": "stream",
       "stream": "stdout",
       "text": [
        " Test paramter: [4221  621]  - ***** accuracy: 76.6666666667\n",
        "GP theta :[[ 10.]]\n",
        "GP Hopefully : [3298  990] 75.9962995444 78.4550047887\n",
        "1"
       ]
      },
      {
       "output_type": "stream",
       "stream": "stdout",
       "text": [
        " Test paramter: [3298  990]  - ***** accuracy: 76.8666666667\n",
        "2"
       ]
      },
      {
       "output_type": "stream",
       "stream": "stdout",
       "text": [
        " Test paramter: [6216  388]  - ***** accuracy: 75.8\n",
        "Step 17\n",
        "Has sampled 1999 random candidates\n",
        "Centroids\n",
        "[[  4395.72222222    629.38888889]\n",
        " [ 12520.33333333    772.83333333]\n",
        " [  9521.25          315.25      ]\n",
        " [  7316.6           862.6       ]]\n",
        "cluster 0 size (18L,)\n",
        "cluster 1 size (6L,)\n",
        "cluster 2 size (8L,)\n",
        "cluster 3 size (5L,)\n",
        "COBYLA failed to find a solution: Did not converge to a solution satisfying the constraints. See `maxcv` for magnitude of violation."
       ]
      },
      {
       "output_type": "stream",
       "stream": "stdout",
       "text": [
        "\n",
        "GCP theta :[  8.82619968e+01   1.11096164e+00   1.16133254e+00   3.21408692e-01\n",
        "   1.07589702e+00   2.23340117e+00   1.59699810e-01   1.00000000e-02]\n",
        "Hopefully :"
       ]
      },
      {
       "output_type": "stream",
       "stream": "stdout",
       "text": [
        " [3609  619] 76.5756546875 77.4948859375\n",
        "0"
       ]
      },
      {
       "output_type": "stream",
       "stream": "stdout",
       "text": [
        " Test paramter: [3609  619]  - ***** accuracy: 76.8333333333\n",
        "GP theta :[[ 10.]]\n",
        "GP Hopefully : [3655  394] 75.9170649299 78.4247325125\n",
        "1"
       ]
      },
      {
       "output_type": "stream",
       "stream": "stdout",
       "text": [
        " Test paramter: [3655  394]  - ***** accuracy: 75.7666666667\n",
        "2"
       ]
      },
      {
       "output_type": "stream",
       "stream": "stdout",
       "text": [
        " Test paramter: [5170  689]  - ***** accuracy: 76.8333333333\n",
        "Step 18\n",
        "Has sampled 2000 random candidates\n",
        "Centroids\n",
        "[[  7316.6           862.6       ]\n",
        " [  4354.31578947    628.84210526]\n",
        " [  9521.25          315.25      ]\n",
        " [ 12520.33333333    772.83333333]]\n",
        "cluster 0 size (5L,)\n",
        "cluster 1 size (19L,)\n",
        "cluster 2 size (8L,)\n",
        "cluster 3 size (6L,)\n",
        "GCP theta :[  9.00000000e+01   2.11435682e+00   1.32946275e+00   3.12392521e-01\n",
        "   1.65228727e+00   5.09110821e+00   5.57699768e+00   1.99653110e-02]"
       ]
      },
      {
       "output_type": "stream",
       "stream": "stdout",
       "text": [
        "\n",
        "Hopefully :"
       ]
      },
      {
       "output_type": "stream",
       "stream": "stdout",
       "text": [
        " [4119  627] 76.6197109375 77.4948859375\n",
        "0"
       ]
      },
      {
       "output_type": "stream",
       "stream": "stdout",
       "text": [
        " Test paramter: [4119  627]  - ***** accuracy: 76.7666666667\n",
        "GP theta :[[ 10.]]\n",
        "GP Hopefully : [4207  996] 76.3393258306 78.4121944296\n",
        "1"
       ]
      },
      {
       "output_type": "stream",
       "stream": "stdout",
       "text": [
        " Test paramter: [4207  996]  - ***** accuracy: 77.2\n",
        "2"
       ]
      },
      {
       "output_type": "stream",
       "stream": "stdout",
       "text": [
        " Test paramter: [13649   499]  - ***** accuracy: 75.4333333333\n",
        "Step 19\n",
        "Has sampled 1999 random candidates\n",
        "Centroids\n",
        "[[  4342.55          628.75      ]\n",
        " [ 12520.33333333    772.83333333]\n",
        " [  9521.25          315.25      ]\n",
        " [  7316.6           862.6       ]]\n",
        "cluster 0 size (20L,)\n",
        "cluster 1 size (6L,)\n",
        "cluster 2 size (8L,)\n",
        "cluster 3 size (5L,)\n",
        "COBYLA failed to find a solution: Did not converge to a solution satisfying the constraints. See `maxcv` for magnitude of violation."
       ]
      },
      {
       "output_type": "stream",
       "stream": "stdout",
       "text": [
        "\n",
        "GCP theta :[ 90.           2.42413614   1.03848391   0.29837748   1.08150946  10.\n",
        "   8.14375167   0.74637997]"
       ]
      },
      {
       "output_type": "stream",
       "stream": "stdout",
       "text": [
        "\n",
        "Hopefully :"
       ]
      },
      {
       "output_type": "stream",
       "stream": "stdout",
       "text": [
        " [4370  632] 76.6225390625 77.487071875\n",
        "0"
       ]
      },
      {
       "output_type": "stream",
       "stream": "stdout",
       "text": [
        " Test paramter: [4370  632]  - ***** accuracy: 76.0333333333\n",
        "GP theta :[[ 10.]]\n",
        "GP Hopefully : [5160  999] 76.2547144433 78.3938596418\n",
        "1"
       ]
      },
      {
       "output_type": "stream",
       "stream": "stdout",
       "text": [
        " Test paramter: [5160  999]  - ***** accuracy: 76.6666666667\n",
        "2"
       ]
      },
      {
       "output_type": "stream",
       "stream": "stdout",
       "text": [
        " Test paramter: [5089  292]  - ***** accuracy: 76.3666666667\n",
        "Step 20\n",
        "Has sampled 1999 random candidates\n",
        "Centroids\n",
        "[[  9521.25          315.25      ]\n",
        " [  7316.6           862.6       ]\n",
        " [  4343.85714286    628.9047619 ]\n",
        " [ 12520.33333333    772.83333333]]\n",
        "cluster 0 size (8L,)\n",
        "cluster 1 size (5L,)\n",
        "cluster 2 size (21L,)\n",
        "cluster 3 size (6L,)\n",
        "COBYLA failed to find a solution: Did not converge to a solution satisfying the constraints. See `maxcv` for magnitude of violation."
       ]
      },
      {
       "output_type": "stream",
       "stream": "stdout",
       "text": [
        "\n",
        "COBYLA failed to find a solution: Did not converge to a solution satisfying the constraints. See `maxcv` for magnitude of violation."
       ]
      },
      {
       "output_type": "stream",
       "stream": "stdout",
       "text": [
        "\n",
        "GCP theta :[ 90.           1.72648523   1.29353311   0.30401552   1.41406389  10.\n",
        "   0.10138098   0.25973882]\n",
        "Hopefully :"
       ]
      },
      {
       "output_type": "stream",
       "stream": "stdout",
       "text": [
        " [4295  623] 76.611896875 77.4636296875\n",
        "0"
       ]
      },
      {
       "output_type": "stream",
       "stream": "stdout",
       "text": [
        " Test paramter: [4295  623]  - ***** accuracy: 76.4666666667\n",
        "GP theta :[[ 10.]]\n",
        "GP Hopefully : [4058  196] 75.9280438854 78.3332717405\n",
        "1"
       ]
      },
      {
       "output_type": "stream",
       "stream": "stdout",
       "text": [
        " Test paramter: [4058  196]  - ***** accuracy: 75.1333333333\n",
        "2"
       ]
      },
      {
       "output_type": "stream",
       "stream": "stdout",
       "text": [
        " Test paramter: [5707  460]  - ***** accuracy: 75.9666666667\n",
        "Step 21\n",
        "Has sampled 2000 random candidates\n",
        "Centroids\n",
        "[[  9521.25          315.25      ]\n",
        " [  4341.63636364    628.63636364]\n",
        " [ 12520.33333333    772.83333333]\n",
        " [  7316.6           862.6       ]]\n",
        "cluster 0 size (8L,)\n",
        "cluster 1 size (22L,)\n",
        "cluster 2 size (6L,)\n",
        "cluster 3 size (5L,)\n",
        "COBYLA failed to find a solution: Did not converge to a solution satisfying the constraints. See `maxcv` for magnitude of violation."
       ]
      },
      {
       "output_type": "stream",
       "stream": "stdout",
       "text": [
        "\n",
        "GCP theta :[ 90.           3.88195175   1.06104594   0.33451828   1.2637889\n",
        "   5.2212447    3.33346796   0.17049595]"
       ]
      },
      {
       "output_type": "stream",
       "stream": "stdout",
       "text": [
        "\n",
        "Hopefully :"
       ]
      },
      {
       "output_type": "stream",
       "stream": "stdout",
       "text": [
        " [3972  604] 76.58346875 77.4480015625\n",
        "0"
       ]
      },
      {
       "output_type": "stream",
       "stream": "stdout",
       "text": [
        " Test paramter: [3972  604]  - ***** accuracy: 76.7\n",
        "GP theta :[[ 10.]]\n",
        "GP Hopefully : [6144  212] 75.9626613398 78.2924616368\n",
        "1"
       ]
      },
      {
       "output_type": "stream",
       "stream": "stdout",
       "text": [
        " Test paramter: [6144  212]  - ***** accuracy: 74.7\n",
        "2"
       ]
      },
      {
       "output_type": "stream",
       "stream": "stdout",
       "text": [
        " Test paramter: [3081  273]  - ***** accuracy: 75.9333333333\n",
        "Step 22\n",
        "Has sampled 2000 random candidates\n",
        "Centroids\n",
        "[[  4325.56521739    627.56521739]\n",
        " [  9521.25          315.25      ]\n",
        " [  7316.6           862.6       ]\n",
        " [ 12520.33333333    772.83333333]]\n",
        "cluster 0 size (23L,)\n",
        "cluster 1 size (8L,)\n",
        "cluster 2 size (5L,)\n",
        "cluster 3 size (6L,)\n",
        "GCP theta :[  9.00000000e+01   1.85011701e+00   1.00000000e+00   2.81053038e-01\n",
        "   1.48288730e+00   2.22569609e+00   5.10284373e-01   8.51099638e-02]"
       ]
      },
      {
       "output_type": "stream",
       "stream": "stdout",
       "text": [
        "\n",
        "Hopefully :"
       ]
      },
      {
       "output_type": "stream",
       "stream": "stdout",
       "text": [
        " [4002  623] 76.599096875 77.4480015625\n",
        "0"
       ]
      },
      {
       "output_type": "stream",
       "stream": "stdout",
       "text": [
        " Test paramter: [4002  623]  - ***** accuracy: 77.0\n",
        "GP theta :[[ 10.]]\n",
        "GP Hopefully : [4904  323] 76.1584913547 78.2785509242\n",
        "1"
       ]
      },
      {
       "output_type": "stream",
       "stream": "stdout",
       "text": [
        " Test paramter: [4904  323]  - ***** accuracy: 76.5666666667\n",
        "2"
       ]
      },
      {
       "output_type": "stream",
       "stream": "stdout",
       "text": [
        " Test paramter: [4768  462]  - ***** accuracy: 76.7\n",
        "Step 23\n",
        "Has sampled 2000 random candidates\n",
        "Centroids\n",
        "[[  7316.6           862.6       ]\n",
        " [  4312.08333333    627.375     ]\n",
        " [ 12520.33333333    772.83333333]\n",
        " [  9521.25          315.25      ]]\n",
        "cluster 0 size (5L,)\n",
        "cluster 1 size (24L,)\n",
        "cluster 2 size (6L,)\n",
        "cluster 3 size (8L,)\n",
        "COBYLA failed to find a solution: Did not converge to a solution satisfying the constraints. See `maxcv` for magnitude of violation."
       ]
      },
      {
       "output_type": "stream",
       "stream": "stdout",
       "text": [
        "\n",
        "GCP theta :[  8.90000778e+01   1.12078785e+01   1.75645896e+00   3.07162467e-01\n",
        "   1.42574111e+00   8.21408841e+00   9.31651850e-01   8.12634446e-02]\n",
        "Hopefully :"
       ]
      },
      {
       "output_type": "stream",
       "stream": "stdout",
       "text": [
        " [4326  639] 76.6197109375 77.4401875\n",
        "0"
       ]
      },
      {
       "output_type": "stream",
       "stream": "stdout",
       "text": [
        " Test paramter: [4326  639]  - ***** accuracy: 76.8\n",
        "GP theta :[[ 10.]]\n",
        "GP Hopefully : [6028  648] 75.8312352859 78.1707005655\n",
        "1"
       ]
      },
      {
       "output_type": "stream",
       "stream": "stdout",
       "text": [
        " Test paramter: [6028  648]  - ***** accuracy: 76.3333333333\n",
        "2"
       ]
      },
      {
       "output_type": "stream",
       "stream": "stdout",
       "text": [
        " Test paramter: [12660   125]  - ***** accuracy: 74.3333333333\n",
        "Step 24\n",
        "Has sampled 2000 random candidates\n",
        "Centroids\n",
        "[[  4312.64          627.84      ]\n",
        " [ 12520.33333333    772.83333333]\n",
        " [  9521.25          315.25      ]\n",
        " [  7316.6           862.6       ]]\n",
        "cluster 0 size (25L,)\n",
        "cluster 1 size (6L,)\n",
        "cluster 2 size (8L,)\n",
        "cluster 3 size (5L,)\n",
        "COBYLA failed to find a solution: Did not converge to a solution satisfying the constraints. See `maxcv` for magnitude of violation."
       ]
      },
      {
       "output_type": "stream",
       "stream": "stdout",
       "text": [
        "\n",
        "GCP theta :[ 58.76708662  27.90680137   1.8805213    0.29979124   1.40456443\n",
        "   9.79225793   0.14318647   0.19914097]\n",
        "Hopefully :"
       ]
      },
      {
       "output_type": "stream",
       "stream": "stdout",
       "text": [
        " [4249  616] 76.6225390625 77.4401875\n",
        "0"
       ]
      },
      {
       "output_type": "stream",
       "stream": "stdout",
       "text": [
        " Test paramter: [4249  616]  - ***** accuracy: 76.6\n",
        "GP theta :[[ 10.]]\n",
        "GP Hopefully : [5688  575] 76.0452771313 78.1187913449\n",
        "1"
       ]
      },
      {
       "output_type": "stream",
       "stream": "stdout",
       "text": [
        " Test paramter: [5688  575]  - ***** accuracy: 76.6333333333\n",
        "2"
       ]
      },
      {
       "output_type": "stream",
       "stream": "stdout",
       "text": [
        " Test paramter: [12696   386]  - ***** accuracy: 74.7\n",
        "Step 25\n",
        "Has sampled 1999 random candidates\n",
        "Centroids\n",
        "[[  4323.55555556    636.37037037]\n",
        " [ 12263.75          584.75      ]\n",
        " [ 10115.28571429    880.85714286]\n",
        " [  9048.85714286    299.57142857]]\n",
        "cluster 0 size (27L,)\n",
        "cluster 1 size (4L,)\n",
        "cluster 2 size (7L,)\n",
        "cluster 3 size (7L,)\n",
        "GCP theta :[  9.00000000e+01   2.03817261e+00   1.00000000e+00   2.78116377e-01\n",
        "   1.06735424e+00   2.36349091e+00   1.95869489e+00   2.03438617e-02]"
       ]
      },
      {
       "output_type": "stream",
       "stream": "stdout",
       "text": [
        "\n",
        "Hopefully :"
       ]
      },
      {
       "output_type": "stream",
       "stream": "stdout",
       "text": [
        " [3828  603] 76.5756546875 77.627725\n",
        "0"
       ]
      },
      {
       "output_type": "stream",
       "stream": "stdout",
       "text": [
        " Test paramter: [3828  603]  - ***** accuracy: 76.8333333333\n",
        "GP theta :[[ 10.]]\n",
        "GP Hopefully : [3042  643] 76.8671392104 78.1530938217\n",
        "1"
       ]
      },
      {
       "output_type": "stream",
       "stream": "stdout",
       "text": [
        " Test paramter: [3042  643]  - ***** accuracy: 76.7\n",
        "2"
       ]
      },
      {
       "output_type": "stream",
       "stream": "stdout",
       "text": [
        " Test paramter: [13045    90]  - ***** accuracy: 72.5666666667\n",
        "Step 26\n",
        "Has sampled 2000 random candidates\n",
        "Centroids\n",
        "[[ 12520.33333333    772.83333333]\n",
        " [  4292.33333333    626.48148148]\n",
        " [  7316.6           862.6       ]\n",
        " [  9521.25          315.25      ]]\n",
        "cluster 0 size (6L,)\n",
        "cluster 1 size (27L,)\n",
        "cluster 2 size (5L,)\n",
        "cluster 3 size (8L,)\n",
        "GCP theta :[ 90.           1.35917917   1.           0.30416221   1.           8.57115048\n",
        "   3.71816188   0.65611227]"
       ]
      },
      {
       "output_type": "stream",
       "stream": "stdout",
       "text": [
        "\n",
        "Hopefully :"
       ]
      },
      {
       "output_type": "stream",
       "stream": "stdout",
       "text": [
        " [3933  604] 76.6353390625 77.424559375\n",
        "0"
       ]
      },
      {
       "output_type": "stream",
       "stream": "stdout",
       "text": [
        " Test paramter: [3933  604]  - ***** accuracy: 76.0333333333\n",
        "GP theta :[[ 10.]]\n",
        "GP Hopefully : [6816  576] 76.0225227245 78.1392443607\n",
        "1"
       ]
      },
      {
       "output_type": "stream",
       "stream": "stdout",
       "text": [
        " Test paramter: [6816  576]  - ***** accuracy: 75.6333333333\n",
        "2"
       ]
      },
      {
       "output_type": "stream",
       "stream": "stdout",
       "text": [
        " Test paramter: [3717  219]  - ***** accuracy: 75.3333333333\n",
        "Step 27\n",
        "Has sampled 2000 random candidates\n",
        "Centroids\n",
        "[[  4279.5           625.67857143]\n",
        " [  9521.25          315.25      ]\n",
        " [ 12520.33333333    772.83333333]\n",
        " [  7316.6           862.6       ]]\n",
        "cluster 0 size (28L,)\n",
        "cluster 1 size (8L,)\n",
        "cluster 2 size (6L,)\n",
        "cluster 3 size (5L,)\n",
        "COBYLA failed to find a solution: Did not converge to a solution satisfying the constraints. See `maxcv` for magnitude of violation."
       ]
      },
      {
       "output_type": "stream",
       "stream": "stdout",
       "text": [
        "\n",
        "GCP theta :[ 59.35337668  25.82823499   1.           0.28233124   1.35636544  10.\n",
        "   1.99193717   0.16874816]"
       ]
      },
      {
       "output_type": "stream",
       "stream": "stdout",
       "text": [
        "\n",
        "Hopefully :"
       ]
      },
      {
       "output_type": "stream",
       "stream": "stdout",
       "text": [
        " [3849  647] 76.6069109375 77.40893125\n",
        "0"
       ]
      },
      {
       "output_type": "stream",
       "stream": "stdout",
       "text": [
        " Test paramter: [3849  647]  - ***** accuracy: 76.9\n",
        "GP theta :[[ 10.]]\n",
        "GP Hopefully : [4627  954] 76.8907461292 78.0002644515\n",
        "1"
       ]
      },
      {
       "output_type": "stream",
       "stream": "stdout",
       "text": [
        " Test paramter: [4627  954]  - ***** accuracy: 76.5\n",
        "2"
       ]
      },
      {
       "output_type": "stream",
       "stream": "stdout",
       "text": [
        " Test paramter: [7091  535]  - ***** accuracy: 76.1666666667\n",
        "Step 28\n",
        "Has sampled 2000 random candidates\n",
        "Centroids\n",
        "[[  4264.65517241    626.4137931 ]\n",
        " [ 12520.33333333    772.83333333]\n",
        " [  9521.25          315.25      ]\n",
        " [  7316.6           862.6       ]]\n",
        "cluster 0 size (29L,)\n",
        "cluster 1 size (6L,)\n",
        "cluster 2 size (8L,)\n",
        "cluster 3 size (5L,)\n",
        "GCP theta :[ 90.           2.02105622   1.           0.29217981   1.28536547\n",
        "   8.08748125   0.86165228   0.23085032]"
       ]
      },
      {
       "output_type": "stream",
       "stream": "stdout",
       "text": [
        "\n",
        "Hopefully :"
       ]
      },
      {
       "output_type": "stream",
       "stream": "stdout",
       "text": [
        " [4145  625] 76.6381671875 77.4167453125\n",
        "0"
       ]
      },
      {
       "output_type": "stream",
       "stream": "stdout",
       "text": [
        " Test paramter: [4145  625]  - ***** accuracy: 77.1333333333\n",
        "GP theta :[[ 10.]]\n",
        "GP Hopefully : [6466  870] 77.8512587013 78.0351398106\n",
        "1"
       ]
      },
      {
       "output_type": "stream",
       "stream": "stdout",
       "text": [
        " Test paramter: [6466  870]  - ***** accuracy: 76.6333333333\n",
        "2"
       ]
      },
      {
       "output_type": "stream",
       "stream": "stdout",
       "text": [
        " Test paramter: [9441  828]  - ***** accuracy: 76.0\n",
        "Step 29\n",
        "Has sampled 2000 random candidates\n",
        "Centroids\n",
        "[[  9521.25          315.25      ]\n",
        " [  4260.66666667    626.36666667]\n",
        " [ 12097.85714286    780.42857143]\n",
        " [  6755.            871.75      ]]\n",
        "cluster 0 size (8L,)\n",
        "cluster 1 size (30L,)\n",
        "cluster 2 size (7L,)\n",
        "cluster 3 size (4L,)\n",
        "GCP theta :[ 90.           1.01282489   1.           0.25233903   1.15712413  10.\n",
        "   1.35339755   0.35804304]"
       ]
      },
      {
       "output_type": "stream",
       "stream": "stdout",
       "text": [
        "\n",
        "Hopefully :"
       ]
      },
      {
       "output_type": "stream",
       "stream": "stdout",
       "text": [
        " [3763  632] 76.6381671875 77.4401875\n",
        "0"
       ]
      },
      {
       "output_type": "stream",
       "stream": "stdout",
       "text": [
        " Test paramter: [3763  632]  - ***** accuracy: 76.7666666667\n",
        "GP theta :[[ 10.]]\n",
        "GP Hopefully : [6816  982] 79.4520342964 83.2134151868\n",
        "1"
       ]
      },
      {
       "output_type": "stream",
       "stream": "stdout",
       "text": [
        " Test paramter: [6816  982]  - ***** accuracy: 76.6666666667\n",
        "2"
       ]
      },
      {
       "output_type": "stream",
       "stream": "stdout",
       "text": [
        " Test paramter: [3853  242]  - ***** accuracy: 75.4\n",
        "Step 30\n",
        "Has sampled 1999 random candidates\n",
        "Centroids\n",
        "[[  6755.            871.75      ]\n",
        " [  4244.61290323    626.5483871 ]\n",
        " [  9521.25          315.25      ]\n",
        " [ 12097.85714286    780.42857143]]\n",
        "cluster 0 size (4L,)\n",
        "cluster 1 size (31L,)\n",
        "cluster 2 size (8L,)\n",
        "cluster 3 size (7L,)\n",
        "GCP theta :[ 90.           1.83393256   1.           0.31932009   1.16014835\n",
        "   9.74907488   0.98190809   0.83145047]"
       ]
      },
      {
       "output_type": "stream",
       "stream": "stdout",
       "text": [
        "\n",
        "Hopefully :"
       ]
      },
      {
       "output_type": "stream",
       "stream": "stdout",
       "text": [
        " [4068  638] 76.65878125 77.4323734375\n",
        "0"
       ]
      },
      {
       "output_type": "stream",
       "stream": "stdout",
       "text": [
        " Test paramter: [4068  638]  - ***** accuracy: 76.8666666667\n",
        "GP theta :[[ 10.]]\n",
        "GP Hopefully : [5291  826] 79.0123365549 81.6972908621\n",
        "1"
       ]
      },
      {
       "output_type": "stream",
       "stream": "stdout",
       "text": [
        " Test paramter: [5291  826]  - ***** accuracy: 76.3666666667\n",
        "2"
       ]
      },
      {
       "output_type": "stream",
       "stream": "stdout",
       "text": [
        " Test paramter: [7329  972]  - ***** accuracy: 76.2\n",
        "Step 31\n",
        "Has sampled 2000 random candidates\n",
        "Centroids\n",
        "[[  4239.09375       626.90625   ]\n",
        " [ 12520.33333333    772.83333333]\n",
        " [  9521.25          315.25      ]\n",
        " [  7316.6           862.6       ]]\n",
        "cluster 0 size (32L,)\n",
        "cluster 1 size (6L,)\n",
        "cluster 2 size (8L,)\n",
        "cluster 3 size (5L,)\n",
        "GCP theta :[ 90.           5.85371825   1.           0.24873887   1.47760984\n",
        "   9.76304407   2.86297982   0.22055688]"
       ]
      },
      {
       "output_type": "stream",
       "stream": "stdout",
       "text": [
        "\n",
        "Hopefully :"
       ]
      },
      {
       "output_type": "stream",
       "stream": "stdout",
       "text": [
        " [3802  619] 76.6665953125 77.4167453125\n",
        "0"
       ]
      },
      {
       "output_type": "stream",
       "stream": "stdout",
       "text": [
        " Test paramter: [3802  619]  - ***** accuracy: 76.4333333333\n",
        "GP theta :[[ 10.]]\n",
        "GP Hopefully : [5910  955] 78.8164281916 81.3987701363\n",
        "1"
       ]
      },
      {
       "output_type": "stream",
       "stream": "stdout",
       "text": [
        " Test paramter: [5910  955]  - ***** accuracy: 76.5666666667\n",
        "2"
       ]
      },
      {
       "output_type": "stream",
       "stream": "stdout",
       "text": [
        " Test paramter: [6034  682]  - ***** accuracy: 76.8333333333\n",
        "Step 32\n",
        "Has sampled 2000 random candidates\n",
        "Centroids\n",
        "[[  4225.84848485    626.66666667]\n",
        " [  9521.25          315.25      ]\n",
        " [ 12520.33333333    772.83333333]\n",
        " [  7316.6           862.6       ]]\n",
        "cluster 0 size (33L,)\n",
        "cluster 1 size (8L,)\n",
        "cluster 2 size (6L,)\n",
        "cluster 3 size (5L,)\n",
        "COBYLA failed to find a solution: Did not converge to a solution satisfying the constraints. See `maxcv` for magnitude of violation."
       ]
      },
      {
       "output_type": "stream",
       "stream": "stdout",
       "text": [
        "\n",
        "GCP theta :[ 90.          10.57929169   1.           0.259957     1.14038333  10.           2.\n",
        "   0.1239144 ]"
       ]
      },
      {
       "output_type": "stream",
       "stream": "stdout",
       "text": [
        "\n",
        "Hopefully :"
       ]
      },
      {
       "output_type": "stream",
       "stream": "stdout",
       "text": [
        " [4139  634] 76.6537953125 77.40893125\n",
        "0"
       ]
      },
      {
       "output_type": "stream",
       "stream": "stdout",
       "text": [
        " Test paramter: [4139  634]  - ***** accuracy: 76.5333333333\n",
        "GP theta :[[ 10.]]\n",
        "GP Hopefully : [7091  937] 78.2825786449 80.6655629273\n",
        "1"
       ]
      },
      {
       "output_type": "stream",
       "stream": "stdout",
       "text": [
        " Test paramter: [7091  937]  - ***** accuracy: 76.6666666667\n",
        "2"
       ]
      },
      {
       "output_type": "stream",
       "stream": "stdout",
       "text": [
        " Test paramter: [5615  466]  - ***** accuracy: 76.0333333333\n",
        "Step 33\n",
        "Has sampled 2000 random candidates\n",
        "Centroids\n",
        "[[  9521.25          315.25      ]\n",
        " [  4223.29411765    626.88235294]\n",
        " [ 12520.33333333    772.83333333]\n",
        " [  7316.6           862.6       ]]\n",
        "cluster 0 size (8L,)\n",
        "cluster 1 size (34L,)\n",
        "cluster 2 size (6L,)\n",
        "cluster 3 size (5L,)\n",
        "GCP theta :[ 90.           2.28339465   1.11963355   0.23547181   1.4138453   10.\n",
        "   1.0137588    0.15864646]"
       ]
      },
      {
       "output_type": "stream",
       "stream": "stdout",
       "text": [
        "\n",
        "Hopefully :"
       ]
      },
      {
       "output_type": "stream",
       "stream": "stdout",
       "text": [
        " [3457  608] 76.630353125 77.4011171875\n",
        "0"
       ]
      },
      {
       "output_type": "stream",
       "stream": "stdout",
       "text": [
        " Test paramter: [3457  608]  - ***** accuracy: 76.6333333333\n",
        "GP theta :[[ 10.]]\n",
        "GP Hopefully : [5296  878] 78.5315873161 80.2809716481\n",
        "1"
       ]
      },
      {
       "output_type": "stream",
       "stream": "stdout",
       "text": [
        " Test paramter: [5296  878]  - ***** accuracy: 76.7\n",
        "2"
       ]
      },
      {
       "output_type": "stream",
       "stream": "stdout",
       "text": [
        " Test paramter: [12560   343]  - ***** accuracy: 75.2666666667\n",
        "Step 34\n",
        "Has sampled 2000 random candidates\n",
        "Centroids\n",
        "[[  4201.4           626.34285714]\n",
        " [ 12520.33333333    772.83333333]\n",
        " [  9521.25          315.25      ]\n",
        " [  7316.6           862.6       ]]\n",
        "cluster 0 size (35L,)\n",
        "cluster 1 size (6L,)\n",
        "cluster 2 size (8L,)\n",
        "cluster 3 size (5L,)\n",
        "GCP theta :[ 82.3230321    4.51621171   1.           0.25488777   1.42786708\n",
        "   5.15667373   3.41767694   0.86102093]"
       ]
      },
      {
       "output_type": "stream",
       "stream": "stdout",
       "text": [
        "\n",
        "Hopefully :"
       ]
      },
      {
       "output_type": "stream",
       "stream": "stdout",
       "text": [
        " [3645  598] 76.6353390625 77.393303125\n",
        "0"
       ]
      },
      {
       "output_type": "stream",
       "stream": "stdout",
       "text": [
        " Test paramter: [3645  598]  - ***** accuracy: 76.6666666667\n",
        "GP theta :[[ 10.]]\n",
        "GP Hopefully : [13215   796] 75.6218349261 80.1741817706\n",
        "1"
       ]
      },
      {
       "output_type": "stream",
       "stream": "stdout",
       "text": [
        " Test paramter: [13215   796]  - ***** accuracy: 75.8333333333\n",
        "2"
       ]
      },
      {
       "output_type": "stream",
       "stream": "stdout",
       "text": [
        " Test paramter: [8384  887]  - ***** accuracy: 76.1333333333\n",
        "Step 35\n",
        "Has sampled 2000 random candidates\n",
        "Centroids\n",
        "[[  4185.94444444    625.55555556]\n",
        " [  9521.25          315.25      ]\n",
        " [ 12097.85714286    780.42857143]\n",
        " [  6755.            871.75      ]]\n",
        "cluster 0 size (36L,)\n",
        "cluster 1 size (8L,)\n",
        "cluster 2 size (7L,)\n",
        "cluster 3 size (4L,)\n",
        "COBYLA failed to find a solution: Did not converge to a solution satisfying the constraints. See `maxcv` for magnitude of violation."
       ]
      },
      {
       "output_type": "stream",
       "stream": "stdout",
       "text": [
        "\n",
        "GCP theta :[  8.82928799e+01   1.00218285e+00   1.00000000e+00   2.23372868e-01\n",
        "   1.46437673e+00   9.52891096e+00   3.28883309e+00   3.55122956e-02]"
       ]
      },
      {
       "output_type": "stream",
       "stream": "stdout",
       "text": [
        "\n",
        "Hopefully :"
       ]
      },
      {
       "output_type": "stream",
       "stream": "stdout",
       "text": [
        " [4194  628] 76.65878125 77.40893125\n",
        "0"
       ]
      },
      {
       "output_type": "stream",
       "stream": "stdout",
       "text": [
        " Test paramter: [4194  628]  - ***** accuracy: 76.5\n",
        "GP theta :[[ 10.]]\n",
        "GP Hopefully : [14908    60] 75.591418503 80.359566202\n",
        "1"
       ]
      },
      {
       "output_type": "stream",
       "stream": "stdout",
       "text": [
        " Test paramter: [14908    60]  - ***** accuracy: 71.6666666667\n",
        "2"
       ]
      },
      {
       "output_type": "stream",
       "stream": "stdout",
       "text": [
        " Test paramter: [7094  931]  - ***** accuracy: 76.5\n",
        "Step 36\n",
        "Has sampled 2000 random candidates\n",
        "Centroids\n",
        "[[  4186.16216216    625.62162162]\n",
        " [ 12520.33333333    772.83333333]\n",
        " [  9521.25          315.25      ]\n",
        " [  7316.6           862.6       ]]\n",
        "cluster 0 size (37L,)\n",
        "cluster 1 size (6L,)\n",
        "cluster 2 size (8L,)\n",
        "cluster 3 size (5L,)\n",
        "COBYLA failed to find a solution: Did not converge to a solution satisfying the constraints. See `maxcv` for magnitude of violation."
       ]
      },
      {
       "output_type": "stream",
       "stream": "stdout",
       "text": [
        "\n",
        "COBYLA failed to find a solution: Did not converge to a solution satisfying the constraints. See `maxcv` for magnitude of violation."
       ]
      },
      {
       "output_type": "stream",
       "stream": "stdout",
       "text": [
        "\n",
        "GCP theta :[ 90.           1.00135893   1.           0.2186737    1.28768636  10.\n",
        "   3.69383804   0.2387522 ]\n",
        "Hopefully :"
       ]
      },
      {
       "output_type": "stream",
       "stream": "stdout",
       "text": [
        " [3319  635] 76.6353390625 77.3854890625\n",
        "0"
       ]
      },
      {
       "output_type": "stream",
       "stream": "stdout",
       "text": [
        " Test paramter: [3319  635]  - ***** accuracy: 76.5333333333\n",
        "GP theta :[[ 10.]]\n",
        "GP Hopefully : [14993   339] 75.3844571765 80.9198048435\n",
        "1"
       ]
      },
      {
       "output_type": "stream",
       "stream": "stdout",
       "text": [
        " Test paramter: [14993   339]  - ***** accuracy: 75.4\n",
        "2"
       ]
      },
      {
       "output_type": "stream",
       "stream": "stdout",
       "text": [
        " Test paramter: [8019  304]  - ***** accuracy: 75.5666666667\n",
        "Step 37\n",
        "Has sampled 1999 random candidates\n",
        "Centroids\n",
        "[[  4163.34210526    625.86842105]\n",
        " [  9521.25          315.25      ]\n",
        " [  6755.            871.75      ]\n",
        " [ 12097.85714286    780.42857143]]\n",
        "cluster 0 size (38L,)\n",
        "cluster 1 size (8L,)\n",
        "cluster 2 size (4L,)\n",
        "cluster 3 size (7L,)\n",
        "GCP theta :[  7.65035920e+01   1.47224610e+01   1.00000000e+00   2.73638091e-01\n",
        "   1.37177723e+00   1.00000000e+01   1.10087160e-01   4.08062395e-02]"
       ]
      },
      {
       "output_type": "stream",
       "stream": "stdout",
       "text": [
        "\n",
        "Hopefully :"
       ]
      },
      {
       "output_type": "stream",
       "stream": "stdout",
       "text": [
        " [3635  615] 76.630353125 77.393303125\n",
        "0"
       ]
      },
      {
       "output_type": "stream",
       "stream": "stdout",
       "text": [
        " Test paramter: [3635  615]  - ***** accuracy: 77.2666666667\n",
        "GP theta :[[ 10.]]\n",
        "GP Hopefully : [14949   800] 75.3682455023 81.290768756\n",
        "1"
       ]
      },
      {
       "output_type": "stream",
       "stream": "stdout",
       "text": [
        " Test paramter: [14949   800]  - ***** accuracy: 75.8\n",
        "2"
       ]
      },
      {
       "output_type": "stream",
       "stream": "stdout",
       "text": [
        " Test paramter: [12522   738]  - ***** accuracy: 75.2\n",
        "Step 38\n",
        "Has sampled 2000 random candidates\n",
        "Centroids\n",
        "[[  4149.79487179    625.58974359]\n",
        " [ 12478.4           732.2       ]\n",
        " [  9521.25          315.25      ]\n",
        " [  8218.83333333    881.5       ]]\n",
        "cluster 0 size (39L,)\n",
        "cluster 1 size (5L,)\n",
        "cluster 2 size (8L,)\n",
        "cluster 3 size (6L,)\n",
        "GCP theta :[ 90.           1.8470314    1.           0.28793341   1.24708311\n",
        "   3.43099718   1.8689473    0.15508173]"
       ]
      },
      {
       "output_type": "stream",
       "stream": "stdout",
       "text": [
        "\n",
        "Hopefully :"
       ]
      },
      {
       "output_type": "stream",
       "stream": "stdout",
       "text": [
        " [3782  629] 76.6537953125 77.40893125\n",
        "0"
       ]
      },
      {
       "output_type": "stream",
       "stream": "stdout",
       "text": [
        " Test paramter: [3782  629]  - ***** accuracy: 76.7333333333\n",
        "GP theta :[[ 10.]]\n",
        "GP Hopefully : [11961    52] 75.3094070889 81.5487163346\n",
        "1"
       ]
      },
      {
       "output_type": "stream",
       "stream": "stdout",
       "text": [
        " Test paramter: [11961    52]  - ***** accuracy: 70.5\n",
        "2"
       ]
      },
      {
       "output_type": "stream",
       "stream": "stdout",
       "text": [
        " Test paramter: [3529  752]  - ***** accuracy: 77.1\n",
        "Step 39\n",
        "Has sampled 2000 random candidates\n",
        "Centroids\n",
        "[[  9521.25          315.25      ]\n",
        " [  4140.6           625.675     ]\n",
        " [  6755.            871.75      ]\n",
        " [ 12097.85714286    780.42857143]]\n",
        "cluster 0 size (8L,)\n",
        "cluster 1 size (40L,)\n",
        "cluster 2 size (4L,)\n",
        "cluster 3 size (7L,)\n",
        "COBYLA failed to find a solution: Did not converge to a solution satisfying the constraints. See `maxcv` for magnitude of violation."
       ]
      },
      {
       "output_type": "stream",
       "stream": "stdout",
       "text": [
        "\n",
        "COBYLA failed to find a solution: Did not converge to a solution satisfying the constraints. See `maxcv` for magnitude of violation."
       ]
      },
      {
       "output_type": "stream",
       "stream": "stdout",
       "text": [
        "\n",
        "GCP theta :[ 88.93633679   9.34546117   1.           0.28137169   1.36815642  10.\n",
        "   0.204768     0.61475546]\n",
        "Hopefully :"
       ]
      },
      {
       "output_type": "stream",
       "stream": "stdout",
       "text": [
        " [4164  631] 76.6665953125 77.424559375\n",
        "0"
       ]
      },
      {
       "output_type": "stream",
       "stream": "stdout",
       "text": [
        " Test paramter: [4164  631]  - ***** accuracy: 76.8\n",
        "GP theta :[[ 10.]]\n",
        "GP Hopefully : [12586   553] 75.1913662869 81.8186854581\n",
        "1"
       ]
      },
      {
       "output_type": "stream",
       "stream": "stdout",
       "text": [
        " Test paramter: [12586   553]  - ***** accuracy: 76.0666666667\n",
        "2"
       ]
      },
      {
       "output_type": "stream",
       "stream": "stdout",
       "text": [
        " Test paramter: [6455   67]  - ***** accuracy: 72.6666666667\n",
        "\n",
        "*** Last step : try to find the best parameters ***\n",
        "Final step 0\n",
        "Centroids\n",
        "[[  4141.17073171    625.80487805]\n",
        " [ 12520.33333333    772.83333333]\n",
        " [  9521.25          315.25      ]\n",
        " [  7316.6           862.6       ]]\n",
        "cluster 0 size (41L,)\n",
        "cluster 1 size (6L,)\n",
        "cluster 2 size (8L,)\n",
        "cluster 3 size (5L,)\n",
        "GCP theta :[ 72.93513557  19.73843677   1.01477452   0.25368468   1.03585874\n",
        "   9.23837926   1.05624163   0.17748789]"
       ]
      },
      {
       "output_type": "stream",
       "stream": "stdout",
       "text": [
        "\n",
        "Hopefully :"
       ]
      },
      {
       "output_type": "stream",
       "stream": "stdout",
       "text": [
        " [4208  627] 76.674409375\n",
        "0"
       ]
      },
      {
       "output_type": "stream",
       "stream": "stdout",
       "text": [
        " Test paramter: [4208  627]  - ***** accuracy: 77.0\n",
        "GP theta :[[ 10.]]\n",
        "GP Hopefully : [6337  824] 79.0994251796\n",
        "1"
       ]
      },
      {
       "output_type": "stream",
       "stream": "stdout",
       "text": [
        " Test paramter: [6337  824]  - ***** accuracy: 77.0\n",
        "2"
       ]
      },
      {
       "output_type": "stream",
       "stream": "stdout",
       "text": [
        " Test paramter: [10719   276]  - ***** accuracy: 74.6\n",
        "Final step 1\n",
        "Centroids\n",
        "[[ 12097.85714286    780.42857143]\n",
        " [  4141.17073171    625.80487805]\n",
        " [  9521.25          315.25      ]\n",
        " [  6755.            871.75      ]]\n",
        "cluster 0 size (7L,)\n",
        "cluster 1 size (41L,)\n",
        "cluster 2 size (8L,)\n",
        "cluster 3 size (4L,)\n",
        "COBYLA failed to find a solution: Did not converge to a solution satisfying the constraints. See `maxcv` for magnitude of violation."
       ]
      },
      {
       "output_type": "stream",
       "stream": "stdout",
       "text": [
        "\n",
        "GCP theta :[  9.00000000e+01   8.19537872e+00   1.00000000e+00   2.61572298e-01\n",
        "   1.71326379e+00   1.00000000e+01   2.00000000e+00   8.67550354e-02]"
       ]
      },
      {
       "output_type": "stream",
       "stream": "stdout",
       "text": [
        "\n",
        "Hopefully :"
       ]
      },
      {
       "output_type": "stream",
       "stream": "stdout",
       "text": [
        " [4098  616] 76.6665953125\n",
        "0"
       ]
      },
      {
       "output_type": "stream",
       "stream": "stdout",
       "text": [
        " Test paramter: [4098  616]  - ***** accuracy: 76.7666666667\n",
        "GP theta :[[ 10.]]\n",
        "GP Hopefully : [6488  824] 79.0181220113\n",
        "1"
       ]
      },
      {
       "output_type": "stream",
       "stream": "stdout",
       "text": [
        " Test paramter: [6488  824]  - ***** accuracy: 76.5\n",
        "2"
       ]
      },
      {
       "output_type": "stream",
       "stream": "stdout",
       "text": [
        " Test paramter: [9766  396]  - ***** accuracy: 75.3666666667\n",
        "Final step 2\n",
        "Centroids\n",
        "[[  4141.17073171    625.80487805]\n",
        " [  9521.25          315.25      ]\n",
        " [  8218.83333333    881.5       ]\n",
        " [ 12478.4           732.2       ]]\n",
        "cluster 0 size (41L,)\n",
        "cluster 1 size (8L,)\n",
        "cluster 2 size (6L,)\n",
        "cluster 3 size (5L,)\n",
        "COBYLA failed to find a solution: Did not converge to a solution satisfying the constraints. See `maxcv` for magnitude of violation."
       ]
      },
      {
       "output_type": "stream",
       "stream": "stdout",
       "text": [
        "\n",
        "COBYLA failed to find a solution: Did not converge to a solution satisfying the constraints. See `maxcv` for magnitude of violation."
       ]
      },
      {
       "output_type": "stream",
       "stream": "stdout",
       "text": [
        "\n",
        "GCP theta :[ 82.61779257   7.30307552   1.21940317   0.25296143   1.21197228  10.\n",
        "   0.13965461   0.20090125]\n",
        "Hopefully :"
       ]
      },
      {
       "output_type": "stream",
       "stream": "stdout",
       "text": [
        " [4094  627] 76.6694234375\n",
        "0"
       ]
      },
      {
       "output_type": "stream",
       "stream": "stdout",
       "text": [
        " Test paramter: [4094  627]  - ***** accuracy: 76.0\n",
        "GP theta :[[ 10.]]\n",
        "GP Hopefully : [6331  824] 79.0971537554\n",
        "1"
       ]
      },
      {
       "output_type": "stream",
       "stream": "stdout",
       "text": [
        " Test paramter: [6331  824]  - ***** accuracy: 76.5666666667\n",
        "2"
       ]
      },
      {
       "output_type": "stream",
       "stream": "stdout",
       "text": [
        " Test paramter: [13687   173]  - ***** accuracy: 74.4666666667\n",
        "Final step 3\n",
        "Centroids\n",
        "[[  4141.17073171    625.80487805]\n",
        " [ 12520.33333333    772.83333333]\n",
        " [  9521.25          315.25      ]\n",
        " [  7316.6           862.6       ]]\n",
        "cluster 0 size (41L,)\n",
        "cluster 1 size (6L,)\n",
        "cluster 2 size (8L,)\n",
        "cluster 3 size (5L,)\n",
        "COBYLA failed to find a solution: Did not converge to a solution satisfying the constraints. See `maxcv` for magnitude of violation."
       ]
      },
      {
       "output_type": "stream",
       "stream": "stdout",
       "text": [
        "\n",
        "GCP theta :[ 86.76125938  12.11911286   1.23731728   0.21709772   1.40096985  10.\n",
        "   0.15683297   1.        ]"
       ]
      }
     ]
    },
    {
     "cell_type": "code",
     "collapsed": false,
     "input": [
      "plt.figure(1)\n",
      "for i in range(all_outputs.shape[0]):\n",
      "    plt.plot(range(len(all_outputs.shape[1])),all_outputs[i],label=i)\n",
      "plt.legend()\n",
      "plt.title(' 0 : GCP, 1: GP, 2: fully random')\n",
      "plt.show()"
     ],
     "language": "python",
     "metadata": {},
     "outputs": []
    },
    {
     "cell_type": "code",
     "collapsed": false,
     "input": [],
     "language": "python",
     "metadata": {},
     "outputs": []
    }
   ],
   "metadata": {}
  }
 ]
}