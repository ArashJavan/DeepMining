{
 "metadata": {
  "name": "",
  "signature": "sha256:98434983873a312bfa3fa77b2e80317fc26025a927e33ea5b19896ebb5ec8299"
 },
 "nbformat": 3,
 "nbformat_minor": 0,
 "worksheets": [
  {
   "cells": [
    {
     "cell_type": "code",
     "collapsed": false,
     "input": [
      "import os\n",
      "from sklearn.feature_extraction.text import CountVectorizer\n",
      "from sklearn.ensemble import RandomForestClassifier\n",
      "import pandas as pd\n",
      "import numpy as np\n",
      "from sklearn import tree,ensemble\n",
      "from sklearn.feature_selection import SelectKBest, chi2\n",
      "import matplotlib.pyplot as plt\n",
      "%pylab inline"
     ],
     "language": "python",
     "metadata": {},
     "outputs": [
      {
       "output_type": "stream",
       "stream": "stdout",
       "text": [
        "Populating the interactive namespace from numpy and matplotlib\n"
       ]
      }
     ],
     "prompt_number": 1
    },
    {
     "cell_type": "code",
     "collapsed": false,
     "input": [
      "import sys\n",
      "sys.path.append(\"../../\")\n",
      "from smart_sampling import smartSampling\n",
      "from KaggleWord2VecUtility import KaggleWord2VecUtility  ## don't remove stopwords"
     ],
     "language": "python",
     "metadata": {},
     "outputs": [],
     "prompt_number": 2
    },
    {
     "cell_type": "code",
     "collapsed": false,
     "input": [
      "data = pd.read_csv(os.path.join('labeledTrainData.tsv'), header=0, \\\n",
      "                delimiter=\"\\t\", quoting=3)\n",
      "print 'The first review is:'\n",
      "print data[\"review\"][0]"
     ],
     "language": "python",
     "metadata": {},
     "outputs": [
      {
       "output_type": "stream",
       "stream": "stdout",
       "text": [
        "The first review is:\n",
        "\"With all this stuff going down at the moment with MJ i've started listening to his music, watching the odd documentary here and there, watched The Wiz and watched Moonwalker again. Maybe i just want to get a certain insight into this guy who i thought was really cool in the eighties just to maybe make up my mind whether he is guilty or innocent. Moonwalker is part biography, part feature film which i remember going to see at the cinema when it was originally released. Some of it has subtle messages about MJ's feeling towards the press and also the obvious message of drugs are bad m'kay.<br /><br />Visually impressive but of course this is all about Michael Jackson so unless you remotely like MJ in anyway then you are going to hate this and find it boring. Some may call MJ an egotist for consenting to the making of this movie BUT MJ and most of his fans would say that he made it for the fans which if true is really nice of him.<br /><br />The actual feature film bit when it finally starts is only on for 20 minutes or so excluding the Smooth Criminal sequence and Joe Pesci is convincing as a psychopathic all powerful drug lord. Why he wants MJ dead so bad is beyond me. Because MJ overheard his plans? Nah, Joe Pesci's character ranted that he wanted people to know it is he who is supplying drugs etc so i dunno, maybe he just hates MJ's music.<br /><br />Lots of cool things in this like MJ turning into a car and a robot and the whole Speed Demon sequence. Also, the director must have had the patience of a saint when it came to filming the kiddy Bad sequence as usually directors hate working with one kid let alone a whole bunch of them performing a complex dance scene.<br /><br />Bottom line, this movie is for people who like MJ on one level or another (which i think is most people). If not, then stay away. It does try and give off a wholesome message and ironically MJ's bestest buddy in this movie is a girl! Michael Jackson is truly one of the most talented people ever to grace this planet but is he guilty? Well, with all the attention i've gave this subject....hmmm well i don't know because people can be different behind closed doors, i know this for a fact. He is either an extremely nice but stupid guy or one of the most sickest liars. I hope he is not the latter.\"\n"
       ]
      }
     ],
     "prompt_number": 3
    },
    {
     "cell_type": "code",
     "collapsed": false,
     "input": [
      "# Initialize an empty list to hold the clean reviews\n",
      "clean_reviews = []\n",
      "\n",
      "# Loop over each review; create an index i that goes from 0 to the length\n",
      "# of the movie review list\n",
      "print \"Cleaning and parsing the training set movie reviews...\\n\"\n",
      "for i in xrange( 0, len(data[\"review\"])):\n",
      "    clean_reviews.append(\" \".join(KaggleWord2VecUtility.review_to_wordlist(data[\"review\"][i], True)))\n",
      "print clean_reviews[0]"
     ],
     "language": "python",
     "metadata": {},
     "outputs": [
      {
       "output_type": "stream",
       "stream": "stdout",
       "text": [
        "Cleaning and parsing the training set movie reviews...\n",
        "\n",
        "with all this stuff going down at the moment with mj i ve started listening to his music watching the odd documentary here and there watched the wiz and watched moonwalker again maybe i just want to get a certain insight into this guy who i thought was really cool in the eighties just to maybe make up my mind whether he is guilty or innocent moonwalker is part biography part feature film which i remember going to see at the cinema when it was originally released some of it has subtle messages about mj s feeling towards the press and also the obvious message of drugs are bad m kay visually impressive but of course this is all about michael jackson so unless you remotely like mj in anyway then you are going to hate this and find it boring some may call mj an egotist for consenting to the making of this movie but mj and most of his fans would say that he made it for the fans which if true is really nice of him the actual feature film bit when it finally starts is only on for minutes or so excluding the smooth criminal sequence and joe pesci is convincing as a psychopathic all powerful drug lord why he wants mj dead so bad is beyond me because mj overheard his plans nah joe pesci s character ranted that he wanted people to know it is he who is supplying drugs etc so i dunno maybe he just hates mj s music lots of cool things in this like mj turning into a car and a robot and the whole speed demon sequence also the director must have had the patience of a saint when it came to filming the kiddy bad sequence as usually directors hate working with one kid let alone a whole bunch of them performing a complex dance scene bottom line this movie is for people who like mj on one level or another which i think is most people if not then stay away it does try and give off a wholesome message and ironically mj s bestest buddy in this movie is a girl michael jackson is truly one of the most talented people ever to grace this planet but is he guilty well with all the attention i ve gave this subject hmmm well i don t know because people can be different behind closed doors i know this for a fact he is either an extremely nice but stupid guy or one of the most sickest liars i hope he is not the latter"
       ]
      },
      {
       "output_type": "stream",
       "stream": "stdout",
       "text": [
        "\n"
       ]
      }
     ],
     "prompt_number": 4
    },
    {
     "cell_type": "code",
     "collapsed": false,
     "input": [
      "nb_reviews = len(clean_reviews)\n",
      "print nb_reviews\n",
      "pop_size = 500\n",
      "print 'keep only',pop_size\n",
      "\n",
      "training_reviews = clean_reviews[:pop_size]\n",
      "test_reviews = clean_reviews[pop_size:(2*pop_size)]\n",
      "\n",
      "training_labels = np.asarray(data[\"sentiment\"][:pop_size])\n",
      "test_labels =  np.asarray(data[\"sentiment\"][pop_size:(2*pop_size)])\n",
      "print training_labels[:5]"
     ],
     "language": "python",
     "metadata": {},
     "outputs": [
      {
       "output_type": "stream",
       "stream": "stdout",
       "text": [
        "25000\n",
        "keep only 500\n",
        "[1 1 0 0 1]\n"
       ]
      }
     ],
     "prompt_number": 5
    },
    {
     "cell_type": "code",
     "collapsed": false,
     "input": [
      "def scoring_function(parameters):\n",
      "    nb_features,n_estimators = parameters\n",
      "    nb_features = np.int(nb_features)\n",
      "    n_estimators = np.int(n_estimators)\n",
      "    # Initialize the \"CountVectorizer\" object, which is scikit-learn's\n",
      "    # bag of words tool.\n",
      "    vectorizer = CountVectorizer(analyzer = \"word\",   \\\n",
      "                             tokenizer = None,    \\\n",
      "                             preprocessor = None, \\\n",
      "                             stop_words = None,   \\\n",
      "                             max_features = nb_features)\n",
      "\n",
      "    # fit_transform() does two functions: First, it fits the model\n",
      "    # and learns the vocabulary; second, it transforms our training data\n",
      "    # into feature vectors. The input to fit_transform should be a list of\n",
      "    # strings.\n",
      "    train_data_features = vectorizer.fit_transform(training_reviews)\n",
      "    ch2 = SelectKBest(chi2, k=final_nb)\n",
      "    ch2.fit(train_data_features,training_labels)\n",
      "    chiSQ_val = ch2.scores_\n",
      "    #print chiSQ_val[:10]\n",
      "    index = np.argsort(chiSQ_val)[::-1]\n",
      "    idx = index[:final_nb]\n",
      "    test_data_features = vectorizer.transform(test_reviews)\n",
      "    \n",
      "    # Numpy arrays are easy to work with, so convert the result to an\n",
      "    # array\n",
      "    train_data_features = train_data_features.toarray()\n",
      "    test_data_features = test_data_features.toarray()\n",
      "    \n",
      "    mean_res = 0.\n",
      "    nb_try = 4\n",
      "    for n_test in range(nb_try): \n",
      "        # Initialize a Random Forest classifier with n_estimators trees\n",
      "        forest = RandomForestClassifier(n_estimators = n_estimators)\n",
      "        forest.fit( train_data_features, training_labels )\n",
      "        predicted_labels = forest.predict(test_data_features)\n",
      "\n",
      "        # Compute accuracy\n",
      "        res = 0\n",
      "        for i in range(len(predicted_labels)):\n",
      "            if (predicted_labels[i] == test_labels[i]):\n",
      "                res += 1\n",
      "        mean_res += (100. * np.float(res))/len(predicted_labels)\n",
      "    \n",
      "    return (mean_res/np.float(nb_try))"
     ],
     "language": "python",
     "metadata": {},
     "outputs": [],
     "prompt_number": 6
    },
    {
     "cell_type": "code",
     "collapsed": false,
     "input": [
      "### Fix parameters of the problem : ####\n",
      "\n",
      "final_nb = 1000 ### the final number of bags kept\n",
      "parameter_bounds = np.asarray( [[3000,15000],[50,1000]] )\n",
      "nb_GCP_steps = 40"
     ],
     "language": "python",
     "metadata": {},
     "outputs": []
    },
    {
     "cell_type": "code",
     "collapsed": false,
     "input": [
      "best_parameter,outputs,outputs_GP = smartSampling(nb_GCP_steps,parameter_bounds,scoring_function,isInt=True,\n",
      "                                                  #corr_kernel= 'squared_exponential',\n",
      "                                                  model = 'both',\n",
      "                                                  nb_random_steps=2, n_clusters=1,returnOutputs=True, verbose=True)"
     ],
     "language": "python",
     "metadata": {},
     "outputs": [
      {
       "output_type": "stream",
       "stream": "stdout",
       "text": [
        "Random try [14587    76], score : 72.1\n",
        "Random try [4682  626], score : 76.85"
       ]
      },
      {
       "output_type": "stream",
       "stream": "stdout",
       "text": [
        "\n",
        "Step 0\n",
        "Has sampled 2000 random candidates\n",
        "GCP theta :[ 84.44881395   1.          16.10681524   6.03955075   1.           0.62720418\n",
        "   5.74582123   0.1       ]"
       ]
      }
     ]
    },
    {
     "cell_type": "code",
     "collapsed": false,
     "input": [
      "plt.figure(1)\n",
      "plt.plot(range(len(outputs)),outputs,'b')\n",
      "plt.plot(range(len(outputs_GP)),outputs_GP,'r')\n",
      "plt.show()"
     ],
     "language": "python",
     "metadata": {},
     "outputs": []
    },
    {
     "cell_type": "raw",
     "metadata": {},
     "source": []
    }
   ],
   "metadata": {}
  }
 ]
}