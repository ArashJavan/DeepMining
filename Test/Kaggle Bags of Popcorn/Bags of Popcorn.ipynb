{
 "metadata": {
  "name": "",
  "signature": "sha256:3f8c855f94ccd42d4dd868d707a7cd53b451a40306c74d06204485d6eb8cd677"
 },
 "nbformat": 3,
 "nbformat_minor": 0,
 "worksheets": [
  {
   "cells": [
    {
     "cell_type": "code",
     "collapsed": false,
     "input": [
      "import os\n",
      "from sklearn.feature_extraction.text import CountVectorizer\n",
      "from sklearn.ensemble import RandomForestClassifier\n",
      "import pandas as pd\n",
      "import numpy as np\n",
      "from sklearn import tree,ensemble\n",
      "from sklearn.feature_selection import SelectKBest, chi2\n",
      "import matplotlib.pyplot as plt\n",
      "%pylab inline"
     ],
     "language": "python",
     "metadata": {},
     "outputs": [
      {
       "output_type": "stream",
       "stream": "stdout",
       "text": [
        "Populating the interactive namespace from numpy and matplotlib\n"
       ]
      }
     ],
     "prompt_number": 1
    },
    {
     "cell_type": "code",
     "collapsed": false,
     "input": [
      "import sys\n",
      "sys.path.append(\"../../\")\n",
      "from smart_sampling import smartSampling\n",
      "from KaggleWord2VecUtility import KaggleWord2VecUtility  ## don't remove stopwords"
     ],
     "language": "python",
     "metadata": {},
     "outputs": [],
     "prompt_number": 2
    },
    {
     "cell_type": "code",
     "collapsed": false,
     "input": [
      "data = pd.read_csv(os.path.join('labeledTrainData.tsv'), header=0, \\\n",
      "                delimiter=\"\\t\", quoting=3)\n",
      "print 'The first review is:'\n",
      "print data[\"review\"][0]"
     ],
     "language": "python",
     "metadata": {},
     "outputs": [
      {
       "output_type": "stream",
       "stream": "stdout",
       "text": [
        "The first review is:\n",
        "\"With all this stuff going down at the moment with MJ i've started listening to his music, watching the odd documentary here and there, watched The Wiz and watched Moonwalker again. Maybe i just want to get a certain insight into this guy who i thought was really cool in the eighties just to maybe make up my mind whether he is guilty or innocent. Moonwalker is part biography, part feature film which i remember going to see at the cinema when it was originally released. Some of it has subtle messages about MJ's feeling towards the press and also the obvious message of drugs are bad m'kay.<br /><br />Visually impressive but of course this is all about Michael Jackson so unless you remotely like MJ in anyway then you are going to hate this and find it boring. Some may call MJ an egotist for consenting to the making of this movie BUT MJ and most of his fans would say that he made it for the fans which if true is really nice of him.<br /><br />The actual feature film bit when it finally starts is only on for 20 minutes or so excluding the Smooth Criminal sequence and Joe Pesci is convincing as a psychopathic all powerful drug lord. Why he wants MJ dead so bad is beyond me. Because MJ overheard his plans? Nah, Joe Pesci's character ranted that he wanted people to know it is he who is supplying drugs etc so i dunno, maybe he just hates MJ's music.<br /><br />Lots of cool things in this like MJ turning into a car and a robot and the whole Speed Demon sequence. Also, the director must have had the patience of a saint when it came to filming the kiddy Bad sequence as usually directors hate working with one kid let alone a whole bunch of them performing a complex dance scene.<br /><br />Bottom line, this movie is for people who like MJ on one level or another (which i think is most people). If not, then stay away. It does try and give off a wholesome message and ironically MJ's bestest buddy in this movie is a girl! Michael Jackson is truly one of the most talented people ever to grace this planet but is he guilty? Well, with all the attention i've gave this subject....hmmm well i don't know because people can be different behind closed doors, i know this for a fact. He is either an extremely nice but stupid guy or one of the most sickest liars. I hope he is not the latter.\"\n"
       ]
      }
     ],
     "prompt_number": 3
    },
    {
     "cell_type": "code",
     "collapsed": false,
     "input": [
      "# Initialize an empty list to hold the clean reviews\n",
      "clean_reviews = []\n",
      "\n",
      "# Loop over each review; create an index i that goes from 0 to the length\n",
      "# of the movie review list\n",
      "print \"Cleaning and parsing the training set movie reviews...\\n\"\n",
      "for i in xrange( 0, len(data[\"review\"])):\n",
      "    clean_reviews.append(\" \".join(KaggleWord2VecUtility.review_to_wordlist(data[\"review\"][i], True)))\n",
      "print clean_reviews[0]"
     ],
     "language": "python",
     "metadata": {},
     "outputs": [
      {
       "output_type": "stream",
       "stream": "stdout",
       "text": [
        "Cleaning and parsing the training set movie reviews...\n",
        "\n",
        "with all this stuff going down at the moment with mj i ve started listening to his music watching the odd documentary here and there watched the wiz and watched moonwalker again maybe i just want to get a certain insight into this guy who i thought was really cool in the eighties just to maybe make up my mind whether he is guilty or innocent moonwalker is part biography part feature film which i remember going to see at the cinema when it was originally released some of it has subtle messages about mj s feeling towards the press and also the obvious message of drugs are bad m kay visually impressive but of course this is all about michael jackson so unless you remotely like mj in anyway then you are going to hate this and find it boring some may call mj an egotist for consenting to the making of this movie but mj and most of his fans would say that he made it for the fans which if true is really nice of him the actual feature film bit when it finally starts is only on for minutes or so excluding the smooth criminal sequence and joe pesci is convincing as a psychopathic all powerful drug lord why he wants mj dead so bad is beyond me because mj overheard his plans nah joe pesci s character ranted that he wanted people to know it is he who is supplying drugs etc so i dunno maybe he just hates mj s music lots of cool things in this like mj turning into a car and a robot and the whole speed demon sequence also the director must have had the patience of a saint when it came to filming the kiddy bad sequence as usually directors hate working with one kid let alone a whole bunch of them performing a complex dance scene bottom line this movie is for people who like mj on one level or another which i think is most people if not then stay away it does try and give off a wholesome message and ironically mj s bestest buddy in this movie is a girl michael jackson is truly one of the most talented people ever to grace this planet but is he guilty well with all the attention i ve gave this subject hmmm well i don t know because people can be different behind closed doors i know this for a fact he is either an extremely nice but stupid guy or one of the most sickest liars i hope he is not the latter"
       ]
      },
      {
       "output_type": "stream",
       "stream": "stdout",
       "text": [
        "\n"
       ]
      }
     ],
     "prompt_number": 4
    },
    {
     "cell_type": "code",
     "collapsed": false,
     "input": [
      "nb_reviews = len(clean_reviews)\n",
      "print nb_reviews\n",
      "pop_size = 500\n",
      "print 'keep only',pop_size\n",
      "\n",
      "training_reviews = clean_reviews[:pop_size]\n",
      "test_reviews = clean_reviews[pop_size:(2*pop_size)]\n",
      "\n",
      "training_labels = np.asarray(data[\"sentiment\"][:pop_size])\n",
      "test_labels =  np.asarray(data[\"sentiment\"][pop_size:(2*pop_size)])\n",
      "print training_labels[:5]"
     ],
     "language": "python",
     "metadata": {},
     "outputs": [
      {
       "output_type": "stream",
       "stream": "stdout",
       "text": [
        "25000\n",
        "keep only 500\n",
        "[1 1 0 0 1]\n"
       ]
      }
     ],
     "prompt_number": 5
    },
    {
     "cell_type": "code",
     "collapsed": false,
     "input": [
      "def scoring_function(parameters):\n",
      "    nb_features,n_estimators = parameters\n",
      "    nb_features = np.int(nb_features)\n",
      "    n_estimators = np.int(n_estimators)\n",
      "    # Initialize the \"CountVectorizer\" object, which is scikit-learn's\n",
      "    # bag of words tool.\n",
      "    vectorizer = CountVectorizer(analyzer = \"word\",   \\\n",
      "                             tokenizer = None,    \\\n",
      "                             preprocessor = None, \\\n",
      "                             stop_words = None,   \\\n",
      "                             max_features = nb_features)\n",
      "\n",
      "    # fit_transform() does two functions: First, it fits the model\n",
      "    # and learns the vocabulary; second, it transforms our training data\n",
      "    # into feature vectors. The input to fit_transform should be a list of\n",
      "    # strings.\n",
      "    train_data_features = vectorizer.fit_transform(training_reviews)\n",
      "    ch2 = SelectKBest(chi2, k=final_nb)\n",
      "    ch2.fit(train_data_features,training_labels)\n",
      "    chiSQ_val = ch2.scores_\n",
      "    #print chiSQ_val[:10]\n",
      "    index = np.argsort(chiSQ_val)[::-1]\n",
      "    idx = index[:final_nb]\n",
      "    test_data_features = vectorizer.transform(test_reviews)\n",
      "    \n",
      "    # Numpy arrays are easy to work with, so convert the result to an\n",
      "    # array\n",
      "    train_data_features = train_data_features.toarray()\n",
      "    test_data_features = test_data_features.toarray()\n",
      "    \n",
      "    mean_res = 0.\n",
      "    nb_try = 4\n",
      "    for n_test in range(nb_try): \n",
      "        # Initialize a Random Forest classifier with n_estimators trees\n",
      "        forest = RandomForestClassifier(n_estimators = n_estimators)\n",
      "        forest.fit( train_data_features, training_labels )\n",
      "        predicted_labels = forest.predict(test_data_features)\n",
      "\n",
      "        # Compute accuracy\n",
      "        res = 0\n",
      "        for i in range(len(predicted_labels)):\n",
      "            if (predicted_labels[i] == test_labels[i]):\n",
      "                res += 1\n",
      "        mean_res += (100. * np.float(res))/len(predicted_labels)\n",
      "    \n",
      "    return (mean_res/np.float(nb_try))"
     ],
     "language": "python",
     "metadata": {},
     "outputs": [],
     "prompt_number": 6
    },
    {
     "cell_type": "code",
     "collapsed": false,
     "input": [
      "### Fix parameters of the problem : ####\n",
      "\n",
      "final_nb = 1000 ### the final number of bags kept\n",
      "parameter_bounds = np.asarray( [[3000,15000],[50,1000]] )\n",
      "nb_GCP_steps = 40"
     ],
     "language": "python",
     "metadata": {},
     "outputs": [],
     "prompt_number": 7
    },
    {
     "cell_type": "code",
     "collapsed": false,
     "input": [
      "best_parameter,outputs,outputs_GP = smartSampling(nb_GCP_steps,parameter_bounds,scoring_function,isInt=True,\n",
      "                                                  #corr_kernel= 'squared_exponential',\n",
      "                                                  model = 'both',\n",
      "                                                  nb_random_steps=25, n_clusters=4,returnOutputs=True, verbose=True)"
     ],
     "language": "python",
     "metadata": {},
     "outputs": [
      {
       "output_type": "stream",
       "stream": "stdout",
       "text": [
        "Random try [13164   367], score : 75.6\n",
        "Random try [8304  424], score : 76.2"
       ]
      },
      {
       "output_type": "stream",
       "stream": "stdout",
       "text": [
        "\n",
        "Random try [6295  990], score : 76.1"
       ]
      },
      {
       "output_type": "stream",
       "stream": "stdout",
       "text": [
        "\n",
        "Random try [12448   645], score : 74.9"
       ]
      },
      {
       "output_type": "stream",
       "stream": "stdout",
       "text": [
        "\n",
        "Random try [9033  866], score : 76.05"
       ]
      },
      {
       "output_type": "stream",
       "stream": "stdout",
       "text": [
        "\n",
        "Random try [7504  479], score : 75.75"
       ]
      },
      {
       "output_type": "stream",
       "stream": "stdout",
       "text": [
        "\n",
        "Random try [12827   695], score : 76.1"
       ]
      },
      {
       "output_type": "stream",
       "stream": "stdout",
       "text": [
        "\n",
        "Random try [9678  242], score : 75.05"
       ]
      },
      {
       "output_type": "stream",
       "stream": "stdout",
       "text": [
        "\n",
        "Random try [13070   168], score : 75.2"
       ]
      },
      {
       "output_type": "stream",
       "stream": "stdout",
       "text": [
        "\n",
        "Random try [8477  292], score : 75.4"
       ]
      },
      {
       "output_type": "stream",
       "stream": "stdout",
       "text": [
        "\n",
        "Random try [14159   291], score : 74.6"
       ]
      },
      {
       "output_type": "stream",
       "stream": "stdout",
       "text": [
        "\n",
        "Random try [8650  595], score : 76.55"
       ]
      },
      {
       "output_type": "stream",
       "stream": "stdout",
       "text": [
        "\n",
        "Random try [7641  813], score : 76.55"
       ]
      },
      {
       "output_type": "stream",
       "stream": "stdout",
       "text": [
        "\n",
        "Random try [5870  635], score : 77.15"
       ]
      },
      {
       "output_type": "stream",
       "stream": "stdout",
       "text": [
        "\n",
        "Random try [3142  945], score : 77.1"
       ]
      },
      {
       "output_type": "stream",
       "stream": "stdout",
       "text": [
        "\n",
        "Random try [8197  625], score : 76.95"
       ]
      },
      {
       "output_type": "stream",
       "stream": "stdout",
       "text": [
        "\n",
        "Random try [7943  909], score : 76.4"
       ]
      },
      {
       "output_type": "stream",
       "stream": "stdout",
       "text": [
        "\n",
        "Random try [5812  750], score : 76.9"
       ]
      },
      {
       "output_type": "stream",
       "stream": "stdout",
       "text": [
        "\n",
        "Random try [12522   969], score : 75.35"
       ]
      },
      {
       "output_type": "stream",
       "stream": "stdout",
       "text": [
        "\n",
        "Random try [8285  174], score : 74.15"
       ]
      },
      {
       "output_type": "stream",
       "stream": "stdout",
       "text": [
        "\n",
        "Random try [8475  768], score : 76.0"
       ]
      },
      {
       "output_type": "stream",
       "stream": "stdout",
       "text": [
        "\n",
        "Random try [13255   557], score : 75.05"
       ]
      },
      {
       "output_type": "stream",
       "stream": "stdout",
       "text": [
        "\n",
        "Random try [8790  422], score : 75.15"
       ]
      },
      {
       "output_type": "stream",
       "stream": "stdout",
       "text": [
        "\n",
        "Random try [8615  613], score : 75.7"
       ]
      },
      {
       "output_type": "stream",
       "stream": "stdout",
       "text": [
        "\n",
        "Random try [10705   854], score : 75.7"
       ]
      },
      {
       "output_type": "stream",
       "stream": "stdout",
       "text": [
        "\n",
        "Step 0\n",
        "Has sampled 2000 random candidates\n",
        "Centroids\n",
        "[[ 12351.4           744.        ]\n",
        " [  6776.375         834.5       ]\n",
        " [  8500.            429.55555556]\n",
        " [ 13464.33333333    275.33333333]]\n",
        "cluster 0 size (5L,)\n",
        "cluster 1 size (8L,)\n",
        "cluster 2 size (9L,)\n",
        "cluster 3 size (3L,)\n",
        "GCP theta :[ 36.17864301  47.84096137   1.03916445   0.27980154   1.37562357  10.\n",
        "   1.72493933   0.5703644 ]"
       ]
      },
      {
       "output_type": "stream",
       "stream": "stdout",
       "text": [
        "\n",
        "Hopefully :"
       ]
      },
      {
       "output_type": "stream",
       "stream": "stdout",
       "text": [
        " [6618  834] 76.4790578125 77.5573984375\n",
        "Test paramter:"
       ]
      },
      {
       "output_type": "stream",
       "stream": "stdout",
       "text": [
        " [6618  834]  - ***** accuracy: 76.5\n",
        "GP theta :[[ 10.]]\n",
        "GP Hopefully : [8040  570] 78.1028798271 79.4996524003\n",
        "GP Test paramter:"
       ]
      },
      {
       "output_type": "stream",
       "stream": "stdout",
       "text": [
        " [8040  570]  - ***** accuracy: 75.9\n",
        "Step 1\n",
        "Has sampled 2000 random candidates\n",
        "Centroids\n",
        "[[ 13464.33333333    275.33333333]\n",
        " [  7058.27272727    795.27272727]\n",
        " [  8526.85714286    375.42857143]\n",
        " [ 12351.4           744.        ]]\n",
        "cluster 0 size (3L,)\n",
        "cluster 1 size (11L,)\n",
        "cluster 2 size (7L,)\n",
        "cluster 3 size (5L,)\n",
        "GCP theta :[ 23.77968605  37.42703221   1.22752538   0.3005184    1.31003943  10.\n",
        "   0.51725621   0.27616103]"
       ]
      },
      {
       "output_type": "stream",
       "stream": "stdout",
       "text": [
        "\n",
        "Hopefully :"
       ]
      },
      {
       "output_type": "stream",
       "stream": "stdout",
       "text": [
        " [5121  771] 76.455615625 77.487071875\n",
        "Test paramter:"
       ]
      },
      {
       "output_type": "stream",
       "stream": "stdout",
       "text": [
        " [5121  771]  - ***** accuracy: 76.65\n",
        "GP theta :[[ 10.]]\n",
        "GP Hopefully : [7673  651] 77.8758221207 79.5907274921\n",
        "GP Test paramter:"
       ]
      },
      {
       "output_type": "stream",
       "stream": "stdout",
       "text": [
        " [7673  651]  - ***** accuracy: 75.4\n",
        "Step 2\n",
        "Has sampled 2000 random candidates\n",
        "Centroids\n",
        "[[ 12125.5           790.75      ]\n",
        " [  8506.33333333    338.83333333]\n",
        " [  7031.69230769    778.        ]\n",
        " [ 13412.            345.75      ]]\n",
        "cluster 0 size (4L,)\n",
        "cluster 1 size (6L,)\n",
        "cluster 2 size (13L,)\n",
        "cluster 3 size (4L,)\n",
        "GCP theta :[ 89.84910088   8.66695876   1.52971127   0.28343302   1.28476136\n",
        "   6.14276795  10.           0.14091574]"
       ]
      },
      {
       "output_type": "stream",
       "stream": "stdout",
       "text": [
        "\n",
        "Hopefully :"
       ]
      },
      {
       "output_type": "stream",
       "stream": "stdout",
       "text": [
        " [5721  784] 76.4975140625 77.5105140625\n",
        "Test paramter:"
       ]
      },
      {
       "output_type": "stream",
       "stream": "stdout",
       "text": [
        " [5721  784]  - ***** accuracy: 76.1\n",
        "GP theta :[[ 10.]]\n",
        "GP Hopefully : [9093  532] 77.3701126692 79.6465179805\n",
        "GP Test paramter:"
       ]
      },
      {
       "output_type": "stream",
       "stream": "stdout",
       "text": [
        " [9093  532]  - ***** accuracy: 75.0\n",
        "Step 3\n",
        "Has sampled 2000 random candidates\n",
        "Centroids\n",
        "[[  8500.            429.55555556]\n",
        " [  6515.54545455    824.09090909]\n",
        " [ 12351.4           744.        ]\n",
        " [ 13464.33333333    275.33333333]]\n",
        "cluster 0 size (9L,)\n",
        "cluster 1 size (11L,)\n",
        "cluster 2 size (5L,)\n",
        "cluster 3 size (3L,)\n",
        "GCP theta :[ 90.           2.47114857   1.03261553   0.29851964   1.06522473\n",
        "   3.25786046   0.10313078   0.96598799]"
       ]
      },
      {
       "output_type": "stream",
       "stream": "stdout",
       "text": [
        "\n",
        "Hopefully :"
       ]
      },
      {
       "output_type": "stream",
       "stream": "stdout",
       "text": [
        " [5708  813] 76.45844375 77.4948859375\n",
        "Test paramter:"
       ]
      },
      {
       "output_type": "stream",
       "stream": "stdout",
       "text": [
        " [5708  813]  - ***** accuracy: 76.85\n",
        "GP theta :[[ 10.]]\n",
        "GP Hopefully : [5269  678] 76.5098989065 79.0005765281\n",
        "GP Test paramter:"
       ]
      },
      {
       "output_type": "stream",
       "stream": "stdout",
       "text": [
        " [5269  678]  - ***** accuracy: 76.0\n",
        "Step 4\n",
        "Has sampled 2000 random candidates\n",
        "Centroids\n",
        "[[  8500.            429.55555556]\n",
        " [  6448.25          823.16666667]\n",
        " [ 12351.4           744.        ]\n",
        " [ 13464.33333333    275.33333333]]\n",
        "cluster 0 size (9L,)\n",
        "cluster 1 size (12L,)\n",
        "cluster 2 size (5L,)\n",
        "cluster 3 size (3L,)\n",
        "GCP theta :[  7.93807079e+01   2.81330521e+00   1.00000000e+00   3.06410740e-01\n",
        "   1.27638226e+00   7.08882283e+00   5.06834916e-01   1.80410054e-02]"
       ]
      },
      {
       "output_type": "stream",
       "stream": "stdout",
       "text": [
        "\n",
        "Hopefully :"
       ]
      },
      {
       "output_type": "stream",
       "stream": "stdout",
       "text": [
        " [6266  802] 76.518128125 77.487071875\n",
        "Test paramter:"
       ]
      },
      {
       "output_type": "stream",
       "stream": "stdout",
       "text": [
        " [6266  802]  - ***** accuracy: 76.5\n",
        "GP theta :[[ 10.]]\n",
        "GP Hopefully : [6147  697] 76.7289789095 78.8546569363\n",
        "GP Test paramter:"
       ]
      },
      {
       "output_type": "stream",
       "stream": "stdout",
       "text": [
        " [6147  697]  - ***** accuracy: 76.85\n",
        "Step 5\n",
        "Has sampled 2000 random candidates\n",
        "Centroids\n",
        "[[  6434.23076923    821.53846154]\n",
        " [ 13464.33333333    275.33333333]\n",
        " [  8500.            429.55555556]\n",
        " [ 12351.4           744.        ]]\n",
        "cluster 0 size (13L,)\n",
        "cluster 1 size (3L,)\n",
        "cluster 2 size (9L,)\n",
        "cluster 3 size (5L,)\n",
        "GCP theta :[  9.00000000e+01   1.22244171e+00   1.00000000e+00   2.81243436e-01\n",
        "   1.12451370e+00   1.45043496e+00   3.14971063e-01   2.36623707e-02]"
       ]
      },
      {
       "output_type": "stream",
       "stream": "stdout",
       "text": [
        "\n",
        "Hopefully :"
       ]
      },
      {
       "output_type": "stream",
       "stream": "stdout",
       "text": [
        " [5513  811] 76.4975140625 77.47144375\n",
        "Test paramter:"
       ]
      },
      {
       "output_type": "stream",
       "stream": "stdout",
       "text": [
        " [5513  811]  - ***** accuracy: 76.35\n",
        "GP theta :[[ 10.]]\n",
        "GP Hopefully : [3685  983] 76.3285971134 78.700651972\n",
        "GP Test paramter:"
       ]
      },
      {
       "output_type": "stream",
       "stream": "stdout",
       "text": [
        " [3685  983]  - ***** accuracy: 76.85\n",
        "Step 6\n",
        "Has sampled 2000 random candidates\n",
        "Centroids\n",
        "[[  6368.42857143    820.78571429]\n",
        " [ 13464.33333333    275.33333333]\n",
        " [  8500.            429.55555556]\n",
        " [ 12351.4           744.        ]]\n",
        "cluster 0 size (14L,)\n",
        "cluster 1 size (3L,)\n",
        "cluster 2 size (9L,)\n",
        "cluster 3 size (5L,)\n",
        "GCP theta :[ 78.46391097   1.67454996   1.15073684   0.31786614   1.21845995\n",
        "   3.14882915   0.59422501   0.13254448]"
       ]
      },
      {
       "output_type": "stream",
       "stream": "stdout",
       "text": [
        "\n",
        "Hopefully :"
       ]
      },
      {
       "output_type": "stream",
       "stream": "stdout",
       "text": [
        " [6377  826] 76.5025 77.4480015625\n",
        "Test paramter:"
       ]
      },
      {
       "output_type": "stream",
       "stream": "stdout",
       "text": [
        " [6377  826]  - ***** accuracy: 76.25\n",
        "GP theta :[[ 10.]]\n",
        "GP Hopefully : [3874  905] 76.2096168826 78.8318239707\n",
        "GP Test paramter:"
       ]
      },
      {
       "output_type": "stream",
       "stream": "stdout",
       "text": [
        " [3874  905]  - ***** accuracy: 77.0\n",
        "Step 7\n",
        "Has sampled 2000 random candidates\n",
        "Centroids\n",
        "[[  6369.            821.13333333]\n",
        " [ 13464.33333333    275.33333333]\n",
        " [  8500.            429.55555556]\n",
        " [ 12351.4           744.        ]]\n",
        "cluster 0 size (15L,)\n",
        "cluster 1 size (3L,)\n",
        "cluster 2 size (9L,)\n",
        "cluster 3 size (5L,)\n",
        "GCP theta :[  8.53592909e+01   1.37867173e+01   1.00000000e+00   2.86935801e-01\n",
        "   1.50530968e+00   1.00000000e+01   1.38528755e+00   5.30474967e-02]"
       ]
      },
      {
       "output_type": "stream",
       "stream": "stdout",
       "text": [
        "\n",
        "Hopefully :"
       ]
      },
      {
       "output_type": "stream",
       "stream": "stdout",
       "text": [
        " [4917  764] 76.4350015625 77.4323734375\n",
        "Test paramter:"
       ]
      },
      {
       "output_type": "stream",
       "stream": "stdout",
       "text": [
        " [4917  764]  - ***** accuracy: 77.2\n",
        "GP theta :[[ 10.]]\n",
        "GP Hopefully : [7394  397] 76.2162286588 78.8483404286\n",
        "GP Test paramter:"
       ]
      },
      {
       "output_type": "stream",
       "stream": "stdout",
       "text": [
        " [7394  397]  - ***** accuracy: 76.2\n",
        "Step 8\n",
        "Has sampled 2000 random candidates\n",
        "Centroids\n",
        "[[ 11507.            805.8       ]\n",
        " [  8500.            429.55555556]\n",
        " [ 13412.            345.75      ]\n",
        " [  6094.6           814.33333333]]\n",
        "cluster 0 size (5L,)\n",
        "cluster 1 size (9L,)\n",
        "cluster 2 size (4L,)\n",
        "cluster 3 size (15L,)\n",
        "GCP theta :[ 90.           1.           1.           0.27221525   5.           0.13943286\n",
        "   7.78886393   0.94948454]"
       ]
      },
      {
       "output_type": "stream",
       "stream": "stdout",
       "text": [
        "\n",
        "Hopefully :"
       ]
      },
      {
       "output_type": "stream",
       "stream": "stdout",
       "text": [
        " [5964  808] 76.536584375 77.518328125\n",
        "Test paramter:"
       ]
      },
      {
       "output_type": "stream",
       "stream": "stdout",
       "text": [
        " [5964  808]  - ***** accuracy: 76.75\n",
        "GP theta :[[ 10.]]\n",
        "GP Hopefully : [3038  875] 76.3036207731 78.753968372\n",
        "GP Test paramter:"
       ]
      },
      {
       "output_type": "stream",
       "stream": "stdout",
       "text": [
        " [3038  875]  - ***** accuracy: 77.25\n",
        "Step 9\n",
        "Has sampled 2000 random candidates\n",
        "Centroids\n",
        "[[ 13412.            345.75      ]\n",
        " [  6086.4375        813.9375    ]\n",
        " [  8500.            429.55555556]\n",
        " [ 11507.            805.8       ]]\n",
        "cluster 0 size (4L,)\n",
        "cluster 1 size (16L,)\n",
        "cluster 2 size (9L,)\n",
        "cluster 3 size (5L,)\n",
        "GCP theta :[  9.00000000e+01   1.00000000e+00   2.04022255e+00   2.74805869e-01\n",
        "   1.07182361e+00   7.56567368e+00   3.14836260e-01   1.19064376e-02]"
       ]
      },
      {
       "output_type": "stream",
       "stream": "stdout",
       "text": [
        "\n",
        "Hopefully :"
       ]
      },
      {
       "output_type": "stream",
       "stream": "stdout",
       "text": [
        " [5316  802] 76.5443984375 77.5105140625\n",
        "Test paramter:"
       ]
      },
      {
       "output_type": "stream",
       "stream": "stdout",
       "text": [
        " [5316  802]  - ***** accuracy: 76.95\n",
        "GP theta :[[ 10.]]\n",
        "GP Hopefully : [3630  826] 76.325879601 78.8636755699\n",
        "GP Test paramter:"
       ]
      },
      {
       "output_type": "stream",
       "stream": "stdout",
       "text": [
        " [3630  826]  - ***** accuracy: 76.8\n",
        "Step 10\n",
        "Has sampled 2000 random candidates\n",
        "Centroids\n",
        "[[  8500.            429.55555556]\n",
        " [  6207.33333333    816.16666667]\n",
        " [ 12351.4           744.        ]\n",
        " [ 13464.33333333    275.33333333]]\n",
        "cluster 0 size (9L,)\n",
        "cluster 1 size (18L,)\n",
        "cluster 2 size (5L,)\n",
        "cluster 3 size (3L,)\n",
        "GCP theta :[ 90.           8.5892421    1.           0.30008812   1.37001998\n",
        "   5.0592655    1.03843046   0.58936186]"
       ]
      },
      {
       "output_type": "stream",
       "stream": "stdout",
       "text": [
        "\n",
        "Hopefully :"
       ]
      },
      {
       "output_type": "stream",
       "stream": "stdout",
       "text": [
        " [4945  764] 76.5522125 77.487071875\n",
        "Test paramter:"
       ]
      },
      {
       "output_type": "stream",
       "stream": "stdout",
       "text": [
        " [4945  764]  - ***** accuracy: 77.9\n",
        "GP theta :[[ 10.]]\n",
        "GP Hopefully : [5578  564] 76.1908018167 78.8764682155\n",
        "GP Test paramter:"
       ]
      },
      {
       "output_type": "stream",
       "stream": "stdout",
       "text": [
        " [5578  564]  - ***** accuracy: 76.3\n",
        "Step 11\n",
        "Has sampled 1999 random candidates\n",
        "Centroids\n",
        "[[ 12351.4           744.        ]\n",
        " [  6140.89473684    813.42105263]\n",
        " [  8500.            429.55555556]\n",
        " [ 13464.33333333    275.33333333]]\n",
        "cluster 0 size (5L,)\n",
        "cluster 1 size (19L,)\n",
        "cluster 2 size (9L,)\n",
        "cluster 3 size (3L,)\n",
        "GCP theta :[ 90.           1.44438957   1.26168086   0.34913886   1.34253405\n",
        "   4.21619119   5.87727865   0.76342378]"
       ]
      },
      {
       "output_type": "stream",
       "stream": "stdout",
       "text": [
        "\n",
        "Hopefully :"
       ]
      },
      {
       "output_type": "stream",
       "stream": "stdout",
       "text": [
        " [6021  810] 76.6665953125 77.799634375\n",
        "Test paramter:"
       ]
      },
      {
       "output_type": "stream",
       "stream": "stdout",
       "text": [
        " [6021  810]  - ***** accuracy: 76.75\n",
        "GP theta :[[ 10.]]\n",
        "GP Hopefully : [6542  806] 76.1991784769 78.7862079766\n",
        "GP Test paramter:"
       ]
      },
      {
       "output_type": "stream",
       "stream": "stdout",
       "text": [
        " [6542  806]  - ***** accuracy: 76.65\n",
        "Step 12\n",
        "Has sampled 2000 random candidates\n",
        "Centroids\n",
        "[[ 12351.4           744.        ]\n",
        " [  6134.9           813.25      ]\n",
        " [  8500.            429.55555556]\n",
        " [ 13464.33333333    275.33333333]]\n",
        "cluster 0 size (5L,)\n",
        "cluster 1 size (20L,)\n",
        "cluster 2 size (9L,)\n",
        "cluster 3 size (3L,)\n",
        "GCP theta :[ 86.57684561   2.59474003   1.           0.26212302   1.2924048\n",
        "   3.57260487   0.61287316   0.16734119]"
       ]
      },
      {
       "output_type": "stream",
       "stream": "stdout",
       "text": [
        "\n",
        "Hopefully :"
       ]
      },
      {
       "output_type": "stream",
       "stream": "stdout",
       "text": [
        " [5486  789] 76.6665953125 77.7761921875\n",
        "Test paramter:"
       ]
      },
      {
       "output_type": "stream",
       "stream": "stdout",
       "text": [
        " [5486  789]  - ***** accuracy: 76.7\n",
        "GP theta :[[ 10.]]\n",
        "GP Hopefully : [5445  830] 76.0179915508 78.649485565\n",
        "GP Test paramter:"
       ]
      },
      {
       "output_type": "stream",
       "stream": "stdout",
       "text": [
        " [5445  830]  - ***** accuracy: 75.9\n",
        "Step 13\n",
        "Has sampled 2000 random candidates\n",
        "Centroids\n",
        "[[ 12351.4           744.        ]\n",
        " [  6104.            812.0952381 ]\n",
        " [  8500.            429.55555556]\n",
        " [ 13464.33333333    275.33333333]]\n",
        "cluster 0 size (5L,)\n",
        "cluster 1 size (21L,)\n",
        "cluster 2 size (9L,)\n",
        "cluster 3 size (3L,)\n",
        "GCP theta :[  9.00000000e+01   1.28026605e+00   1.00000000e+00   3.21683026e-01\n",
        "   1.13782000e+00   2.04850572e+00   4.89794142e+00   2.32293017e-02]"
       ]
      },
      {
       "output_type": "stream",
       "stream": "stdout",
       "text": [
        "\n",
        "Hopefully :"
       ]
      },
      {
       "output_type": "stream",
       "stream": "stdout",
       "text": [
        " [6105  812] 76.674409375 77.7761921875\n",
        "Test paramter:"
       ]
      },
      {
       "output_type": "stream",
       "stream": "stdout",
       "text": [
        " [6105  812]  - ***** accuracy: 76.7\n",
        "GP theta :[[ 10.]]\n",
        "GP Hopefully : [6772  900] 75.9863885395 78.5647240575\n",
        "GP Test paramter:"
       ]
      },
      {
       "output_type": "stream",
       "stream": "stdout",
       "text": [
        " [6772  900]  - ***** accuracy: 76.45\n",
        "Step 14\n",
        "Has sampled 2000 random candidates\n",
        "Centroids\n",
        "[[  6104.04545455    812.09090909]\n",
        " [ 13464.33333333    275.33333333]\n",
        " [  8500.            429.55555556]\n",
        " [ 12351.4           744.        ]]\n",
        "cluster 0 size (22L,)\n",
        "cluster 1 size (3L,)\n",
        "cluster 2 size (9L,)\n",
        "cluster 3 size (5L,)\n",
        "GCP theta :[ 79.44422591   8.98691329   1.30348761   0.29356028   1.37474973\n",
        "   5.15407799   0.50298576   0.86000236]"
       ]
      },
      {
       "output_type": "stream",
       "stream": "stdout",
       "text": [
        "\n",
        "Hopefully :"
       ]
      },
      {
       "output_type": "stream",
       "stream": "stdout",
       "text": [
        " [5847  809] 76.674409375 77.7605640625\n",
        "Test paramter:"
       ]
      },
      {
       "output_type": "stream",
       "stream": "stdout",
       "text": [
        " [5847  809]  - ***** accuracy: 76.05\n",
        "GP theta :[[ 10.]]\n",
        "GP Hopefully : [4707  976] 75.9733597505 78.4894128346\n",
        "GP Test paramter:"
       ]
      },
      {
       "output_type": "stream",
       "stream": "stdout",
       "text": [
        " [4707  976]  - ***** accuracy: 76.8\n",
        "Step 15\n",
        "Has sampled 2000 random candidates\n",
        "Centroids\n",
        "[[  8500.            429.55555556]\n",
        " [  6092.86956522    811.95652174]\n",
        " [ 13464.33333333    275.33333333]\n",
        " [ 12351.4           744.        ]]\n",
        "cluster 0 size (9L,)\n",
        "cluster 1 size (23L,)\n",
        "cluster 2 size (3L,)\n",
        "cluster 3 size (5L,)\n",
        "GCP theta :[ 90.           3.48430446   1.13210828   0.25202519   1.26254773\n",
        "   3.61333618   1.87981572   0.76112354]"
       ]
      },
      {
       "output_type": "stream",
       "stream": "stdout",
       "text": [
        "\n",
        "Hopefully :"
       ]
      },
      {
       "output_type": "stream",
       "stream": "stdout",
       "text": [
        " [4862  797] 76.643153125 77.7293078125\n",
        "Test paramter:"
       ]
      },
      {
       "output_type": "stream",
       "stream": "stdout",
       "text": [
        " [4862  797]  - ***** accuracy: 77.1\n",
        "GP theta :[[ 10.]]\n",
        "GP Hopefully : [13330   774] 75.8987129128 78.5141256953\n",
        "GP Test paramter:"
       ]
      },
      {
       "output_type": "stream",
       "stream": "stdout",
       "text": [
        " [13330   774]  - ***** accuracy: 75.1\n",
        "Step 16\n",
        "Has sampled 1999 random candidates\n",
        "Centroids\n",
        "[[  6041.58333333    811.33333333]\n",
        " [  8500.            429.55555556]\n",
        " [ 12351.4           744.        ]\n",
        " [ 13464.33333333    275.33333333]]\n",
        "cluster 0 size (24L,)\n",
        "cluster 1 size (9L,)\n",
        "cluster 2 size (5L,)\n",
        "cluster 3 size (3L,)\n",
        "GCP theta :[ 48.18317994  40.06711645   1.1719992    0.28732688   1.38477814\n",
        "   5.57636019   0.18191196   0.08175861]"
       ]
      },
      {
       "output_type": "stream",
       "stream": "stdout",
       "text": [
        "\n",
        "Hopefully :"
       ]
      },
      {
       "output_type": "stream",
       "stream": "stdout",
       "text": [
        " [4822  765] 76.674409375 77.7449359375\n",
        "Test paramter:"
       ]
      },
      {
       "output_type": "stream",
       "stream": "stdout",
       "text": [
        " [4822  765]  - ***** accuracy: 76.3\n",
        "GP theta :[[ 10.]]\n",
        "GP Hopefully : [5359  927] 76.1242097372 78.4842682566\n",
        "GP Test paramter:"
       ]
      },
      {
       "output_type": "stream",
       "stream": "stdout",
       "text": [
        " [5359  927]  - ***** accuracy: 75.9\n",
        "Step 17\n",
        "Has sampled 1999 random candidates\n",
        "Centroids\n",
        "[[ 13412.            345.75      ]\n",
        " [  5866.125         807.125     ]\n",
        " [  8500.            429.55555556]\n",
        " [ 11507.            805.8       ]]\n",
        "cluster 0 size (4L,)\n",
        "cluster 1 size (24L,)\n",
        "cluster 2 size (9L,)\n",
        "cluster 3 size (5L,)\n",
        "GCP theta :[ 90.           2.70603371   1.6047717    0.33780509   1.56473478\n",
        "   8.73030877   1.00659817   0.24264867]"
       ]
      },
      {
       "output_type": "stream",
       "stream": "stdout",
       "text": [
        "\n",
        "Hopefully :"
       ]
      },
      {
       "output_type": "stream",
       "stream": "stdout",
       "text": [
        " [5564  806] 76.6665953125 77.8230765625\n",
        "Test paramter:"
       ]
      },
      {
       "output_type": "stream",
       "stream": "stdout",
       "text": [
        " [5564  806]  - ***** accuracy: 76.85\n",
        "GP theta :[[ 10.]]\n",
        "GP Hopefully : [3007  788] 76.1850833639 78.4770828332\n",
        "GP Test paramter:"
       ]
      },
      {
       "output_type": "stream",
       "stream": "stdout",
       "text": [
        " [3007  788]  - ***** accuracy: 77.3\n",
        "Step 18\n",
        "Has sampled 2000 random candidates\n",
        "Centroids\n",
        "[[ 12351.4           744.        ]\n",
        " [  5976.30769231    809.34615385]\n",
        " [  8500.            429.55555556]\n",
        " [ 13464.33333333    275.33333333]]\n",
        "cluster 0 size (5L,)\n",
        "cluster 1 size (26L,)\n",
        "cluster 2 size (9L,)\n",
        "cluster 3 size (3L,)\n",
        "GCP theta :[ 66.50277774  14.52569994   1.01950416   0.34055912   1.3132829\n",
        "   7.35515314   0.85519093   0.37434163]"
       ]
      },
      {
       "output_type": "stream",
       "stream": "stdout",
       "text": [
        "\n",
        "Hopefully :"
       ]
      },
      {
       "output_type": "stream",
       "stream": "stdout",
       "text": [
        " [5254  796] 76.674409375 77.72149375\n",
        "Test paramter:"
       ]
      },
      {
       "output_type": "stream",
       "stream": "stdout",
       "text": [
        " [5254  796]  - ***** accuracy: 76.75\n",
        "GP theta :[[ 10.]]\n",
        "GP Hopefully : [3435  731] 76.2877026683 78.6957544025\n",
        "GP Test paramter:"
       ]
      },
      {
       "output_type": "stream",
       "stream": "stdout",
       "text": [
        " [3435  731]  - ***** accuracy: 77.05\n",
        "Step 19\n",
        "Has sampled 2000 random candidates\n",
        "Centroids\n",
        "[[  5725.2           808.2       ]\n",
        " [ 10163.55555556    736.66666667]\n",
        " [ 13412.            345.75      ]\n",
        " [  8506.33333333    338.83333333]]\n",
        "cluster 0 size (25L,)\n",
        "cluster 1 size (9L,)\n",
        "cluster 2 size (4L,)\n",
        "cluster 3 size (6L,)\n",
        "GCP theta :[  9.00000000e+01   5.27912377e+00   1.00000000e+00   2.75021095e-01\n",
        "   1.00907807e+00   1.00000000e+01   4.46135829e+00   4.51017847e-02]"
       ]
      },
      {
       "output_type": "stream",
       "stream": "stdout",
       "text": [
        "\n",
        "Hopefully :"
       ]
      },
      {
       "output_type": "stream",
       "stream": "stdout",
       "text": [
        " [5440  788] 76.6822234375 77.8259046875\n",
        "Test paramter:"
       ]
      },
      {
       "output_type": "stream",
       "stream": "stdout",
       "text": [
        " [5440  788]  - ***** accuracy: 75.85\n",
        "GP theta :[[ 10.]]\n",
        "GP Hopefully : [3115  665] 76.0712801082 78.5343372661\n",
        "GP Test paramter:"
       ]
      },
      {
       "output_type": "stream",
       "stream": "stdout",
       "text": [
        " [3115  665]  - ***** accuracy: 76.75\n",
        "Step 20\n",
        "Has sampled 2000 random candidates\n",
        "Centroids\n",
        "[[ 11001.66666667    799.5       ]\n",
        " [  8500.            429.55555556]\n",
        " [  5714.23076923    807.42307692]\n",
        " [ 13412.            345.75      ]]\n",
        "cluster 0 size (6L,)\n",
        "cluster 1 size (9L,)\n",
        "cluster 2 size (26L,)\n",
        "cluster 3 size (4L,)\n",
        "GCP theta :[  9.00000000e+01   2.47954201e+00   1.00000000e+00   2.59659542e-01\n",
        "   1.25122168e+00   2.83994303e+00   1.94200440e+00   3.35470019e-02]"
       ]
      },
      {
       "output_type": "stream",
       "stream": "stdout",
       "text": [
        "\n",
        "Hopefully :"
       ]
      },
      {
       "output_type": "stream",
       "stream": "stdout",
       "text": [
        " [5458  801] 76.6537953125 77.73995\n",
        "Test paramter:"
       ]
      },
      {
       "output_type": "stream",
       "stream": "stdout",
       "text": [
        " [5458  801]  - ***** accuracy: 77.1\n",
        "GP theta :[[ 10.]]\n",
        "GP Hopefully : [3429  578] 75.8408722664 78.4733939371\n",
        "GP Test paramter:"
       ]
      },
      {
       "output_type": "stream",
       "stream": "stdout",
       "text": [
        " [3429  578]  - ***** accuracy: 76.85\n",
        "Step 21\n",
        "Has sampled 2000 random candidates\n",
        "Centroids\n",
        "[[ 11507.            805.8       ]\n",
        " [  5803.67857143    805.78571429]\n",
        " [  8500.            429.55555556]\n",
        " [ 13412.            345.75      ]]\n",
        "cluster 0 size (5L,)\n",
        "cluster 1 size (28L,)\n",
        "cluster 2 size (9L,)\n",
        "cluster 3 size (4L,)\n",
        "GCP theta :[ 90.           2.69268985   1.47513883   0.27063765   1.55536898\n",
        "   1.68752548   1.56459634   0.20714311]"
       ]
      },
      {
       "output_type": "stream",
       "stream": "stdout",
       "text": [
        "\n",
        "Hopefully :"
       ]
      },
      {
       "output_type": "stream",
       "stream": "stdout",
       "text": [
        " [5198  812] 76.661609375 77.75275\n",
        "Test paramter:"
       ]
      },
      {
       "output_type": "stream",
       "stream": "stdout",
       "text": [
        " [5198  812]  - ***** accuracy: 77.0\n",
        "GP theta :[[ 10.]]\n",
        "GP Hopefully : [4362  596] 76.193923201 78.5602560293\n",
        "GP Test paramter:"
       ]
      },
      {
       "output_type": "stream",
       "stream": "stdout",
       "text": [
        " [4362  596]  - ***** accuracy: 76.45\n",
        "Step 22\n",
        "Has sampled 2000 random candidates\n",
        "Centroids\n",
        "[[ 10163.55555556    736.66666667]\n",
        " [  5686.64285714    807.35714286]\n",
        " [ 13412.            345.75      ]\n",
        " [  8506.33333333    338.83333333]]\n",
        "cluster 0 size (9L,)\n",
        "cluster 1 size (28L,)\n",
        "cluster 2 size (4L,)\n",
        "cluster 3 size (6L,)\n",
        "GCP theta :[  9.00000000e+01   1.76651936e+00   1.00000000e+00   2.62598471e-01\n",
        "   1.83213353e+00   4.96755566e+00   2.01775587e+00   3.01659189e-02]"
       ]
      }
     ]
    },
    {
     "cell_type": "code",
     "collapsed": false,
     "input": [
      "plt.figure(1)\n",
      "plt.plot(range(len(outputs)),outputs,'b')\n",
      "plt.plot(range(len(outputs_GP)),outputs_GP,'r')\n",
      "plt.show()"
     ],
     "language": "python",
     "metadata": {},
     "outputs": []
    },
    {
     "cell_type": "code",
     "collapsed": false,
     "input": [],
     "language": "python",
     "metadata": {},
     "outputs": []
    }
   ],
   "metadata": {}
  }
 ]
}