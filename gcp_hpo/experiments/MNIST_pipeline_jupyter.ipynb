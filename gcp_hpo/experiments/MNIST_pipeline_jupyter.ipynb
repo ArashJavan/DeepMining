{
 "cells": [
  {
   "cell_type": "code",
   "execution_count": null,
   "metadata": {
    "collapsed": false
   },
   "outputs": [],
   "source": [
    "from IPython.core.display import display, HTML\n",
    "display(HTML(\"<style>.container { width:100% !important; }</style>\"))"
   ]
  },
  {
   "cell_type": "code",
   "execution_count": null,
   "metadata": {
    "collapsed": false
   },
   "outputs": [],
   "source": [
    "\"\"\"\n",
    "Running MNIST pipeline entirely online, rather than from csv files like currently done in the experiments folder\n",
    "\"\"\"\n",
    "\n",
    "# from gcp_hpo.smart_search import SmartSearch\n",
    "# from ..smart_search import SmartSearch # Alec edit\n",
    "import numpy as np\n",
    "import math\n",
    "import pandas as pd"
   ]
  },
  {
   "cell_type": "code",
   "execution_count": null,
   "metadata": {
    "collapsed": true
   },
   "outputs": [],
   "source": [
    "np.set_printoptions(edgeitems=100)"
   ]
  },
  {
   "cell_type": "code",
   "execution_count": null,
   "metadata": {
    "collapsed": true
   },
   "outputs": [],
   "source": [
    "# Set parameters\n",
    "blur_ksize = 1\n",
    "blur_sigma = 4\n",
    "pca_dim = 60\n",
    "degree_poly = 3\n",
    "gamma = 10**(-3)"
   ]
  },
  {
   "cell_type": "code",
   "execution_count": null,
   "metadata": {
    "collapsed": false,
    "scrolled": true
   },
   "outputs": [],
   "source": [
    "def import_data():\n",
    "    \"\"\"\n",
    "    Steps:\n",
    "        1. Import MNIST data (from Kaggle to be consistent with Sebastien)\n",
    "        2. Blur the training images\n",
    "        3. Reduce image matrices by principal component analysis\n",
    "        4. classify using polynomial SVM\n",
    "    \"\"\"\n",
    "\n",
    "    # Import MNIST data\n",
    "    data = np.loadtxt('/Users/aandersonlaptop/Desktop/MNIST_train.csv',skiprows=1,delimiter=',') # way slower than pandas\n",
    "    new_x = data[:,1:]\n",
    "    new_y = data[:,0]\n",
    "#     print 'original',data\n",
    "    print 'Y',new_y\n",
    "    print 'X',new_x\n",
    "    return new_x,new_y\n",
    "    \n",
    "    \n",
    "X_train,y_train = import_data()"
   ]
  },
  {
   "cell_type": "code",
   "execution_count": null,
   "metadata": {
    "collapsed": false,
    "scrolled": true
   },
   "outputs": [],
   "source": [
    "from scipy.ndimage.filters import gaussian_filter \n",
    "\n",
    "def gaussian_blur(X,stddev,k_size):\n",
    "    # Old way\n",
    "#     output = np.empty(X.shape)\n",
    "#     output[:] = np.NAN\n",
    "# #     print 'original',output\n",
    "# #     for i in range(X.shape[0]):\n",
    "# #         a = np.array([X[i][0]])\n",
    "# #         b = gaussian_filter(X[i][1:],sigma=stddev,order=0,truncate=k_size)\n",
    "# #         output[i,] = np.concatenate((a,b),axis=0)\n",
    "        \n",
    "# #     print 'output',output\n",
    "# #     return output\n",
    "\n",
    "    # New way\n",
    "    output = gaussian_filter(X,sigma=stddev,order=0,truncate=k_size)\n",
    "#     print 'output',output\n",
    "    return output\n",
    "\n",
    "blurred_X_train = gaussian_blur(X_train,stddev=blur_sigma,k_size=blur_ksize)   "
   ]
  },
  {
   "cell_type": "code",
   "execution_count": null,
   "metadata": {
    "collapsed": false
   },
   "outputs": [],
   "source": [
    "from sklearn.decomposition import PCA\n",
    "\n",
    "def do_pca(X,num_components):\n",
    "    pca = PCA(n_components = num_components)\n",
    "#     pca.fit(X.T)\n",
    "#     print pca.components_.T.shape\n",
    "#     return pca.components_.T\n",
    "    return pca.fit_transform(X)\n",
    "    \n",
    "    \n",
    "pca_X_train = do_pca(blurred_X_train,num_components=pca_dim)"
   ]
  },
  {
   "cell_type": "code",
   "execution_count": null,
   "metadata": {
    "collapsed": false
   },
   "outputs": [],
   "source": [
    "### Random sampling ###\n",
    "def random_sample(X,y,num_samples):\n",
    "    idx = np.random.randint(X.shape[0],size=num_samples)\n",
    "#     print 'idx',idx\n",
    "    return X[idx],y[idx]\n",
    "\n",
    "X_sample,y_sample = random_sample(pca_X_train,y_train,15000)\n",
    "print 'shape',X_sample.shape\n",
    "print 'shape',y_sample.shape"
   ]
  },
  {
   "cell_type": "code",
   "execution_count": null,
   "metadata": {
    "collapsed": false
   },
   "outputs": [],
   "source": [
    "from sklearn.svm import SVC\n",
    "\n",
    "def do_svm(X,y,degree,gamma_coeff):\n",
    "    # Old way\n",
    "#     clf = SVC()\n",
    "# #     print len(data_3[:,0])\n",
    "#     data_3[:,0] = data_3[:,0].astype(int)\n",
    "# #     print np.unique(data_3[:,0])\n",
    "#     clf.fit(data_3[:,1:],data_3[:,0])\n",
    "#     return clf.score(data_3[:,1:],data_3[:,0]) # TODO this is just the training accuracy\n",
    "\n",
    "    # New way\n",
    "    clf = SVC(kernel='poly',degree=degree,gamma=gamma_coeff)\n",
    "    clf.fit(X,y)\n",
    "    print 'accuracy on training set',clf.score(X,y)\n",
    "    return clf\n",
    "\n",
    "model = do_svm(pca_X_train,y_train,degree=degree_poly,gamma_coeff=gamma)\n",
    "# model = do_svm(X_train[:5000,:],y_train[:5000],degree=degree_poly,gamma_coeff=gamma)\n",
    "# model = do_svm(X_sample,y_sample,degree=degree_poly,gamma_coeff=gamma)"
   ]
  },
  {
   "cell_type": "code",
   "execution_count": null,
   "metadata": {
    "collapsed": false
   },
   "outputs": [],
   "source": [
    "%time print 'go'"
   ]
  },
  {
   "cell_type": "code",
   "execution_count": null,
   "metadata": {
    "collapsed": false
   },
   "outputs": [],
   "source": [
    "############################# Test model ############################\n",
    "def import_test_data():\n",
    "    # Import MNIST data\n",
    "    data = np.loadtxt('/Users/aandersonlaptop/Desktop/MNIST_test.csv',skiprows=1,delimiter=',') # way slower than pandas\n",
    "    new_x = data[:,1:]\n",
    "    new_y = data[:,0]\n",
    "    print 'Y',new_y\n",
    "    print 'X',new_x\n",
    "    return new_x,new_y\n",
    "\n",
    "X_test,y_test = import_data()"
   ]
  },
  {
   "cell_type": "code",
   "execution_count": null,
   "metadata": {
    "collapsed": false
   },
   "outputs": [],
   "source": [
    "### Test model ###\n",
    "\n",
    "blurred_X_test = gaussian_blur(X_test,stddev=blur_sigma,k_size=blur_ksize)\n",
    "pca_X_test = do_pca(blurred_X_test,num_components=pca_dim)\n",
    "print model.score(pca_X_test,y_test)\n",
    "# print model.score(X_test,y_test)"
   ]
  }
 ],
 "metadata": {
  "kernelspec": {
   "display_name": "Python 2",
   "language": "python",
   "name": "python2"
  },
  "language_info": {
   "codemirror_mode": {
    "name": "ipython",
    "version": 2
   },
   "file_extension": ".py",
   "mimetype": "text/x-python",
   "name": "python",
   "nbconvert_exporter": "python",
   "pygments_lexer": "ipython2",
   "version": "2.7.9"
  }
 },
 "nbformat": 4,
 "nbformat_minor": 1
}
