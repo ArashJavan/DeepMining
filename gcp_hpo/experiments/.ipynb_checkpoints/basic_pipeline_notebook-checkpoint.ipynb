{
 "cells": [
  {
   "cell_type": "code",
   "execution_count": 1,
   "metadata": {
    "collapsed": false
   },
   "outputs": [],
   "source": [
    "\"\"\"\n",
    "This notebook is for testing of a basic data science pipeline for incorporation into\n",
    "the SmartSearch framework.\n",
    "\n",
    "The iris dataset from sklearn is used for this pipeline.\n",
    "\n",
    "Pipeline steps:\n",
    "    1. import data\n",
    "    2. PCA\n",
    "    3. Random Forest classification\n",
    "    \n",
    "Hyperparameters to be optimized:\n",
    "\n",
    "    Parameter             Description                        Range\n",
    "    pca_dim               dimension of PCA                   [0,4]\n",
    "    number_estimators     number of trees in random forest   [5,30]\n",
    "\n",
    "\"\"\"\n",
    "import numpy as np\n",
    "from sklearn.datasets import load_iris\n",
    "from sklearn.model_selection import train_test_split\n",
    "from sklearn.decomposition import PCA\n",
    "from sklearn.ensemble import RandomForestClassifier"
   ]
  },
  {
   "cell_type": "code",
   "execution_count": 2,
   "metadata": {
    "collapsed": false
   },
   "outputs": [
    {
     "data": {
      "text/html": [
       "<style>.container { width:100% !important; }</style>"
      ],
      "text/plain": [
       "<IPython.core.display.HTML object>"
      ]
     },
     "metadata": {},
     "output_type": "display_data"
    }
   ],
   "source": [
    "# Make iPython notebook take up whole screen\n",
    "\n",
    "from IPython.core.display import display, HTML\n",
    "display(HTML(\"<style>.container { width:100% !important; }</style>\"))\n",
    "\n",
    "# Print more items in numpy arrays\n",
    "np.set_printoptions(edgeitems=100)"
   ]
  },
  {
   "cell_type": "code",
   "execution_count": 3,
   "metadata": {
    "collapsed": true
   },
   "outputs": [],
   "source": [
    "# Variables for model building\n",
    "size_test_set = 0.33\n",
    "pca_dim = 3\n",
    "number_estimators = 20"
   ]
  },
  {
   "cell_type": "code",
   "execution_count": 4,
   "metadata": {
    "collapsed": false
   },
   "outputs": [
    {
     "name": "stdout",
     "output_type": "stream",
     "text": [
      "X_train (100, 4)\n",
      "y_train (100,)\n",
      "X_test (50, 4)\n",
      "y_test (50,)\n"
     ]
    }
   ],
   "source": [
    "# Import data\n",
    "def load_data():\n",
    "    data = load_iris()\n",
    "#     print 'data',data\n",
    "    X = data['data']\n",
    "    y = data['target']\n",
    "    return train_test_split(X,y,test_size=size_test_set) \n",
    "\n",
    "X_train,X_test,y_train,y_test = load_data()\n",
    "print 'X_train',X_train.shape\n",
    "print 'y_train',y_train.shape\n",
    "print 'X_test',X_test.shape\n",
    "print 'y_test',y_test.shape"
   ]
  },
  {
   "cell_type": "code",
   "execution_count": 5,
   "metadata": {
    "collapsed": false
   },
   "outputs": [
    {
     "name": "stdout",
     "output_type": "stream",
     "text": [
      "(100, 3)\n"
     ]
    }
   ],
   "source": [
    "# PCA\n",
    "\n",
    "def do_pca(X,num_components,fit,fitted_model=None):\n",
    "    if fit:\n",
    "        pca = PCA(n_components = num_components)\n",
    "        pca = pca.fit(X)\n",
    "        return pca,pca.transform(X)\n",
    "    else:\n",
    "        return fitted_model.transform(X)\n",
    "    \n",
    "pca_model,pca_X_train = do_pca(X_train,num_components=pca_dim,fit = True)\n",
    "print pca_X_train.shape"
   ]
  },
  {
   "cell_type": "code",
   "execution_count": 6,
   "metadata": {
    "collapsed": false
   },
   "outputs": [
    {
     "name": "stdout",
     "output_type": "stream",
     "text": [
      "accuracy on training set 1.0\n"
     ]
    }
   ],
   "source": [
    "def random_forest(X,y,num_estimators):\n",
    "    clf = RandomForestClassifier(n_estimators=num_estimators)\n",
    "    clf.fit(X,y)\n",
    "    print 'accuracy on training set',clf.score(X,y)\n",
    "    return clf\n",
    "\n",
    "model = random_forest(pca_X_train,y_train,num_estimators=number_estimators)"
   ]
  },
  {
   "cell_type": "code",
   "execution_count": 7,
   "metadata": {
    "collapsed": false
   },
   "outputs": [
    {
     "name": "stdout",
     "output_type": "stream",
     "text": [
      "0.9\n"
     ]
    }
   ],
   "source": [
    "### Test model ###\n",
    "\n",
    "pca_X_test = do_pca(X_test,num_components=pca_dim,fit=False,fitted_model=pca_model)\n",
    "print model.score(pca_X_test,y_test)\n",
    "# print model.score(X_test,y_test)"
   ]
  }
 ],
 "metadata": {
  "kernelspec": {
   "display_name": "Python 2",
   "language": "python",
   "name": "python2"
  },
  "language_info": {
   "codemirror_mode": {
    "name": "ipython",
    "version": 2
   },
   "file_extension": ".py",
   "mimetype": "text/x-python",
   "name": "python",
   "nbconvert_exporter": "python",
   "pygments_lexer": "ipython2",
   "version": "2.7.9"
  }
 },
 "nbformat": 4,
 "nbformat_minor": 1
}
