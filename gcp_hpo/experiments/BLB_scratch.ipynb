{
 "cells": [
  {
   "cell_type": "code",
   "execution_count": 1,
   "metadata": {
    "collapsed": false
   },
   "outputs": [],
   "source": [
    "\"\"\"\n",
    "A first implementation of Bag of Little Bootstraps. To be cleaned and updated later.\n",
    "\n",
    "Future possible improvements\n",
    "    - vectorize computations for increased speed\n",
    "\"\"\"\n",
    "\n",
    "import numpy as np"
   ]
  },
  {
   "cell_type": "code",
   "execution_count": 2,
   "metadata": {
    "collapsed": false
   },
   "outputs": [
    {
     "name": "stdout",
     "output_type": "stream",
     "text": [
      "[ 55.38621264   5.48148046  50.52636698 ...,  74.06259265  53.88014563\n",
      "   5.91228675]\n"
     ]
    }
   ],
   "source": [
    "def import_data():\n",
    "    # First test is just averaging a random numpy array\n",
    "    return np.random.rand(500000000)*100\n",
    "\n",
    "data = import_data()\n",
    "print data"
   ]
  },
  {
   "cell_type": "code",
   "execution_count": 3,
   "metadata": {
    "collapsed": false,
    "scrolled": true
   },
   "outputs": [
    {
     "name": "stdout",
     "output_type": "stream",
     "text": [
      "49.9985789649\n",
      "1 loop, best of 1: 557 ms per loop\n"
     ]
    }
   ],
   "source": [
    "def calculate_average(data_array):\n",
    "    return np.mean(data_array)\n",
    "\n",
    "%timeit -n 1 -r 1 print calculate_average(data)"
   ]
  },
  {
   "cell_type": "code",
   "execution_count": 4,
   "metadata": {
    "collapsed": false
   },
   "outputs": [
    {
     "ename": "NameError",
     "evalue": "name 'n' is not defined",
     "output_type": "error",
     "traceback": [
      "\u001b[0;31m---------------------------------------------------------------------------\u001b[0m",
      "\u001b[0;31mNameError\u001b[0m                                 Traceback (most recent call last)",
      "\u001b[0;32m<ipython-input-4-44439e7b1fb1>\u001b[0m in \u001b[0;36m<module>\u001b[0;34m()\u001b[0m\n\u001b[1;32m     12\u001b[0m     \u001b[0;32mreturn\u001b[0m \u001b[0mnp\u001b[0m\u001b[0;34m.\u001b[0m\u001b[0msum\u001b[0m\u001b[0;34m(\u001b[0m\u001b[0mnp\u001b[0m\u001b[0;34m.\u001b[0m\u001b[0mmultiply\u001b[0m\u001b[0;34m(\u001b[0m\u001b[0msample\u001b[0m\u001b[0;34m,\u001b[0m\u001b[0mnew_data\u001b[0m\u001b[0;34m)\u001b[0m\u001b[0;34m)\u001b[0m\u001b[0;34m/\u001b[0m\u001b[0mn\u001b[0m\u001b[0;34m\u001b[0m\u001b[0m\n\u001b[1;32m     13\u001b[0m \u001b[0;34m\u001b[0m\u001b[0m\n\u001b[0;32m---> 14\u001b[0;31m \u001b[0mcalculate_avg_statistic\u001b[0m\u001b[0;34m(\u001b[0m\u001b[0mdata\u001b[0m\u001b[0;34m,\u001b[0m\u001b[0mnp\u001b[0m\u001b[0;34m.\u001b[0m\u001b[0mrandom\u001b[0m\u001b[0;34m.\u001b[0m\u001b[0mmultinomial\u001b[0m\u001b[0;34m(\u001b[0m\u001b[0mn\u001b[0m\u001b[0;34m,\u001b[0m\u001b[0mpvals\u001b[0m\u001b[0;34m=\u001b[0m\u001b[0;34m[\u001b[0m\u001b[0;36m1.0\u001b[0m\u001b[0;34m/\u001b[0m\u001b[0mb\u001b[0m \u001b[0;32mfor\u001b[0m \u001b[0mi\u001b[0m \u001b[0;32min\u001b[0m \u001b[0mrange\u001b[0m\u001b[0;34m(\u001b[0m\u001b[0mb\u001b[0m\u001b[0;34m)\u001b[0m\u001b[0;34m]\u001b[0m\u001b[0;34m)\u001b[0m\u001b[0;34m,\u001b[0m                       \u001b[0mnp\u001b[0m\u001b[0;34m.\u001b[0m\u001b[0mrandom\u001b[0m\u001b[0;34m.\u001b[0m\u001b[0mrandint\u001b[0m\u001b[0;34m(\u001b[0m\u001b[0mn\u001b[0m\u001b[0;34m,\u001b[0m\u001b[0msize\u001b[0m\u001b[0;34m=\u001b[0m\u001b[0mb\u001b[0m\u001b[0;34m)\u001b[0m\u001b[0;34m)\u001b[0m\u001b[0;34m\u001b[0m\u001b[0m\n\u001b[0m",
      "\u001b[0;31mNameError\u001b[0m: name 'n' is not defined"
     ]
    }
   ],
   "source": [
    "def calculate_avg_statistic(original_data,sample,indices):\n",
    "    \"\"\"\n",
    "    Calculates mean according to arguments below\n",
    "    \n",
    "    Args:\n",
    "        original_data:  original data\n",
    "        sample:         multinomial sample. contains number of times that each of the b samples\n",
    "                        is sampled\n",
    "        indices:        indices of the data used from the original data\n",
    "    \"\"\"\n",
    "    new_data = original_data[indices]\n",
    "    return np.sum(np.multiply(sample,new_data))/n\n",
    "    \n",
    "calculate_avg_statistic(data,np.random.multinomial(n,pvals=[1.0/b for i in range(b)]),\\\n",
    "                       np.random.randint(n,size=b))"
   ]
  },
  {
   "cell_type": "code",
   "execution_count": 9,
   "metadata": {
    "collapsed": false
   },
   "outputs": [],
   "source": [
    "#### Define variables ######\n",
    "n = data.shape[0] # Size of data\n",
    "b = int(n**(0.6)) # subset size\n",
    "s = 1 # Number of sampled subsets\n",
    "r = 20 # Number of Monte Carlo iterations"
   ]
  },
  {
   "cell_type": "code",
   "execution_count": 29,
   "metadata": {
    "collapsed": false
   },
   "outputs": [
    {
     "name": "stdout",
     "output_type": "stream",
     "text": [
      "50.0297750913\n",
      "49.9996602277\n",
      "49.9350019208\n",
      "49.9202345127\n",
      "49.8663777074\n",
      "50.0754224486\n",
      "50.016000346\n",
      "50.0029895749\n",
      "49.9566582422\n",
      "3 loops, best of 3: 484 ms per loop\n"
     ]
    }
   ],
   "source": [
    "# TODO check algorithm correctness again\n",
    "# TODO find more ways to speed up code\n",
    "    # (could make only one call to multinomial sample, but that seems to not help)\n",
    "    # could get rid of for loops (use map (preferable) or list comprehension possibly)\n",
    "    # could use while loops instead of for loops\n",
    "    # could use while loops instead of for loops -> nope, it's slower\n",
    "    # could use numpy arange or an xrange instead of regular range\n",
    "\n",
    "def blb_main(data_array,calculate_statistic):\n",
    "    subsample_estimate_sum = 0.0\n",
    "    pval_array = np.ones(b)/float(b)\n",
    "    # Randomly sample subset of indices\n",
    "    idx = np.random.randint(low=0,high=n,size=(s,b))\n",
    "    for j in range(s):\n",
    "        # Approximate the measure\n",
    "        monte_carlo_estimate_sum= 0.0\n",
    "        multinomial_sample = np.random.multinomial(n,pvals=pval_array,size=r)\n",
    "        for k in range(r):\n",
    "            monte_carlo_estimate_sum += calculate_statistic(data_array,multinomial_sample[k,]\\\n",
    "                                                            ,idx[j,])\n",
    "        subsample_estimate_sum += monte_carlo_estimate_sum/float(r)\n",
    "    \n",
    "    return subsample_estimate_sum/float(s)\n",
    "            \n",
    "    \n",
    "%timeit -n 3 -r 3 print blb_main(data,calculate_avg_statistic)"
   ]
  },
  {
   "cell_type": "code",
   "execution_count": null,
   "metadata": {
    "collapsed": false
   },
   "outputs": [],
   "source": [
    "n**(0.7)"
   ]
  },
  {
   "cell_type": "code",
   "execution_count": null,
   "metadata": {
    "collapsed": true
   },
   "outputs": [],
   "source": [
    "# OLD VERSION ####\n",
    "\n",
    "# def blb_main(data_array,calculate_statistic):\n",
    "#     subsample_estimate_sum = 0.0\n",
    "#     pval_array = [1.0/b for i in range(b)]\n",
    "#     for j in range(s):\n",
    "#         # Randomly sample subset of indices\n",
    "#         idx = np.random.randint(n,size=b)\n",
    "#         # Approximate the measure\n",
    "#         monte_carlo_estimate_sum= 0.0\n",
    "#         for k in range(r):\n",
    "#             multinomial_sample = np.random.multinomial(n,pvals=pval_array)\n",
    "# #             print multinomial_sample\n",
    "#             monte_carlo_estimate_sum += calculate_statistic(data_array,multinomial_sample,idx)\n",
    "#         subsample_estimate_sum += monte_carlo_estimate_sum*1.0/r\n",
    "    \n",
    "#     return subsample_estimate_sum*1.0/s\n",
    "            \n",
    "    \n",
    "# %time print blb_main(data,calculate_avg_statistic)"
   ]
  }
 ],
 "metadata": {
  "kernelspec": {
   "display_name": "Python 2",
   "language": "python",
   "name": "python2"
  },
  "language_info": {
   "codemirror_mode": {
    "name": "ipython",
    "version": 2
   },
   "file_extension": ".py",
   "mimetype": "text/x-python",
   "name": "python",
   "nbconvert_exporter": "python",
   "pygments_lexer": "ipython2",
   "version": "2.7.9"
  }
 },
 "nbformat": 4,
 "nbformat_minor": 1
}
