{
 "cells": [
  {
   "cell_type": "code",
   "execution_count": 2,
   "metadata": {
    "collapsed": false
   },
   "outputs": [],
   "source": [
    "\"\"\"\n",
    "A first implementation of Bag of Little Bootstraps. To be cleaned and updated later.\n",
    "\n",
    "Future possible improvements\n",
    "    - vectorize computations for increased speed\n",
    "\"\"\"\n",
    "\n",
    "import numpy as np"
   ]
  },
  {
   "cell_type": "code",
   "execution_count": 3,
   "metadata": {
    "collapsed": false
   },
   "outputs": [
    {
     "name": "stdout",
     "output_type": "stream",
     "text": [
      "[ 48.56297731  49.44792462  30.80551622 ...,  71.75462744  73.86751791\n",
      "  32.91980851]\n"
     ]
    }
   ],
   "source": [
    "def import_data():\n",
    "    # First test is just averaging a random numpy array\n",
    "    return np.random.rand(100000000)*100\n",
    "\n",
    "data = import_data()\n",
    "print data"
   ]
  },
  {
   "cell_type": "code",
   "execution_count": 4,
   "metadata": {
    "collapsed": false,
    "scrolled": true
   },
   "outputs": [
    {
     "name": "stdout",
     "output_type": "stream",
     "text": [
      "50.0049357765\n",
      "50.0049357765\n",
      "50.0049357765\n",
      "50.0049357765\n",
      "50.0049357765\n",
      "50.0049357765\n",
      "50.0049357765\n",
      "50.0049357765\n",
      "50.0049357765\n",
      "50.0049357765\n",
      "50.0049357765\n",
      "50.0049357765\n",
      "50.0049357765\n",
      "50.0049357765\n",
      "50.0049357765\n",
      "50.0049357765\n",
      "50.0049357765\n",
      "50.0049357765\n",
      "50.0049357765\n",
      "50.0049357765\n",
      "50.0049357765\n",
      "50.0049357765\n",
      "50.0049357765\n",
      "50.0049357765\n",
      "50.0049357765\n",
      "50.0049357765\n",
      "50.0049357765\n",
      "50.0049357765\n",
      "50.0049357765\n",
      "50.0049357765\n",
      "50.0049357765\n",
      "50.0049357765\n",
      "50.0049357765\n",
      "50.0049357765\n",
      "50.0049357765\n",
      "50.0049357765\n",
      "50.0049357765\n",
      "50.0049357765\n",
      "50.0049357765\n",
      "50.0049357765\n",
      "50.0049357765\n",
      "10 loops, best of 3: 59.4 ms per loop\n"
     ]
    }
   ],
   "source": [
    "def calculate_average(data_array):\n",
    "    return np.mean(data_array)\n",
    "\n",
    "%timeit print calculate_average(data)"
   ]
  },
  {
   "cell_type": "code",
   "execution_count": 7,
   "metadata": {
    "collapsed": false
   },
   "outputs": [
    {
     "data": {
      "text/plain": [
       "50.115198574538105"
      ]
     },
     "execution_count": 7,
     "metadata": {},
     "output_type": "execute_result"
    }
   ],
   "source": [
    "def calculate_avg_statistic(original_data,sample,indices):\n",
    "    \"\"\"\n",
    "    Calculates mean according to arguments below\n",
    "    \n",
    "    Args:\n",
    "        original_data:  original data\n",
    "        sample:         multinomial sample. contains number of times that each of the b samples\n",
    "                        is sampled\n",
    "        indices:        indices of the data used from the original data\n",
    "    \"\"\"\n",
    "    new_data = original_data[indices]\n",
    "#     if len(new_data) != len(sample):\n",
    "#         print \"You messed up sampling length\"\n",
    "#         return 0\n",
    "\n",
    "#     sum_observations = 0.0\n",
    "#     for i in range(len(sample)):\n",
    "#         sum_observations += sample[i]*new_data[i]\n",
    "    \n",
    "#     return sum_observations/n\n",
    "    return np.sum(np.multiply(sample,new_data))/n\n",
    "    \n",
    "calculate_avg_statistic(data,np.random.multinomial(n,pvals=[1.0/b for i in range(b)]),\\\n",
    "                       np.random.randint(n,size=b))"
   ]
  },
  {
   "cell_type": "code",
   "execution_count": 22,
   "metadata": {
    "collapsed": false
   },
   "outputs": [],
   "source": [
    "#### Define variables ######\n",
    "n = data.shape[0] # Size of data\n",
    "b = int(n**(0.7)) # subset size\n",
    "s = 1 # Number of sampled subsets\n",
    "r = 10 # Number of Monte Carlo iterations"
   ]
  },
  {
   "cell_type": "code",
   "execution_count": 23,
   "metadata": {
    "collapsed": false
   },
   "outputs": [
    {
     "name": "stdout",
     "output_type": "stream",
     "text": [
      "49.9042502348\n",
      "49.9817734221\n",
      "49.9734072603\n",
      "3 loops, best of 1: 726 ms per loop\n"
     ]
    }
   ],
   "source": [
    "# TODO check algorithm correctness\n",
    "# TODO find more ways to speed up code\n",
    "\n",
    "def blb_main(data_array,calculate_statistic):\n",
    "    subsample_estimate_sum = 0.0\n",
    "    pval_array = [1.0/b for i in range(b)]\n",
    "    # Randomly sample subset of indices\n",
    "    idx = np.random.randint(low=0,high=n,size=(s,b))\n",
    "    for j in range(s):\n",
    "        # Approximate the measure\n",
    "        monte_carlo_estimate_sum= 0.0\n",
    "        multinomial_sample = np.random.multinomial(n,pvals=pval_array,size=r)\n",
    "        for k in range(r):\n",
    "            monte_carlo_estimate_sum += calculate_statistic(data_array,multinomial_sample[k,]\\\n",
    "                                                            ,idx[j,])\n",
    "        subsample_estimate_sum += monte_carlo_estimate_sum*1.0/r\n",
    "    \n",
    "    return subsample_estimate_sum*1.0/s\n",
    "            \n",
    "    \n",
    "%timeit -n 3 -r 1 print blb_main(data,calculate_avg_statistic)"
   ]
  },
  {
   "cell_type": "code",
   "execution_count": null,
   "metadata": {
    "collapsed": false
   },
   "outputs": [],
   "source": [
    "n**(0.7)"
   ]
  },
  {
   "cell_type": "code",
   "execution_count": null,
   "metadata": {
    "collapsed": true
   },
   "outputs": [],
   "source": [
    "# OLD VERSION ####\n",
    "\n",
    "# def blb_main(data_array,calculate_statistic):\n",
    "#     subsample_estimate_sum = 0.0\n",
    "#     pval_array = [1.0/b for i in range(b)]\n",
    "#     for j in range(s):\n",
    "#         # Randomly sample subset of indices\n",
    "#         idx = np.random.randint(n,size=b)\n",
    "#         # Approximate the measure\n",
    "#         monte_carlo_estimate_sum= 0.0\n",
    "#         for k in range(r):\n",
    "#             multinomial_sample = np.random.multinomial(n,pvals=pval_array)\n",
    "# #             print multinomial_sample\n",
    "#             monte_carlo_estimate_sum += calculate_statistic(data_array,multinomial_sample,idx)\n",
    "#         subsample_estimate_sum += monte_carlo_estimate_sum*1.0/r\n",
    "    \n",
    "#     return subsample_estimate_sum*1.0/s\n",
    "            \n",
    "    \n",
    "# %time print blb_main(data,calculate_avg_statistic)"
   ]
  }
 ],
 "metadata": {
  "kernelspec": {
   "display_name": "Python 2",
   "language": "python",
   "name": "python2"
  },
  "language_info": {
   "codemirror_mode": {
    "name": "ipython",
    "version": 2
   },
   "file_extension": ".py",
   "mimetype": "text/x-python",
   "name": "python",
   "nbconvert_exporter": "python",
   "pygments_lexer": "ipython2",
   "version": "2.7.9"
  }
 },
 "nbformat": 4,
 "nbformat_minor": 1
}
