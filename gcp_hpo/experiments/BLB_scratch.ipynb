{
 "cells": [
  {
   "cell_type": "code",
   "execution_count": 1,
   "metadata": {
    "collapsed": false
   },
   "outputs": [],
   "source": [
    "\"\"\"\n",
    "A first implementation of Bag of Little Bootstraps. To be cleaned and updated later.\n",
    "\n",
    "Future possible improvements\n",
    "    - vectorize computations for increased speed\n",
    "\"\"\"\n",
    "\n",
    "import numpy as np"
   ]
  },
  {
   "cell_type": "code",
   "execution_count": 2,
   "metadata": {
    "collapsed": false
   },
   "outputs": [
    {
     "name": "stdout",
     "output_type": "stream",
     "text": [
      "[ 37.50051899  98.89092447  88.68672476 ...,  58.15618765  67.65022582\n",
      "  40.39713016]\n"
     ]
    }
   ],
   "source": [
    "def import_data():\n",
    "    # First test is just averaging a random numpy array\n",
    "    return np.random.rand(500000000)*100\n",
    "\n",
    "data = import_data()\n",
    "print data"
   ]
  },
  {
   "cell_type": "code",
   "execution_count": 3,
   "metadata": {
    "collapsed": false,
    "scrolled": true
   },
   "outputs": [
    {
     "name": "stdout",
     "output_type": "stream",
     "text": [
      "50.0010612009\n",
      "1 loop, best of 1: 1.73 s per loop\n"
     ]
    }
   ],
   "source": [
    "def calculate_average(data_array):\n",
    "    return np.mean(data_array)\n",
    "\n",
    "%timeit -n 1 -r 1 print calculate_average(data)"
   ]
  },
  {
   "cell_type": "code",
   "execution_count": 4,
   "metadata": {
    "collapsed": true
   },
   "outputs": [],
   "source": [
    "#### Define variables ######\n",
    "n = data.shape[0] # Size of data\n",
    "b = int(n**(0.6)) # subset size\n",
    "s = 1 # Number of sampled subsets\n",
    "r = 20 # Number of Monte Carlo iterations"
   ]
  },
  {
   "cell_type": "code",
   "execution_count": 5,
   "metadata": {
    "collapsed": false
   },
   "outputs": [
    {
     "data": {
      "text/plain": [
       "50.036407570010027"
      ]
     },
     "execution_count": 5,
     "metadata": {},
     "output_type": "execute_result"
    }
   ],
   "source": [
    "def calculate_avg_statistic(original_data,sample,indices):\n",
    "    \"\"\"\n",
    "    Calculates mean according to arguments below\n",
    "    \n",
    "    Args:\n",
    "        original_data:  original data\n",
    "        sample:         multinomial sample. contains number of times that each of the b samples\n",
    "                        is sampled\n",
    "        indices:        indices of the data used from the original data\n",
    "    \"\"\"\n",
    "    new_data = original_data[indices]\n",
    "    return np.sum(np.multiply(sample,new_data))/n\n",
    "    \n",
    "calculate_avg_statistic(data,np.random.multinomial(n,pvals=[1.0/b for i in range(b)]),\\\n",
    "                       np.random.randint(n,size=b))"
   ]
  },
  {
   "cell_type": "code",
   "execution_count": 6,
   "metadata": {
    "collapsed": false
   },
   "outputs": [
    {
     "name": "stdout",
     "output_type": "stream",
     "text": [
      "49.9741745039\n",
      "49.9628180205\n",
      "50.046921494\n",
      "50.0204673093\n",
      "50.0315773615\n",
      "50.0164464071\n",
      "49.922004488\n",
      "50.0470895312\n",
      "50.1184782376\n",
      "3 loops, best of 3: 483 ms per loop\n"
     ]
    }
   ],
   "source": [
    "# TODO check algorithm correctness again\n",
    "# TODO find more ways to speed up code\n",
    "    # could use iterators instead of for loops\n",
    "    # could use Cython, Pypy\n",
    "# It still seems like the overhead of the function itself is quite low, the big thing is just\n",
    "# calculating the score\n",
    "\n",
    "def blb_main(data_array,calculate_statistic):\n",
    "    subsample_estimate_sum = 0.0\n",
    "    pval_array = np.ones(b)/float(b)\n",
    "    # Randomly sample subset of indices\n",
    "    idx = np.random.randint(low=0,high=n,size=(s,b))\n",
    "    for j in range(s):\n",
    "        # Approximate the measure\n",
    "        monte_carlo_estimate_sum= 0.0\n",
    "        multinomial_sample = np.random.multinomial(n,pvals=pval_array,size=r)\n",
    "        for k in range(r):\n",
    "            monte_carlo_estimate_sum += calculate_statistic(data_array,multinomial_sample[k,]\\\n",
    "                                                            ,idx[j,])\n",
    "        subsample_estimate_sum += monte_carlo_estimate_sum/float(r)\n",
    "    \n",
    "    return subsample_estimate_sum/float(s)\n",
    "            \n",
    "    \n",
    "%timeit -n 3 -r 3 print blb_main(data,calculate_avg_statistic)"
   ]
  },
  {
   "cell_type": "code",
   "execution_count": 7,
   "metadata": {
    "collapsed": false
   },
   "outputs": [
    {
     "data": {
      "text/plain": [
       "1228228.0261157893"
      ]
     },
     "execution_count": 7,
     "metadata": {},
     "output_type": "execute_result"
    }
   ],
   "source": [
    "n**(0.7)"
   ]
  },
  {
   "cell_type": "code",
   "execution_count": 8,
   "metadata": {
    "collapsed": true
   },
   "outputs": [],
   "source": [
    "# OLD VERSION ####\n",
    "\n",
    "# def blb_main(data_array,calculate_statistic):\n",
    "#     subsample_estimate_sum = 0.0\n",
    "#     pval_array = [1.0/b for i in range(b)]\n",
    "#     for j in range(s):\n",
    "#         # Randomly sample subset of indices\n",
    "#         idx = np.random.randint(n,size=b)\n",
    "#         # Approximate the measure\n",
    "#         monte_carlo_estimate_sum= 0.0\n",
    "#         for k in range(r):\n",
    "#             multinomial_sample = np.random.multinomial(n,pvals=pval_array)\n",
    "# #             print multinomial_sample\n",
    "#             monte_carlo_estimate_sum += calculate_statistic(data_array,multinomial_sample,idx)\n",
    "#         subsample_estimate_sum += monte_carlo_estimate_sum*1.0/r\n",
    "    \n",
    "#     return subsample_estimate_sum*1.0/s\n",
    "            \n",
    "    \n",
    "# %time print blb_main(data,calculate_avg_statistic)"
   ]
  }
 ],
 "metadata": {
  "kernelspec": {
   "display_name": "Python 2",
   "language": "python",
   "name": "python2"
  },
  "language_info": {
   "codemirror_mode": {
    "name": "ipython",
    "version": 2
   },
   "file_extension": ".py",
   "mimetype": "text/x-python",
   "name": "python",
   "nbconvert_exporter": "python",
   "pygments_lexer": "ipython2",
   "version": "2.7.9"
  }
 },
 "nbformat": 4,
 "nbformat_minor": 1
}
